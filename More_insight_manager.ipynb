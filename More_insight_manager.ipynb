{
 "cells": [
  {
   "cell_type": "markdown",
   "metadata": {
    "deletable": true,
    "editable": true
   },
   "source": [
    "Hello there, everyone.  I did a brief analysis on the \"managers\" since at first glance the average \"interest level\" seemed to differ substantially from one to another . \n",
    "\n",
    "Anyway, let me know what you think about it and like this notebook if you enjoyed reading it (it's my 1st one, be nice :D)"
   ]
  },
  {
   "cell_type": "code",
   "execution_count": null,
   "metadata": {
    "collapsed": true,
    "deletable": true,
    "editable": true
   },
   "outputs": [],
   "source": [
    "# let's load the usual packages first\n",
    "import numpy as np\n",
    "import pandas as pd\n",
    "import matplotlib.pyplot as plt\n",
    "\n",
    "%matplotlib inline"
   ]
  },
  {
   "cell_type": "markdown",
   "metadata": {
    "deletable": true,
    "editable": true
   },
   "source": [
    "... and get the data..."
   ]
  },
  {
   "cell_type": "code",
   "execution_count": null,
   "metadata": {
    "collapsed": true,
    "deletable": true,
    "editable": true
   },
   "outputs": [],
   "source": [
    "train_df = pd.read_json('../input/train.json')\n",
    "test_df = pd.read_json('../input/test.json')"
   ]
  },
  {
   "cell_type": "markdown",
   "metadata": {
    "deletable": true,
    "editable": true
   },
   "source": [
    "First of all, let's see how many different managers we have on both datasets."
   ]
  },
  {
   "cell_type": "code",
   "execution_count": null,
   "metadata": {
    "collapsed": true,
    "deletable": true,
    "editable": true
   },
   "outputs": [],
   "source": [
    "man_train_list = train_df.manager_id.unique()\n",
    "man_test_list = test_df.manager_id.unique()\n",
    "print(\"Train: {0}\".format(len(man_train_list)))\n",
    "print(\"Test: {0}\".format(len(man_test_list)))"
   ]
  },
  {
   "cell_type": "markdown",
   "metadata": {
    "deletable": true,
    "editable": true
   },
   "source": [
    "There are more managers in the test dataset, which also features more records.\n",
    "\n",
    "Let's create a dataframe with all the train and test managers, including the number of entries they are responsible for."
   ]
  },
  {
   "cell_type": "code",
   "execution_count": null,
   "metadata": {
    "collapsed": true,
    "deletable": true,
    "editable": true
   },
   "outputs": [],
   "source": [
    "temp1 = train_df.groupby('manager_id').count().iloc[:,-1]\n",
    "temp2 = test_df.groupby('manager_id').count().iloc[:,-1]\n",
    "df_managers = pd.concat([temp1,temp2], axis = 1, join = 'outer')\n",
    "df_managers.columns = ['train_count','test_count']\n",
    "print(df_managers.head(20))"
   ]
  },
  {
   "cell_type": "markdown",
   "metadata": {
    "deletable": true,
    "editable": true
   },
   "source": [
    "Some managers have entries only in one of the two datasets. But as we will see later, these managers have only very few entries.\n",
    "\n",
    "Indeed, a minority of managers are responsible for most of the entries of both dataset"
   ]
  },
  {
   "cell_type": "code",
   "execution_count": null,
   "metadata": {
    "collapsed": true,
    "deletable": true,
    "editable": true
   },
   "outputs": [],
   "source": [
    "print(df_managers.sort_values(by = 'train_count', ascending = False).head(10))"
   ]
  },
  {
   "cell_type": "markdown",
   "metadata": {
    "deletable": true,
    "editable": true
   },
   "source": [
    "This is more clear if one looks at the plots for the cumulative distributions."
   ]
  },
  {
   "cell_type": "code",
   "execution_count": null,
   "metadata": {
    "collapsed": true,
    "deletable": true,
    "editable": true
   },
   "outputs": [],
   "source": [
    "fig, axes = plt.subplots(1,2, figsize = (12,5))\n",
    "temp = df_managers['train_count'].dropna().sort_values(ascending = False).reset_index(drop = True)\n",
    "axes[0].plot(temp.index+1, temp.cumsum()/temp.sum())\n",
    "axes[0].set_title('cumulative train_count')\n",
    "\n",
    "temp = df_managers['test_count'].dropna().sort_values(ascending = False).reset_index(drop = True)\n",
    "axes[1].plot(temp.index+1, temp.cumsum()/temp.sum())\n",
    "axes[1].set_title('cumulative test_count')"
   ]
  },
  {
   "cell_type": "markdown",
   "metadata": {
    "deletable": true,
    "editable": true
   },
   "source": [
    "The Pareto principle, i.e. the 80/20 rule, seems to apply here. As 20% of the managers are roughly responsible for roughly 80% of the entries."
   ]
  },
  {
   "cell_type": "code",
   "execution_count": null,
   "metadata": {
    "collapsed": true,
    "deletable": true,
    "editable": true
   },
   "outputs": [],
   "source": [
    "ix20 = int(len(df_managers['train_count'].dropna())*0.2)\n",
    "print(\"TRAIN: 20% of managers ({0}) responsible for {1:2.2f}% of entries\".format(ix20,df_managers['train_count'].sort_values(ascending = False).cumsum().iloc[ix20]/df_managers['train_count'].sum()*100))\n",
    "\n",
    "ix20 = int(len(df_managers['test_count'].dropna())*0.2)\n",
    "print(\"TEST: 20% of managers ({0}) responsible for {1:2.2f}% of entries\".format(ix20, df_managers['test_count'].sort_values(ascending = False).cumsum().iloc[ix20]/df_managers['test_count'].sum()*100))"
   ]
  },
  {
   "cell_type": "markdown",
   "metadata": {
    "deletable": true,
    "editable": true
   },
   "source": [
    "As mentioned before, fortunately, these top contributors are the same for both datasets. The managers featuring in only one of the two datasets usually have very few entries."
   ]
  },
  {
   "cell_type": "code",
   "execution_count": null,
   "metadata": {
    "collapsed": true,
    "deletable": true,
    "editable": true
   },
   "outputs": [],
   "source": [
    "man_not_in_test = set(man_train_list) - set(man_test_list)\n",
    "man_not_in_train = set(man_test_list) - set(man_train_list)\n",
    "\n",
    "print(\"{} managers are featured in train.json but not in test.json\".format(len(man_not_in_test)))\n",
    "print(\"{} managers are featured in test.json but not in train.json\".format(len(man_not_in_train)))"
   ]
  },
  {
   "cell_type": "code",
   "execution_count": null,
   "metadata": {
    "collapsed": true,
    "deletable": true,
    "editable": true
   },
   "outputs": [],
   "source": [
    "print(df_managers.loc[list(man_not_in_test)]['train_count'].describe())\n",
    "print(df_managers.loc[list(man_not_in_train)]['test_count'].describe())"
   ]
  },
  {
   "cell_type": "markdown",
   "metadata": {
    "deletable": true,
    "editable": true
   },
   "source": [
    "Besides, it looks like there is a strong correlation between the number of entries of the contributors in both datasets."
   ]
  },
  {
   "cell_type": "code",
   "execution_count": null,
   "metadata": {
    "collapsed": true,
    "deletable": true,
    "editable": true
   },
   "outputs": [],
   "source": [
    "df_managers.sort_values(by = 'train_count', ascending = False).head(1000).corr()"
   ]
  },
  {
   "cell_type": "code",
   "execution_count": null,
   "metadata": {
    "collapsed": true,
    "deletable": true,
    "editable": true
   },
   "outputs": [],
   "source": [
    "df_managers.sort_values(by = 'train_count', ascending = False).head(100).plot.scatter(x = 'train_count', y = 'test_count')"
   ]
  },
  {
   "cell_type": "markdown",
   "metadata": {
    "deletable": true,
    "editable": true
   },
   "source": [
    "Now let's focus on the training dataset and on the \"interest_level\" of its top 100 contributors.\n",
    "These folks account for a whopping 35% of the entries. The 1st alone for over 5% of them! That's quite a lot. \n",
    "\n",
    "According to the discussion above, similar figures are expected for the test dataset."
   ]
  },
  {
   "cell_type": "code",
   "execution_count": null,
   "metadata": {
    "collapsed": true,
    "deletable": true,
    "editable": true
   },
   "outputs": [],
   "source": [
    "temp = df_managers['train_count'].sort_values(ascending = False).head(100)\n",
    "temp = pd.concat([temp,temp.cumsum()/df_managers['train_count'].sum()*100], axis = 1).reset_index()\n",
    "temp.columns = ['manager_id','count','percentage']\n",
    "print(temp)"
   ]
  },
  {
   "cell_type": "markdown",
   "metadata": {
    "deletable": true,
    "editable": true
   },
   "source": [
    "Let's isolate the entries relative to these 100 managers with the \"interest_level\" column as well. We create dummies from this latter column as they are easier to work with."
   ]
  },
  {
   "cell_type": "code",
   "execution_count": null,
   "metadata": {
    "collapsed": true,
    "deletable": true,
    "editable": true
   },
   "outputs": [],
   "source": [
    "man_list = df_managers['train_count'].sort_values(ascending = False).head(100).index\n",
    "ixes = train_df.manager_id.isin(man_list)\n",
    "df100 = train_df[ixes][['manager_id','interest_level']]\n",
    "interest_dummies = pd.get_dummies(df100.interest_level)\n",
    "df100 = pd.concat([df100,interest_dummies[['low','medium','high']]], axis = 1).drop('interest_level', axis = 1)\n",
    "\n",
    "print(\"The top100 contributors account for {} entries\\n\".format(len(df100)))\n",
    "\n",
    "print(df100.head(10))"
   ]
  },
  {
   "cell_type": "markdown",
   "metadata": {
    "deletable": true,
    "editable": true
   },
   "source": [
    "Before continuing, let's give them some fake identities based on the most common first and last names in the US."
   ]
  },
  {
   "cell_type": "code",
   "execution_count": null,
   "metadata": {
    "collapsed": true,
    "deletable": true,
    "editable": true
   },
   "outputs": [],
   "source": [
    "import itertools\n",
    "\n",
    "# 50 most common surnames in the 90s (http://surnames.behindthename.com/top/lists/united-states/1990)\n",
    "last_names = ['Smith', 'Johnson', 'Williams', 'Jones', 'Brown', 'Davis', 'Miller', 'Wilson', 'Moore', \n",
    " 'Taylor', 'Anderson', 'Thomas', 'Jackson', 'White', 'Harris', 'Martin', 'Thompson', 'Garcia', \n",
    " 'Martinez', 'Robinson', 'Clark', 'Rodriguez', 'Lewis', 'Lee', 'Walker', 'Hall', 'Allen', 'Young',\n",
    " 'Hernandez', 'King', 'Wright', 'Lopez', 'Hill', 'Scott', 'Green', 'Adams', 'Baker', 'Gonzalez', 'Nelson', \n",
    " 'Carter', 'Mitchell', 'Perez', 'Roberts', 'Turner', 'Phillips', 'Campbell', 'Parker', 'Evans', 'Edwards', 'Collins']\n",
    "\n",
    "# 10 most common first names for females and males (names.mongabay.com) \n",
    "first_names = ['Mary',  'Patricia',  'Linda',  'Barbara',  'Elizabeth',  \n",
    "               'Jennifer',  'Maria',  'Susan',  'Margaret',  'Dorothy',\n",
    "               'James', 'John', 'Robert', 'Michael', 'William', 'David',\n",
    "               'Richard', 'Charles', 'Joseph', 'Thomas']\n",
    "\n",
    "names = [first + ' ' + last for first,last in (itertools.product(first_names, last_names))]\n",
    "\n",
    "# shuffle them\n",
    "np.random.seed(12345)\n",
    "np.random.shuffle(names)\n",
    "\n",
    "dictionary = dict(zip(man_list, names))\n",
    "df100.loc[df100.manager_id.isin(dictionary), 'manager_id' ] = df100['manager_id'].map(dictionary)\n",
    "print(df100.head())"
   ]
  },
  {
   "cell_type": "code",
   "execution_count": null,
   "metadata": {
    "collapsed": true,
    "deletable": true,
    "editable": true
   },
   "outputs": [],
   "source": [
    "# see if the name coincides\n",
    "print(names[:10])\n",
    "print(df100.groupby('manager_id').count().sort_values(by = 'low', ascending = False).head(10))"
   ]
  },
  {
   "cell_type": "markdown",
   "metadata": {
    "deletable": true,
    "editable": true
   },
   "source": [
    "Splendid... we have their names now, so let's proceed and compute their average performances in terms of \"interest level\" so we can spot who's a pro and who's not. "
   ]
  },
  {
   "cell_type": "code",
   "execution_count": null,
   "metadata": {
    "collapsed": true,
    "deletable": true,
    "editable": true
   },
   "outputs": [],
   "source": [
    "gby = pd.concat([df100.groupby('manager_id').mean(),df100.groupby('manager_id').count()], axis = 1).iloc[:,:-2]\n",
    "gby.columns = ['low','medium','high','count']\n",
    "gby.sort_values(by = 'count', ascending = False).head(10)"
   ]
  },
  {
   "cell_type": "markdown",
   "metadata": {
    "deletable": true,
    "editable": true
   },
   "source": [
    "Their performances seem very different, even for people with similar number of entries.\n",
    "\n",
    "Indeed they are.."
   ]
  },
  {
   "cell_type": "code",
   "execution_count": null,
   "metadata": {
    "collapsed": true,
    "deletable": true,
    "editable": true
   },
   "outputs": [],
   "source": [
    "gby.sort_values(by = 'count', ascending = False).drop('count', axis = 1).plot(kind = 'bar', stacked = True, figsize = (15,5))\n",
    "plt.figure()\n",
    "gby.sort_values(by = 'count', ascending = False)['count'].plot(kind = 'bar', figsize = (15,5))"
   ]
  },
  {
   "cell_type": "markdown",
   "metadata": {
    "deletable": true,
    "editable": true
   },
   "source": [
    "I think this high diversity should be accounted for when building our predictive model! \n",
    "\n",
    "It would be interesting to rank the managers based on their intereset levels. For instance, we could compute their \"skill\" by assigning 0 points for \"lows\", 1 for \"mediums\" and 2 for \"highs\". Since they have different number of entries, let's quickly do so by multiplying the average results."
   ]
  },
  {
   "cell_type": "code",
   "execution_count": null,
   "metadata": {
    "collapsed": true,
    "deletable": true,
    "editable": true
   },
   "outputs": [],
   "source": [
    "gby['skill'] = gby['medium']*1 + gby['high']*2 \n",
    "\n",
    "print(\"Top performers\")\n",
    "print(gby.sort_values(by = 'skill', ascending = False).reset_index().head())\n",
    "print(\"\\nWorst performers\")\n",
    "print(gby.sort_values(by = 'skill', ascending = False).reset_index().tail())"
   ]
  },
  {
   "cell_type": "markdown",
   "metadata": {
    "deletable": true,
    "editable": true
   },
   "source": [
    "Dorothy Turner and Dorothy Lopez are rocking it! Poor Dorothy Martinez instead should consider moving to another industry... 402 entries, all of them uninspiring (btw I did not pick the random seed to have all the Dorothies here...).\n",
    "\n",
    "I won't go deeper to try to explain why these performances are so different. It seems though like most of the managers do a poor job (I am sure it ain't their fault, is just that the properties they handle are not that cool after all...).\n",
    "\n",
    "Cheers!\n",
    "\n",
    "p.s.: I did a similar analysis on \"building_id\" here --> https://www.kaggle.com/den3b81/two-sigma-connect-rental-listing-inquiries/some-insights-on-building-id"
   ]
  },
  {
   "cell_type": "code",
   "execution_count": null,
   "metadata": {
    "collapsed": true,
    "deletable": true,
    "editable": true
   },
   "outputs": [],
   "source": [
    "gby.skill.plot(kind = 'hist')\n",
    "print(gby.mean())"
   ]
  }
 ],
 "metadata": {
  "kernelspec": {
   "display_name": "Python 2",
   "language": "python",
   "name": "python2"
  },
  "language_info": {
   "codemirror_mode": {
    "name": "ipython",
    "version": 2
   },
   "file_extension": ".py",
   "mimetype": "text/x-python",
   "name": "python",
   "nbconvert_exporter": "python",
   "pygments_lexer": "ipython2",
   "version": "2.7.13"
  }
 },
 "nbformat": 4,
 "nbformat_minor": 0
}
