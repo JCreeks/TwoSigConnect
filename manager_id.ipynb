{
 "cells": [
  {
   "cell_type": "markdown",
   "metadata": {
    "deletable": true,
    "editable": true
   },
   "source": [
    "(This post has been edited after Philippe Lonjoux's insightful comment. The amendments I made are highlighted in my answer to his comment.)\n",
    "\n",
    "\n",
    "Hello there!\n",
    "\n",
    "This notebook exploits the analysis I did [here][1] to boost the performance of a classifier.\n",
    "\n",
    "In particular, I will show how additional features computed from 'manager_id' can substantially improve performances by building upon the neat [\"Random Forest Starter\"][2] by Li Li\n",
    "\n",
    "  [1]: https://www.kaggle.com/den3b81/two-sigma-connect-rental-listing-inquiries/do-managers-matter-some-insights-on-manager-id\n",
    "  [2]: https://www.kaggle.com/aikinogard/two-sigma-connect-rental-listing-inquiries/random-forest-starter-with-numerical-features"
   ]
  },
  {
   "cell_type": "code",
   "execution_count": 7,
   "metadata": {
    "collapsed": false,
    "deletable": true,
    "editable": true
   },
   "outputs": [],
   "source": [
    "# ...let's import the modules\n",
    "import numpy as np\n",
    "import pandas as pd\n",
    "from sklearn.ensemble import RandomForestClassifier\n",
    "from sklearn.cross_validation import train_test_split\n",
    "from sklearn.metrics import log_loss\n",
    "\n",
    "import matplotlib.pyplot as plt\n",
    "%matplotlib inline"
   ]
  },
  {
   "cell_type": "code",
   "execution_count": 2,
   "metadata": {
    "collapsed": true,
    "deletable": true,
    "editable": true
   },
   "outputs": [],
   "source": [
    "# ... and load the training data\n",
    "df = pd.read_json(open(\"../input/train.json\", \"r\"))"
   ]
  },
  {
   "cell_type": "markdown",
   "metadata": {
    "deletable": true,
    "editable": true
   },
   "source": [
    "### Naive feature engineering (from Li Li's Random Forest Starter)"
   ]
  },
  {
   "cell_type": "code",
   "execution_count": 3,
   "metadata": {
    "collapsed": true,
    "deletable": true,
    "editable": true
   },
   "outputs": [],
   "source": [
    "df[\"num_photos\"] = df[\"photos\"].apply(len)\n",
    "df[\"num_features\"] = df[\"features\"].apply(len)\n",
    "df[\"num_description_words\"] = df[\"description\"].apply(lambda x: len(x.split(\" \")))\n",
    "df[\"created\"] = pd.to_datetime(df[\"created\"])\n",
    "df[\"created_year\"] = df[\"created\"].dt.year\n",
    "df[\"created_month\"] = df[\"created\"].dt.month\n",
    "df[\"created_day\"] = df[\"created\"].dt.day\n",
    "\n",
    "features_to_use = [\"bathrooms\", \"bedrooms\", \"latitude\", \"longitude\", \"price\",\n",
    "                   \"num_photos\", \"num_features\", \"num_description_words\",\n",
    "                   \"created_year\", \"created_month\", \"created_day\"]"
   ]
  },
  {
   "cell_type": "markdown",
   "metadata": {
    "deletable": true,
    "editable": true
   },
   "source": [
    "### Basic encoding of 'manager_id', from SRK [\"XGBoost starter\"][1] \n",
    "\n",
    "\n",
    "  [1]: https://www.kaggle.com/sudalairajkumar/two-sigma-connect-rental-listing-inquiries/xgb-starter-in-python"
   ]
  },
  {
   "cell_type": "code",
   "execution_count": 4,
   "metadata": {
    "collapsed": true,
    "deletable": true,
    "editable": true
   },
   "outputs": [],
   "source": [
    "from sklearn import preprocessing\n",
    "\n",
    "lbl = preprocessing.LabelEncoder()\n",
    "lbl.fit(list(df['manager_id'].values))\n",
    "df['manager_id'] = lbl.transform(list(df['manager_id'].values))\n",
    "\n",
    "# let's add this feature\n",
    "features_to_use.append('manager_id')"
   ]
  },
  {
   "cell_type": "markdown",
   "metadata": {
    "deletable": true,
    "editable": true
   },
   "source": [
    "### Let's now add 3 columns contaning the fractions of 'low','medium' and 'high' interest level obtained by each manager in the training dataset. \n",
    "\n",
    "### We also add the simple 'manager_skill' feature I introduced in my [previous notebook][1].\n",
    "\n",
    "### We use mean values for those managers who don't have enough entries for being ranked (minimum = 20 here).\n",
    "\n",
    "\n",
    "----------\n",
    "\n",
    "\n",
    "### As pointed out by Philippe Lonjoux's, since these new features involve the target variable, we split the dataset first so to avoid \"cheating\" during the validation phase. The features are computed for each manager on the training part and the values obtained are then copied for the instances in the validation dataset. \n",
    "\n",
    "\n",
    "  [1]: https://www.kaggle.com/den3b81/two-sigma-connect-rental-listing-inquiries/do-managers-matter-some-insights-on-manager-id."
   ]
  },
  {
   "cell_type": "code",
   "execution_count": 5,
   "metadata": {
    "collapsed": true,
    "deletable": true,
    "editable": true
   },
   "outputs": [],
   "source": [
    "# Let's split the data\n",
    "X = df[features_to_use]\n",
    "y = df[\"interest_level\"]\n",
    "X_train, X_val, y_train, y_val = train_test_split(X, y, test_size=0.33)"
   ]
  },
  {
   "cell_type": "code",
   "execution_count": 6,
   "metadata": {
    "collapsed": false,
    "deletable": true,
    "editable": true
   },
   "outputs": [
    {
     "name": "stdout",
     "output_type": "stream",
     "text": [
      "            high_frac  low_frac  medium_frac  count\n",
      "manager_id                                         \n",
      "3471         0.000000  0.666667     0.333333      3\n",
      "3472         0.666667  0.333333     0.000000      6\n",
      "3473         0.000000  1.000000     0.000000      1\n",
      "3474         0.000000  1.000000     0.000000      1\n",
      "3475         0.000000  0.800000     0.200000      5\n",
      "3476         0.000000  1.000000     0.000000      1\n",
      "3477         0.000000  1.000000     0.000000      7\n",
      "3478         0.000000  1.000000     0.000000      1\n",
      "3479         0.200000  0.800000     0.000000      5\n",
      "3480         0.025000  0.662500     0.312500     80\n"
     ]
    }
   ],
   "source": [
    "# compute fractions and count for each manager\n",
    "temp = pd.concat([X_train.manager_id,pd.get_dummies(y_train)], axis = 1).groupby('manager_id').mean()\n",
    "temp.columns = ['high_frac','low_frac', 'medium_frac']\n",
    "temp['count'] = X_train.groupby('manager_id').count().iloc[:,1]\n",
    "\n",
    "# remember the manager_ids look different because we encoded them in the previous step \n",
    "print(temp.tail(10))"
   ]
  },
  {
   "cell_type": "code",
   "execution_count": 8,
   "metadata": {
    "collapsed": false,
    "deletable": true,
    "editable": true
   },
   "outputs": [
    {
     "name": "stdout",
     "output_type": "stream",
     "text": [
      "high_frac        0.081138\n",
      "low_frac         0.661574\n",
      "medium_frac      0.257288\n",
      "manager_skill    0.419564\n",
      "dtype: float64\n",
      "            high_frac  low_frac  medium_frac  count  manager_skill\n",
      "manager_id                                                        \n",
      "3471         0.081138  0.661574     0.257288      3       0.419564\n",
      "3472         0.081138  0.661574     0.257288      6       0.419564\n",
      "3473         0.081138  0.661574     0.257288      1       0.419564\n",
      "3474         0.081138  0.661574     0.257288      1       0.419564\n",
      "3475         0.081138  0.661574     0.257288      5       0.419564\n",
      "3476         0.081138  0.661574     0.257288      1       0.419564\n",
      "3477         0.081138  0.661574     0.257288      7       0.419564\n",
      "3478         0.081138  0.661574     0.257288      1       0.419564\n",
      "3479         0.081138  0.661574     0.257288      5       0.419564\n",
      "3480         0.025000  0.662500     0.312500     80       0.362500\n"
     ]
    }
   ],
   "source": [
    "# compute skill\n",
    "temp['manager_skill'] = temp['high_frac']*2 + temp['medium_frac']\n",
    "\n",
    "# get ixes for unranked managers...\n",
    "unranked_managers_ixes = temp['count']<20\n",
    "# ... and ranked ones\n",
    "ranked_managers_ixes = ~unranked_managers_ixes\n",
    "\n",
    "# compute mean values from ranked managers and assign them to unranked ones\n",
    "mean_values = temp.loc[ranked_managers_ixes, ['high_frac','low_frac', 'medium_frac','manager_skill']].mean()\n",
    "print(mean_values)\n",
    "temp.loc[unranked_managers_ixes,['high_frac','low_frac', 'medium_frac','manager_skill']] = mean_values.values\n",
    "print(temp.tail(10))"
   ]
  },
  {
   "cell_type": "code",
   "execution_count": 9,
   "metadata": {
    "collapsed": false,
    "deletable": true,
    "editable": true
   },
   "outputs": [
    {
     "data": {
      "text/html": [
       "<div>\n",
       "<table border=\"1\" class=\"dataframe\">\n",
       "  <thead>\n",
       "    <tr style=\"text-align: right;\">\n",
       "      <th></th>\n",
       "      <th>bathrooms</th>\n",
       "      <th>bedrooms</th>\n",
       "      <th>latitude</th>\n",
       "      <th>longitude</th>\n",
       "      <th>price</th>\n",
       "      <th>num_photos</th>\n",
       "      <th>num_features</th>\n",
       "      <th>num_description_words</th>\n",
       "      <th>created_year</th>\n",
       "      <th>created_month</th>\n",
       "      <th>created_day</th>\n",
       "      <th>manager_id</th>\n",
       "      <th>high_frac</th>\n",
       "      <th>low_frac</th>\n",
       "      <th>medium_frac</th>\n",
       "      <th>count</th>\n",
       "      <th>manager_skill</th>\n",
       "    </tr>\n",
       "  </thead>\n",
       "  <tbody>\n",
       "    <tr>\n",
       "      <th>0</th>\n",
       "      <td>2.0</td>\n",
       "      <td>2</td>\n",
       "      <td>40.7698</td>\n",
       "      <td>-73.9839</td>\n",
       "      <td>6195</td>\n",
       "      <td>1</td>\n",
       "      <td>4</td>\n",
       "      <td>104</td>\n",
       "      <td>2016</td>\n",
       "      <td>6</td>\n",
       "      <td>25</td>\n",
       "      <td>1952</td>\n",
       "      <td>0.081138</td>\n",
       "      <td>0.661574</td>\n",
       "      <td>0.257288</td>\n",
       "      <td>19</td>\n",
       "      <td>0.419564</td>\n",
       "    </tr>\n",
       "    <tr>\n",
       "      <th>1</th>\n",
       "      <td>1.0</td>\n",
       "      <td>1</td>\n",
       "      <td>40.7192</td>\n",
       "      <td>-73.9828</td>\n",
       "      <td>2560</td>\n",
       "      <td>4</td>\n",
       "      <td>2</td>\n",
       "      <td>102</td>\n",
       "      <td>2016</td>\n",
       "      <td>6</td>\n",
       "      <td>9</td>\n",
       "      <td>442</td>\n",
       "      <td>0.000000</td>\n",
       "      <td>0.807692</td>\n",
       "      <td>0.192308</td>\n",
       "      <td>26</td>\n",
       "      <td>0.192308</td>\n",
       "    </tr>\n",
       "    <tr>\n",
       "      <th>2</th>\n",
       "      <td>2.0</td>\n",
       "      <td>2</td>\n",
       "      <td>40.7316</td>\n",
       "      <td>-73.9871</td>\n",
       "      <td>4750</td>\n",
       "      <td>0</td>\n",
       "      <td>2</td>\n",
       "      <td>1</td>\n",
       "      <td>2016</td>\n",
       "      <td>6</td>\n",
       "      <td>21</td>\n",
       "      <td>2871</td>\n",
       "      <td>0.051852</td>\n",
       "      <td>0.829630</td>\n",
       "      <td>0.118519</td>\n",
       "      <td>135</td>\n",
       "      <td>0.222222</td>\n",
       "    </tr>\n",
       "    <tr>\n",
       "      <th>3</th>\n",
       "      <td>1.0</td>\n",
       "      <td>2</td>\n",
       "      <td>40.8458</td>\n",
       "      <td>-73.9428</td>\n",
       "      <td>2195</td>\n",
       "      <td>3</td>\n",
       "      <td>0</td>\n",
       "      <td>62</td>\n",
       "      <td>2016</td>\n",
       "      <td>6</td>\n",
       "      <td>17</td>\n",
       "      <td>348</td>\n",
       "      <td>0.084337</td>\n",
       "      <td>0.457831</td>\n",
       "      <td>0.457831</td>\n",
       "      <td>83</td>\n",
       "      <td>0.626506</td>\n",
       "    </tr>\n",
       "    <tr>\n",
       "      <th>4</th>\n",
       "      <td>2.0</td>\n",
       "      <td>5</td>\n",
       "      <td>40.7151</td>\n",
       "      <td>-74.0076</td>\n",
       "      <td>9500</td>\n",
       "      <td>4</td>\n",
       "      <td>2</td>\n",
       "      <td>40</td>\n",
       "      <td>2016</td>\n",
       "      <td>5</td>\n",
       "      <td>4</td>\n",
       "      <td>80</td>\n",
       "      <td>0.081138</td>\n",
       "      <td>0.661574</td>\n",
       "      <td>0.257288</td>\n",
       "      <td>17</td>\n",
       "      <td>0.419564</td>\n",
       "    </tr>\n",
       "  </tbody>\n",
       "</table>\n",
       "</div>"
      ],
      "text/plain": [
       "   bathrooms  bedrooms  latitude  longitude  price  num_photos  num_features  \\\n",
       "0        2.0         2   40.7698   -73.9839   6195           1             4   \n",
       "1        1.0         1   40.7192   -73.9828   2560           4             2   \n",
       "2        2.0         2   40.7316   -73.9871   4750           0             2   \n",
       "3        1.0         2   40.8458   -73.9428   2195           3             0   \n",
       "4        2.0         5   40.7151   -74.0076   9500           4             2   \n",
       "\n",
       "   num_description_words  created_year  created_month  created_day  \\\n",
       "0                    104          2016              6           25   \n",
       "1                    102          2016              6            9   \n",
       "2                      1          2016              6           21   \n",
       "3                     62          2016              6           17   \n",
       "4                     40          2016              5            4   \n",
       "\n",
       "   manager_id  high_frac  low_frac  medium_frac  count  manager_skill  \n",
       "0        1952   0.081138  0.661574     0.257288     19       0.419564  \n",
       "1         442   0.000000  0.807692     0.192308     26       0.192308  \n",
       "2        2871   0.051852  0.829630     0.118519    135       0.222222  \n",
       "3         348   0.084337  0.457831     0.457831     83       0.626506  \n",
       "4          80   0.081138  0.661574     0.257288     17       0.419564  "
      ]
     },
     "execution_count": 9,
     "metadata": {},
     "output_type": "execute_result"
    }
   ],
   "source": [
    "# inner join to assign manager features to the managers in the training dataframe\n",
    "X_train = X_train.merge(temp.reset_index(),how='left', left_on='manager_id', right_on='manager_id')\n",
    "X_train.head()"
   ]
  },
  {
   "cell_type": "code",
   "execution_count": 10,
   "metadata": {
    "collapsed": false,
    "deletable": true,
    "editable": true
   },
   "outputs": [
    {
     "data": {
      "text/html": [
       "<div>\n",
       "<table border=\"1\" class=\"dataframe\">\n",
       "  <thead>\n",
       "    <tr style=\"text-align: right;\">\n",
       "      <th></th>\n",
       "      <th>bathrooms</th>\n",
       "      <th>bedrooms</th>\n",
       "      <th>latitude</th>\n",
       "      <th>longitude</th>\n",
       "      <th>price</th>\n",
       "      <th>num_photos</th>\n",
       "      <th>num_features</th>\n",
       "      <th>num_description_words</th>\n",
       "      <th>created_year</th>\n",
       "      <th>created_month</th>\n",
       "      <th>created_day</th>\n",
       "      <th>manager_id</th>\n",
       "      <th>high_frac</th>\n",
       "      <th>low_frac</th>\n",
       "      <th>medium_frac</th>\n",
       "      <th>count</th>\n",
       "      <th>manager_skill</th>\n",
       "    </tr>\n",
       "  </thead>\n",
       "  <tbody>\n",
       "    <tr>\n",
       "      <th>0</th>\n",
       "      <td>1.0</td>\n",
       "      <td>2</td>\n",
       "      <td>40.8775</td>\n",
       "      <td>-73.8800</td>\n",
       "      <td>1695</td>\n",
       "      <td>4</td>\n",
       "      <td>2</td>\n",
       "      <td>26</td>\n",
       "      <td>2016</td>\n",
       "      <td>6</td>\n",
       "      <td>9</td>\n",
       "      <td>1356</td>\n",
       "      <td>0.081138</td>\n",
       "      <td>0.661574</td>\n",
       "      <td>0.257288</td>\n",
       "      <td>11.0</td>\n",
       "      <td>0.419564</td>\n",
       "    </tr>\n",
       "    <tr>\n",
       "      <th>1</th>\n",
       "      <td>2.0</td>\n",
       "      <td>4</td>\n",
       "      <td>40.7539</td>\n",
       "      <td>-73.9666</td>\n",
       "      <td>6200</td>\n",
       "      <td>5</td>\n",
       "      <td>6</td>\n",
       "      <td>89</td>\n",
       "      <td>2016</td>\n",
       "      <td>5</td>\n",
       "      <td>11</td>\n",
       "      <td>1411</td>\n",
       "      <td>0.101695</td>\n",
       "      <td>0.372881</td>\n",
       "      <td>0.525424</td>\n",
       "      <td>59.0</td>\n",
       "      <td>0.728814</td>\n",
       "    </tr>\n",
       "    <tr>\n",
       "      <th>2</th>\n",
       "      <td>1.0</td>\n",
       "      <td>1</td>\n",
       "      <td>40.7412</td>\n",
       "      <td>-73.9772</td>\n",
       "      <td>3050</td>\n",
       "      <td>3</td>\n",
       "      <td>5</td>\n",
       "      <td>123</td>\n",
       "      <td>2016</td>\n",
       "      <td>4</td>\n",
       "      <td>26</td>\n",
       "      <td>147</td>\n",
       "      <td>0.000000</td>\n",
       "      <td>0.821429</td>\n",
       "      <td>0.178571</td>\n",
       "      <td>28.0</td>\n",
       "      <td>0.178571</td>\n",
       "    </tr>\n",
       "    <tr>\n",
       "      <th>3</th>\n",
       "      <td>2.0</td>\n",
       "      <td>3</td>\n",
       "      <td>40.7436</td>\n",
       "      <td>-73.9727</td>\n",
       "      <td>4280</td>\n",
       "      <td>4</td>\n",
       "      <td>12</td>\n",
       "      <td>87</td>\n",
       "      <td>2016</td>\n",
       "      <td>5</td>\n",
       "      <td>9</td>\n",
       "      <td>1788</td>\n",
       "      <td>0.000000</td>\n",
       "      <td>0.915493</td>\n",
       "      <td>0.084507</td>\n",
       "      <td>142.0</td>\n",
       "      <td>0.084507</td>\n",
       "    </tr>\n",
       "    <tr>\n",
       "      <th>4</th>\n",
       "      <td>1.0</td>\n",
       "      <td>0</td>\n",
       "      <td>40.7344</td>\n",
       "      <td>-74.0056</td>\n",
       "      <td>2500</td>\n",
       "      <td>4</td>\n",
       "      <td>2</td>\n",
       "      <td>62</td>\n",
       "      <td>2016</td>\n",
       "      <td>5</td>\n",
       "      <td>13</td>\n",
       "      <td>225</td>\n",
       "      <td>0.084746</td>\n",
       "      <td>0.745763</td>\n",
       "      <td>0.169492</td>\n",
       "      <td>118.0</td>\n",
       "      <td>0.338983</td>\n",
       "    </tr>\n",
       "  </tbody>\n",
       "</table>\n",
       "</div>"
      ],
      "text/plain": [
       "   bathrooms  bedrooms  latitude  longitude  price  num_photos  num_features  \\\n",
       "0        1.0         2   40.8775   -73.8800   1695           4             2   \n",
       "1        2.0         4   40.7539   -73.9666   6200           5             6   \n",
       "2        1.0         1   40.7412   -73.9772   3050           3             5   \n",
       "3        2.0         3   40.7436   -73.9727   4280           4            12   \n",
       "4        1.0         0   40.7344   -74.0056   2500           4             2   \n",
       "\n",
       "   num_description_words  created_year  created_month  created_day  \\\n",
       "0                     26          2016              6            9   \n",
       "1                     89          2016              5           11   \n",
       "2                    123          2016              4           26   \n",
       "3                     87          2016              5            9   \n",
       "4                     62          2016              5           13   \n",
       "\n",
       "   manager_id  high_frac  low_frac  medium_frac  count  manager_skill  \n",
       "0        1356   0.081138  0.661574     0.257288   11.0       0.419564  \n",
       "1        1411   0.101695  0.372881     0.525424   59.0       0.728814  \n",
       "2         147   0.000000  0.821429     0.178571   28.0       0.178571  \n",
       "3        1788   0.000000  0.915493     0.084507  142.0       0.084507  \n",
       "4         225   0.084746  0.745763     0.169492  118.0       0.338983  "
      ]
     },
     "execution_count": 10,
     "metadata": {},
     "output_type": "execute_result"
    }
   ],
   "source": [
    "# add the features computed on the training dataset to the validation dataset\n",
    "X_val = X_val.merge(temp.reset_index(),how='left', left_on='manager_id', right_on='manager_id')\n",
    "new_manager_ixes = X_val['high_frac'].isnull()\n",
    "X_val.loc[new_manager_ixes,['high_frac','low_frac', 'medium_frac','manager_skill']] = mean_values.values\n",
    "X_val.head()"
   ]
  },
  {
   "cell_type": "code",
   "execution_count": 13,
   "metadata": {
    "collapsed": true,
    "deletable": true,
    "editable": true
   },
   "outputs": [],
   "source": [
    "# add manager fractions and skills to the features to use\n",
    "features_to_use.extend(['high_frac','low_frac', 'medium_frac','manager_skill'])"
   ]
  },
  {
   "cell_type": "markdown",
   "metadata": {
    "deletable": true,
    "editable": true
   },
   "source": [
    "### Let's train and validate a few random forest classifiers to see whether we can improve performances with thee additional features"
   ]
  },
  {
   "cell_type": "markdown",
   "metadata": {
    "deletable": true,
    "editable": true
   },
   "source": [
    "### Basic model with no manager-related features, this is the model in Li Li's Random Forest Starter"
   ]
  },
  {
   "cell_type": "code",
   "execution_count": 16,
   "metadata": {
    "collapsed": false,
    "deletable": true,
    "editable": true
   },
   "outputs": [
    {
     "data": {
      "text/plain": [
       "0.6304616901027601"
      ]
     },
     "execution_count": 16,
     "metadata": {},
     "output_type": "execute_result"
    }
   ],
   "source": [
    "# features to use for this classifier == only basic numerical\n",
    "these_features = [f for f in features_to_use if f not in ['manager_id','high_frac','low_frac', 'medium_frac','manager_skill']]\n",
    "\n",
    "clf = RandomForestClassifier(n_estimators=1000)\n",
    "clf.fit(X_train[these_features], y_train)\n",
    "y_val_pred = clf.predict_proba(X_val[these_features])\n",
    "log_loss(y_val, y_val_pred)"
   ]
  },
  {
   "cell_type": "code",
   "execution_count": 17,
   "metadata": {
    "collapsed": false,
    "deletable": true,
    "editable": true
   },
   "outputs": [
    {
     "data": {
      "text/plain": [
       "<matplotlib.axes._subplots.AxesSubplot at 0x11ff81ad0>"
      ]
     },
     "execution_count": 17,
     "metadata": {},
     "output_type": "execute_result"
    },
    {
     "data": {
      "image/png": "[encoded data removed]",
      "text/plain": [
       "<matplotlib.figure.Figure at 0x120ae0250>"
      ]
     },
     "metadata": {},
     "output_type": "display_data"
    }
   ],
   "source": [
    "# Let's visualize features importance, \n",
    "# price is the most important feature, followed by number of descriptive words, latitude and longitude\n",
    "pd.Series(index = these_features, data = clf.feature_importances_).sort_values().plot(kind = 'bar')"
   ]
  },
  {
   "cell_type": "markdown",
   "metadata": {
    "deletable": true,
    "editable": true
   },
   "source": [
    "### Let's add manager_id and see if we can get some improvement already"
   ]
  },
  {
   "cell_type": "code",
   "execution_count": 18,
   "metadata": {
    "collapsed": false,
    "deletable": true,
    "editable": true
   },
   "outputs": [
    {
     "data": {
      "text/plain": [
       "0.62590615880390965"
      ]
     },
     "execution_count": 18,
     "metadata": {},
     "output_type": "execute_result"
    }
   ],
   "source": [
    "# add manager_id\n",
    "these_features = [f for f in features_to_use if f not in ['high_frac','low_frac', 'medium_frac','manager_skill']]\n",
    "\n",
    "clf = RandomForestClassifier(n_estimators=1000)\n",
    "clf.fit(X_train[these_features], y_train)\n",
    "y_val_pred = clf.predict_proba(X_val[these_features])\n",
    "log_loss(y_val, y_val_pred)"
   ]
  },
  {
   "cell_type": "code",
   "execution_count": 19,
   "metadata": {
    "collapsed": false,
    "deletable": true,
    "editable": true
   },
   "outputs": [
    {
     "data": {
      "text/plain": [
       "<matplotlib.axes._subplots.AxesSubplot at 0x12f384c10>"
      ]
     },
     "execution_count": 19,
     "metadata": {},
     "output_type": "execute_result"
    },
    {
     "data": {
      "image/png": "[encoded data removed]",
      "text/plain": [
       "<matplotlib.figure.Figure at 0x12f60efd0>"
      ]
     },
     "metadata": {},
     "output_type": "display_data"
    }
   ],
   "source": [
    "# Let's visualize features importance\n",
    "pd.Series(index = these_features, data = clf.feature_importances_).sort_values().plot(kind = 'bar')"
   ]
  },
  {
   "cell_type": "markdown",
   "metadata": {
    "deletable": true,
    "editable": true
   },
   "source": [
    "### We get a small improvement, but we can do better. Let's remove 'manager_id' and use manager interest fractions and skill instead"
   ]
  },
  {
   "cell_type": "code",
   "execution_count": 20,
   "metadata": {
    "collapsed": false,
    "deletable": true,
    "editable": true
   },
   "outputs": [
    {
     "data": {
      "text/plain": [
       "0.62193070306469"
      ]
     },
     "execution_count": 20,
     "metadata": {},
     "output_type": "execute_result"
    }
   ],
   "source": [
    "# no manager_id, use fractions and skill instad\n",
    "these_features = [f for f in features_to_use if f not in ['manager_id']]\n",
    "\n",
    "clf = RandomForestClassifier(n_estimators=1000)\n",
    "clf.fit(X_train[these_features], y_train)\n",
    "y_val_pred = clf.predict_proba(X_val[these_features])\n",
    "log_loss(y_val, y_val_pred)"
   ]
  },
  {
   "cell_type": "code",
   "execution_count": 21,
   "metadata": {
    "collapsed": false,
    "deletable": true,
    "editable": true
   },
   "outputs": [
    {
     "data": {
      "text/plain": [
       "<matplotlib.axes._subplots.AxesSubplot at 0x128dfe410>"
      ]
     },
     "execution_count": 21,
     "metadata": {},
     "output_type": "execute_result"
    },
    {
     "data": {
      "image/png": "[encoded data removed]",
      "text/plain": [
       "<matplotlib.figure.Figure at 0x128dfe810>"
      ]
     },
     "metadata": {},
     "output_type": "display_data"
    }
   ],
   "source": [
    "# Let's visualize features importance\n",
    "pd.Series(index = these_features, data = clf.feature_importances_).sort_values().plot(kind = 'bar')"
   ]
  },
  {
   "cell_type": "markdown",
   "metadata": {
    "deletable": true,
    "editable": true
   },
   "source": [
    "### That's an improvement, but maybe we can do better if we just use the fractions."
   ]
  },
  {
   "cell_type": "code",
   "execution_count": 22,
   "metadata": {
    "collapsed": false,
    "deletable": true,
    "editable": true
   },
   "outputs": [
    {
     "data": {
      "text/plain": [
       "0.61707297640694447"
      ]
     },
     "execution_count": 22,
     "metadata": {},
     "output_type": "execute_result"
    }
   ],
   "source": [
    "# no manager_id, no skill, use fractions\n",
    "these_features = [f for f in features_to_use if f not in ['manager_id','manager_skill']]\n",
    "\n",
    "clf = RandomForestClassifier(n_estimators=1000)\n",
    "clf.fit(X_train[these_features], y_train)\n",
    "y_val_pred = clf.predict_proba(X_val[these_features])\n",
    "log_loss(y_val, y_val_pred)"
   ]
  },
  {
   "cell_type": "code",
   "execution_count": 23,
   "metadata": {
    "collapsed": false,
    "deletable": true,
    "editable": true
   },
   "outputs": [
    {
     "data": {
      "text/plain": [
       "<matplotlib.axes._subplots.AxesSubplot at 0x128d85090>"
      ]
     },
     "execution_count": 23,
     "metadata": {},
     "output_type": "execute_result"
    },
    {
     "data": {
      "image/png": "[encoded data removed]",
      "text/plain": [
       "<matplotlib.figure.Figure at 0x128eee250>"
      ]
     },
     "metadata": {},
     "output_type": "display_data"
    }
   ],
   "source": [
    "# Let's visualize features importance\n",
    "pd.Series(index = these_features, data = clf.feature_importances_).sort_values().plot(kind = 'bar')"
   ]
  },
  {
   "cell_type": "markdown",
   "metadata": {
    "deletable": true,
    "editable": true
   },
   "source": [
    "### What if we use the manager skill and not the fractions?!"
   ]
  },
  {
   "cell_type": "code",
   "execution_count": 24,
   "metadata": {
    "collapsed": false,
    "deletable": true,
    "editable": true
   },
   "outputs": [
    {
     "data": {
      "text/plain": [
       "0.61267429668356044"
      ]
     },
     "execution_count": 24,
     "metadata": {},
     "output_type": "execute_result"
    }
   ],
   "source": [
    "# no manager_id, no fraction, use skill instead\n",
    "these_features = [f for f in features_to_use if f not in ['manager_id','high_frac','low_frac', 'medium_frac']]\n",
    "\n",
    "clf = RandomForestClassifier(n_estimators=1000)\n",
    "clf.fit(X_train[these_features], y_train)\n",
    "y_val_pred = clf.predict_proba(X_val[these_features])\n",
    "log_loss(y_val, y_val_pred)"
   ]
  },
  {
   "cell_type": "code",
   "execution_count": 25,
   "metadata": {
    "collapsed": false,
    "deletable": true,
    "editable": true
   },
   "outputs": [
    {
     "data": {
      "text/plain": [
       "<matplotlib.axes._subplots.AxesSubplot at 0x128eafc50>"
      ]
     },
     "execution_count": 25,
     "metadata": {},
     "output_type": "execute_result"
    },
    {
     "data": {
      "image/png": "[encoded data removed]",
      "text/plain": [
       "<matplotlib.figure.Figure at 0x128de0910>"
      ]
     },
     "metadata": {},
     "output_type": "display_data"
    }
   ],
   "source": [
    "# Let's visualize features importance\n",
    "pd.Series(index = these_features, data = clf.feature_importances_).sort_values().plot(kind = 'bar')"
   ]
  },
  {
   "cell_type": "markdown",
   "metadata": {
    "deletable": true,
    "editable": true
   },
   "source": [
    "### Oh cool, manager_skill still does boost our performances further and it is almost as important as the price feature.\n",
    "\n",
    "### Therefore, I suggest you to use this feature in your classifier, no matter its nature. I am confident you gonna get a nice boost if you are not including similar features already in your model.\n",
    "\n",
    "\n",
    "### Cheers"
   ]
  }
 ],
 "metadata": {
  "kernelspec": {
   "display_name": "Python 2",
   "language": "python",
   "name": "python2"
  },
  "language_info": {
   "codemirror_mode": {
    "name": "ipython",
    "version": 2
   },
   "file_extension": ".py",
   "mimetype": "text/x-python",
   "name": "python",
   "nbconvert_exporter": "python",
   "pygments_lexer": "ipython2",
   "version": "2.7.13"
  }
 },
 "nbformat": 4,
 "nbformat_minor": 0
}
