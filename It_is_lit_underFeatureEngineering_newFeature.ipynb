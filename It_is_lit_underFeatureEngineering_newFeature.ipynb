{
 "cells": [
  {
   "cell_type": "code",
   "execution_count": 1,
   "metadata": {
    "collapsed": false,
    "deletable": true,
    "editable": true
   },
   "outputs": [
    {
     "name": "stderr",
     "output_type": "stream",
     "text": [
      "/Library/Frameworks/Python.framework/Versions/2.7/lib/python2.7/site-packages/sklearn/cross_validation.py:44: DeprecationWarning: This module was deprecated in version 0.18 in favor of the model_selection module into which all the refactored classes and functions are moved. Also note that the interface of the new CV iterators are different from that of this module. This module will be removed in 0.20.\n",
      "  \"This module will be removed in 0.20.\", DeprecationWarning)\n",
      "/Library/Frameworks/Python.framework/Versions/2.7/lib/python2.7/site-packages/sklearn/grid_search.py:43: DeprecationWarning: This module was deprecated in version 0.18 in favor of the model_selection module into which all the refactored classes and functions are moved. This module will be removed in 0.20.\n",
      "  DeprecationWarning)\n"
     ]
    }
   ],
   "source": [
    "import numpy as np\n",
    "import pandas as pd\n",
    "from sklearn.feature_extraction.text import CountVectorizer\n",
    "from sklearn.preprocessing import LabelEncoder\n",
    "from sklearn.model_selection import StratifiedKFold\n",
    "from sklearn.cross_validation import train_test_split\n",
    "import random\n",
    "from sklearn.metrics import log_loss\n",
    "from math import exp\n",
    "import xgboost as xgb\n",
    "from XGBoostPackage import xgbClass\n",
    "from CrossValidation import CVScore\n",
    "# from difflib import SequenceMatcher\n",
    "import editdistance\n",
    "import seaborn as sns\n",
    "import matplotlib.pyplot as plt\n",
    "%matplotlib inline\n",
    "sns.set_style(\"whitegrid\")"
   ]
  },
  {
   "cell_type": "code",
   "execution_count": 2,
   "metadata": {
    "collapsed": true,
    "deletable": true,
    "editable": true
   },
   "outputs": [],
   "source": [
    "# random.seed(321)\n",
    "# np.random.seed(321)\n",
    "\n",
    "X_train = pd.read_json(\"../input/train.json\")\n",
    "X_test = pd.read_json(\"../input/test.json\")\n",
    "\n"
   ]
  },
  {
   "cell_type": "code",
   "execution_count": 3,
   "metadata": {
    "collapsed": false,
    "deletable": true,
    "editable": true
   },
   "outputs": [],
   "source": [
    "dfSentiment=pd.read_csv(\"sentimentFeatureAdded.csv\")\n",
    "#print(dfSentiment.shape)\n",
    "dfSentiment.index=X_train.index\n",
    "dfSentiment['manager_id']=X_train['manager_id']\n",
    "dfSentimentTest=pd.read_csv(\"sentimentFeatureAddedTest.csv\")\n",
    "dfSentimentTest.index=X_test.index\n",
    "#print(dfSentiment.shape)\n",
    "dfSentimentTest['manager_id']=X_test['manager_id']\n",
    "dmean=pd.DataFrame()\n",
    "for i in ['neg','neu','pos']:\n",
    "    dmean[i]=pd.concat([dfSentiment,dfSentimentTest]).groupby('manager_id')[i].mean()\n",
    "# dfSentiment.fillna(dmean)\n",
    "# dfSentimentTest.fillna(dmean)\n",
    "for i in ['neg','neu','pos']:\n",
    "    X_train[i]=dfSentiment.apply(lambda x: dmean.ix[x['manager_id']][i] if pd.isnull(x[i]) else x[i],axis=1)\n",
    "    X_train[i].fillna(X_train[i].mean())\n",
    "    X_test[i]=dfSentimentTest.apply(lambda x: dmean.ix[x['manager_id']][i] if pd.isnull(x[i]) else x[i],axis=1)\n",
    "    X_test[i].fillna(X_test[i].mean())\n",
    "del dfSentiment, dfSentimentTest\n"
   ]
  },
  {
   "cell_type": "code",
   "execution_count": 4,
   "metadata": {
    "collapsed": true,
    "deletable": true,
    "editable": true
   },
   "outputs": [],
   "source": [
    "def addDistToSubway(X=X_train, name='train'):\n",
    "    df=pd.read_csv(\"dist_to_subway_\"+name+\".csv\")\n",
    "    df.index=X.index\n",
    "    X['dist_to_subway']=df['dist_to_subway']#.clip(0,.3)\n",
    "    del df\n",
    "addDistToSubway(X_train, 'train')\n",
    "addDistToSubway(X_test, 'test')"
   ]
  },
  {
   "cell_type": "code",
   "execution_count": 5,
   "metadata": {
    "collapsed": false,
    "deletable": true,
    "editable": true
   },
   "outputs": [],
   "source": [
    "def addCity(X=X_train, name='train'):\n",
    "    df=pd.read_csv(\"city_\"+name+\".csv\")\n",
    "    df.index=X.index\n",
    "    X['city']=df['city']\n",
    "    del df\n",
    "addCity(X_train, 'train')\n",
    "#addCity(X_test, 'test')\n",
    "\n",
    "########################################\n",
    "X_test['city']=X_test['display_address'] \n",
    "########################################"
   ]
  },
  {
   "cell_type": "code",
   "execution_count": 6,
   "metadata": {
    "collapsed": false,
    "deletable": true,
    "editable": true
   },
   "outputs": [],
   "source": [
    "def addCountyNum(X=X_train, name='train'):\n",
    "    df=pd.read_csv(\"countyNum_\"+name+\".csv\")\n",
    "    df.index=X.index\n",
    "    X['countyNum']=df['countyNum']\n",
    "    del df\n",
    "addCountyNum(X_train, 'train')\n",
    "addCountyNum(X_test, 'test')"
   ]
  },
  {
   "cell_type": "code",
   "execution_count": 7,
   "metadata": {
    "collapsed": false,
    "deletable": true,
    "editable": true
   },
   "outputs": [],
   "source": [
    "def addCountyBorough(X=X_train, name='train'):\n",
    "    df=pd.read_csv(\"Borough_County_\"+name+\".csv\")\n",
    "    df.index=X.index\n",
    "    X['borough']=df['borough']\n",
    "    X['county']=df['county']\n",
    "    del df\n",
    "addCountyBorough(X_train, 'train')\n",
    "#addCountyBorough(X_test, 'test')\n",
    "\n",
    "########################################\n",
    "X_test[['borough','county']]=X_test[['display_address','city']] \n",
    "########################################"
   ]
  },
  {
   "cell_type": "code",
   "execution_count": 8,
   "metadata": {
    "collapsed": false,
    "deletable": true,
    "editable": true
   },
   "outputs": [],
   "source": [
    "interest_level_map = {'low': 0, 'medium': 1, 'high': 2}\n",
    "X_train['interest_level'] = X_train['interest_level'].apply(lambda x: interest_level_map[x])\n",
    "X_test['interest_level'] = -1\n",
    "X_train['features'] = X_train[\"features\"].apply(lambda x: \" \".join([\"_\".join(i.strip().lower().split(\" \")) for i in x]))\n",
    "X_test['features'] = X_test[\"features\"].apply(lambda x: \" \".join([\"_\".join(i.strip().lower().split(\" \")) for i in x]))\n"
   ]
  },
  {
   "cell_type": "code",
   "execution_count": 9,
   "metadata": {
    "collapsed": false,
    "deletable": true,
    "editable": true
   },
   "outputs": [
    {
     "name": "stdout",
     "output_type": "stream",
     "text": [
      "(49352, 23)\n"
     ]
    },
    {
     "data": {
      "text/html": [
       "<div>\n",
       "<table border=\"1\" class=\"dataframe\">\n",
       "  <thead>\n",
       "    <tr style=\"text-align: right;\">\n",
       "      <th></th>\n",
       "      <th>bathrooms</th>\n",
       "      <th>bedrooms</th>\n",
       "      <th>building_id</th>\n",
       "      <th>created</th>\n",
       "      <th>description</th>\n",
       "      <th>display_address</th>\n",
       "      <th>features</th>\n",
       "      <th>interest_level</th>\n",
       "      <th>latitude</th>\n",
       "      <th>listing_id</th>\n",
       "      <th>...</th>\n",
       "      <th>price</th>\n",
       "      <th>street_address</th>\n",
       "      <th>neg</th>\n",
       "      <th>neu</th>\n",
       "      <th>pos</th>\n",
       "      <th>dist_to_subway</th>\n",
       "      <th>city</th>\n",
       "      <th>countyNum</th>\n",
       "      <th>borough</th>\n",
       "      <th>county</th>\n",
       "    </tr>\n",
       "  </thead>\n",
       "  <tbody>\n",
       "    <tr>\n",
       "      <th>10</th>\n",
       "      <td>1.5</td>\n",
       "      <td>3</td>\n",
       "      <td>53a5b119ba8f7b61d4e010512e0dfc85</td>\n",
       "      <td>2016-06-24 07:54:24</td>\n",
       "      <td>A Brand New 3 Bedroom 1.5 bath ApartmentEnjoy ...</td>\n",
       "      <td>Metropolitan Avenue</td>\n",
       "      <td></td>\n",
       "      <td>1</td>\n",
       "      <td>40.7145</td>\n",
       "      <td>7211212</td>\n",
       "      <td>...</td>\n",
       "      <td>3000</td>\n",
       "      <td>792 Metropolitan Avenue</td>\n",
       "      <td>0.005222</td>\n",
       "      <td>0.912111</td>\n",
       "      <td>0.082667</td>\n",
       "      <td>0.001554</td>\n",
       "      <td>Long Island City</td>\n",
       "      <td>1</td>\n",
       "      <td>williamsburg</td>\n",
       "      <td>kings county</td>\n",
       "    </tr>\n",
       "  </tbody>\n",
       "</table>\n",
       "<p>1 rows × 23 columns</p>\n",
       "</div>"
      ],
      "text/plain": [
       "    bathrooms  bedrooms                       building_id  \\\n",
       "10        1.5         3  53a5b119ba8f7b61d4e010512e0dfc85   \n",
       "\n",
       "                created                                        description  \\\n",
       "10  2016-06-24 07:54:24  A Brand New 3 Bedroom 1.5 bath ApartmentEnjoy ...   \n",
       "\n",
       "        display_address features  interest_level  latitude  listing_id  \\\n",
       "10  Metropolitan Avenue                        1   40.7145     7211212   \n",
       "\n",
       "        ...       price           street_address       neg       neu  \\\n",
       "10      ...        3000  792 Metropolitan Avenue  0.005222  0.912111   \n",
       "\n",
       "         pos  dist_to_subway              city  countyNum       borough  \\\n",
       "10  0.082667        0.001554  Long Island City          1  williamsburg   \n",
       "\n",
       "          county  \n",
       "10  kings county  \n",
       "\n",
       "[1 rows x 23 columns]"
      ]
     },
     "execution_count": 9,
     "metadata": {},
     "output_type": "execute_result"
    }
   ],
   "source": [
    "print(X_train.shape)\n",
    "# X_train['features']=X_train['features'].apply(clean)\n",
    "# X_test['features']=X_test['features'].apply(clean)\n",
    "X_train.head(1)"
   ]
  },
  {
   "cell_type": "code",
   "execution_count": 10,
   "metadata": {
    "collapsed": false,
    "deletable": true,
    "editable": true
   },
   "outputs": [],
   "source": [
    "# X_train['features'].head(20)"
   ]
  },
  {
   "cell_type": "code",
   "execution_count": 11,
   "metadata": {
    "collapsed": false,
    "deletable": true,
    "editable": true
   },
   "outputs": [],
   "source": [
    "#add features\n",
    "feature_transform = CountVectorizer(stop_words='english', max_features=50)\n",
    "# X_train['features'] = X_train[\"features\"].apply(lambda x: \" \".join([\"_\".join(i.lower().split(\" \")) for i in x]))\n",
    "# X_test['features'] = X_test[\"features\"].apply(lambda x: \" \".join([\"_\".join(i.lower().split(\" \")) for i in x]))\n",
    "feature_transform.fit(list(X_train['features']) + list(X_test['features']))\n",
    "\n",
    "train_size = len(X_train)\n",
    "low_count = len(X_train[X_train['interest_level'] == 0])\n",
    "medium_count = len(X_train[X_train['interest_level'] == 1])\n",
    "high_count = len(X_train[X_train['interest_level'] == 2])"
   ]
  },
  {
   "cell_type": "code",
   "execution_count": 12,
   "metadata": {
    "collapsed": true,
    "deletable": true,
    "editable": true
   },
   "outputs": [],
   "source": [
    "def find_objects_with_only_one_record(feature_name):\n",
    "    temp = pd.concat([X_train[feature_name].reset_index(), \n",
    "                      X_test[feature_name].reset_index()])\n",
    "    temp = temp.groupby(feature_name, as_index = False).count()\n",
    "    return temp[temp['index'] == 1]\n",
    "\n",
    "managers_with_one_lot = find_objects_with_only_one_record('manager_id')\n",
    "buildings_with_one_lot = find_objects_with_only_one_record('building_id')\n",
    "addresses_with_one_lot = find_objects_with_only_one_record('display_address')\n",
    "cities_with_one_lot = find_objects_with_only_one_record('city')\n",
    "counties_with_one_lot = find_objects_with_only_one_record('county')\n",
    "boroughs_with_one_lot = find_objects_with_only_one_record('borough')\n",
    "countyNums_with_one_lot = find_objects_with_only_one_record('countyNum')"
   ]
  },
  {
   "cell_type": "code",
   "execution_count": 13,
   "metadata": {
    "collapsed": true,
    "deletable": true,
    "editable": true
   },
   "outputs": [],
   "source": [
    "lambda_val = None\n",
    "k=5.0\n",
    "f=1.0\n",
    "r_k=0.01 \n",
    "g = 1.0\n",
    "def categorical_average(variable, y, pred_0, feature_name):\n",
    "    def calculate_average(sub1, sub2):\n",
    "        s = pd.DataFrame(data = {\n",
    "                                 variable: sub1.groupby(variable, as_index = False).count()[variable],                              \n",
    "                                 'sumy': sub1.groupby(variable, as_index = False).sum()['y'],\n",
    "                                 'avgY': sub1.groupby(variable, as_index = False).mean()['y'],\n",
    "                                 'cnt': sub1.groupby(variable, as_index = False).count()['y']\n",
    "                                 })\n",
    "                                 \n",
    "        tmp = sub2.merge(s.reset_index(), how='left', left_on=variable, right_on=variable) \n",
    "        del tmp['index']                       \n",
    "        tmp.loc[pd.isnull(tmp['cnt']), 'cnt'] = 0.0\n",
    "        tmp.loc[pd.isnull(tmp['cnt']), 'sumy'] = 0.0\n",
    "\n",
    "        def compute_beta(row):\n",
    "            cnt = row['cnt'] if row['cnt'] < 200 else float('inf')\n",
    "            return 1.0 / (g + exp((cnt - k) / f))\n",
    "            \n",
    "        if lambda_val is not None:\n",
    "            tmp['beta'] = lambda_val\n",
    "        else:\n",
    "            tmp['beta'] = tmp.apply(compute_beta, axis = 1)\n",
    "            \n",
    "        tmp['adj_avg'] = tmp.apply(lambda row: (1.0 - row['beta']) * row['avgY'] + row['beta'] * row['pred_0'],\n",
    "                                   axis = 1)\n",
    "                                   \n",
    "        tmp.loc[pd.isnull(tmp['avgY']), 'avgY'] = tmp.loc[pd.isnull(tmp['avgY']), 'pred_0']\n",
    "        tmp.loc[pd.isnull(tmp['adj_avg']), 'adj_avg'] = tmp.loc[pd.isnull(tmp['adj_avg']), 'pred_0']\n",
    "        tmp['random'] = np.random.uniform(size = len(tmp))\n",
    "        tmp['adj_avg'] = tmp.apply(lambda row: row['adj_avg'] *(1 + (row['random'] - 0.5) * r_k),\n",
    "                                   axis = 1)\n",
    "    \n",
    "        return tmp['adj_avg'].ravel()\n",
    "     \n",
    "    #cv for training set \n",
    "    k_fold = StratifiedKFold(5,random_state=12)\n",
    "    X_train[feature_name] = -999 \n",
    "    for (train_index, cv_index) in k_fold.split(np.zeros(len(X_train)),\n",
    "                                                X_train['interest_level'].ravel()):\n",
    "        sub = pd.DataFrame(data = {variable: X_train[variable],\n",
    "                                   'y': X_train[y],\n",
    "                                   'pred_0': X_train[pred_0]})\n",
    "            \n",
    "        sub1 = sub.iloc[train_index]        \n",
    "        sub2 = sub.iloc[cv_index]\n",
    "        \n",
    "        X_train.loc[cv_index, feature_name] = calculate_average(sub1, sub2)\n",
    "    \n",
    "    #for test set\n",
    "    sub1 = pd.DataFrame(data = {variable: X_train[variable],\n",
    "                                'y': X_train[y],\n",
    "                                'pred_0': X_train[pred_0]})\n",
    "    sub2 = pd.DataFrame(data = {variable: X_test[variable],\n",
    "                                'y': X_test[y],\n",
    "                                'pred_0': X_test[pred_0]})\n",
    "    X_test.loc[:, feature_name] = calculate_average(sub1, sub2)                               \n",
    "\n"
   ]
  },
  {
   "cell_type": "code",
   "execution_count": 14,
   "metadata": {
    "collapsed": false,
    "deletable": true,
    "editable": true
   },
   "outputs": [],
   "source": [
    "def transform_data(X):\n",
    "        \n",
    "    X[\"num_photos\"] = X[\"photos\"].apply(len)\n",
    "    X[\"has_photos\"] = X[\"num_photos\"].apply(lambda x: int(x>0))\n",
    "    \n",
    "     #add features   \n",
    "    tagList=['exclusive', 'no_fee', 'reduced_fee', 'short_term_allowed', 'furnished', 'laundry_in_unit', \n",
    "                     'private_outdoor_space', 'parking_space', 'cats_allowed', 'dogs_allowed', 'doorman', \n",
    "                     'elevator', 'fitness_center', 'laundry_in_building', 'common_outdoor_space','storage_facility']\n",
    "    feat_sparse = feature_transform.transform(X[\"features\"])\n",
    "    vocabulary = feature_transform.vocabulary_\n",
    "    #del X['features']\n",
    "    X1 = pd.DataFrame([ pd.Series(feat_sparse[i].toarray().ravel()) for i in np.arange(feat_sparse.shape[0]) ])\n",
    "    X1.columns = list(sorted(vocabulary.keys()))\n",
    "    X = pd.concat([X.reset_index(), X1.reset_index()], axis = 1)\n",
    "    del X['index']\n",
    "    def isTag(X):\n",
    "        for name in tagList:\n",
    "            if X[name]==1:\n",
    "                return 1;\n",
    "            return 0;\n",
    "    X['inTag'] = X.apply(isTag, axis=1)\n",
    "    \n",
    "    #X['price'].ix[X['price']>13000] = 13000\n",
    "    X['price5000']=X['price'].apply(lambda x: int(x<=5000))\n",
    "    \n",
    "    X['created'] = pd.to_datetime(X[\"created\"])\n",
    "    #X[\"created_year\"] = X[\"created\"].dt.year\n",
    "    X[\"created_month\"] = X[\"created\"].dt.month\n",
    "    X[\"created_day\"] = X[\"created\"].dt.day\n",
    "    X[\"created_hour\"] = X[\"created\"].dt.hour\n",
    "    X[\"num_description_words\"] = X[\"description\"].apply(lambda x: len(x.split(\" \")))\n",
    "    X[\"num_features\"] = X[\"features\"].apply(len)\n",
    "    X['price_per_bed'] = X['price'] / X['bedrooms']    \n",
    "    X['price_per_bath'] = X['price'] / X['bathrooms']\n",
    "    X['price_per_room'] = X['price'] / (X['bathrooms'] + X['bedrooms'] )\n",
    "    #X['bath==bed'] = X.apply(lambda x: int(x['bedrooms']==x['bathrooms']), axis=1)\n",
    "    X['bedrooms'].ix[X['bedrooms']>=4] = 4\n",
    "    X['bathrooms'].ix[X['bathrooms']>=5] = 5\n",
    "    \n",
    "    X['low'] = 0\n",
    "    X.loc[X['interest_level'] == 0, 'low'] = 1\n",
    "    X['medium'] = 0\n",
    "    X.loc[X['interest_level'] == 1, 'medium'] = 1\n",
    "    X['high'] = 0\n",
    "    X.loc[X['interest_level'] == 2, 'high'] = 1\n",
    "    \n",
    "    X['display_address'] = X['display_address'].apply(lambda x: x.lower().strip())\n",
    "    X['street_address'] = X['street_address'].apply(lambda x: x.lower().strip())\n",
    "    X['city'] = X['city'].apply(lambda x: x.lower().strip())\n",
    "#     def similar(a, b):\n",
    "#         return SequenceMatcher(None, a, b).ratio()\n",
    "#     X['display_street_dist']=X.apply(lambda row: similar(row['display_address'], row['street_address']), axis=1)\n",
    "    X['display_street_dist']=X.apply(lambda row: editdistance.eval\\\n",
    "                                     (row['display_address'], row['street_address']), axis=1)\n",
    "    \n",
    "    X['walkingDistToSubway']=X['dist_to_subway'].apply(lambda x: int(x<.01))\n",
    "    \n",
    "    NYCLoc=[40.7128, -74.0059]\n",
    "    X['notWithinNYC']=X.apply(lambda X: int(np.sqrt((X['latitude']-NYCLoc[0])**2+(X['longitude']-NYCLoc[1])**2))<.3,\n",
    "                             axis=1)##############\n",
    "    \n",
    "    X['pred0_low'] = low_count * 1.0 / train_size\n",
    "    X['pred0_medium'] = medium_count * 1.0 / train_size\n",
    "    X['pred0_high'] = high_count * 1.0 / train_size\n",
    "    \n",
    "    X.loc[X['manager_id'].isin(managers_with_one_lot['manager_id'].ravel()), \n",
    "          'manager_id'] = \"-1\"\n",
    "    X.loc[X['building_id'].isin(buildings_with_one_lot['building_id'].ravel()), \n",
    "          'building_id'] = \"-1\"\n",
    "    X.loc[X['display_address'].isin(addresses_with_one_lot['display_address'].ravel()), \n",
    "          'display_address'] = \"-1\"\n",
    "    X.loc[X['city'].isin(cities_with_one_lot['city'].ravel()), \n",
    "          'city'] = \"-1\"\n",
    "    X.loc[X['county'].isin(counties_with_one_lot['county'].ravel()), \n",
    "          'county'] = \"-1\"\n",
    "    X.loc[X['borough'].isin(boroughs_with_one_lot['borough'].ravel()), \n",
    "          'borough'] = \"-1\"\n",
    "    X.loc[X['countyNum'].isin(countyNums_with_one_lot['countyNum'].ravel()), \n",
    "          'countyNum'] = \"-1\"\n",
    "    \n",
    "    return X\n",
    "\n",
    "# tagList=['by_owner', 'exclusive', 'no_fee', 'reduced_fee', 'short_term_allowed', 'furnished', 'laundry_in_unit', \n",
    "#                      'private_outdoor_space', 'parking_space', 'cats_allowed', 'dogs_allowed', 'doorman', \n",
    "#                      'elevator', 'fitness_center', 'laundry_in_building', 'common_outdoor_space','storage_facility']\n",
    "\n",
    "def normalize_high_cordiality_data():\n",
    "    high_cardinality = [\"building_id\", \"manager_id\", \"borough\", \"countyNum\",\"city\"]#, \"inTag\", \"price5000\"]\n",
    "    for c in high_cardinality:\n",
    "        categorical_average(c, \"medium\", \"pred0_medium\", c + \"_mean_medium\")\n",
    "        categorical_average(c, \"high\", \"pred0_high\", c + \"_mean_high\")\n",
    "\n",
    "def transform_categorical_data():\n",
    "    categorical = ['building_id', 'manager_id', \n",
    "                   'display_address', 'street_address','city','county','borough']\n",
    "                   \n",
    "    for f in categorical:\n",
    "        encoder = LabelEncoder()\n",
    "        encoder.fit(list(X_train[f]) + list(X_test[f])) \n",
    "        X_train[f] = encoder.transform(X_train[f].ravel())\n",
    "        X_test[f] = encoder.transform(X_test[f].ravel())\n",
    "                  \n",
    "\n",
    "def remove_columns(X):\n",
    "    columns = [\"photos\", \"pred0_high\", \"pred0_low\", \"pred0_medium\",\n",
    "               \"description\", \"low\", \"medium\", \"high\",\n",
    "               \"interest_level\", \"created\"]\n",
    "    for c in columns:\n",
    "        del X[c]\n",
    "\n"
   ]
  },
  {
   "cell_type": "code",
   "execution_count": 15,
   "metadata": {
    "collapsed": false,
    "deletable": true,
    "editable": true,
    "scrolled": false
   },
   "outputs": [
    {
     "name": "stdout",
     "output_type": "stream",
     "text": [
      "Starting transformations\n"
     ]
    },
    {
     "name": "stderr",
     "output_type": "stream",
     "text": [
      "/Library/Frameworks/Python.framework/Versions/2.7/lib/python2.7/site-packages/pandas/core/indexing.py:141: SettingWithCopyWarning: \n",
      "A value is trying to be set on a copy of a slice from a DataFrame\n",
      "\n",
      "See the caveats in the documentation: http://pandas.pydata.org/pandas-docs/stable/indexing.html#indexing-view-versus-copy\n",
      "  self._setitem_with_indexer(indexer, value)\n"
     ]
    },
    {
     "name": "stdout",
     "output_type": "stream",
     "text": [
      "Normalizing high cordiality data...\n"
     ]
    }
   ],
   "source": [
    "print(\"Starting transformations\")        \n",
    "X_train = transform_data(X_train)    \n",
    "X_test = transform_data(X_test) \n",
    "y_train = X_train['interest_level'].ravel()\n",
    "\n",
    "print(\"Normalizing high cordiality data...\")\n",
    "normalize_high_cordiality_data()\n",
    "transform_categorical_data()\n",
    "\n",
    "\n"
   ]
  },
  {
   "cell_type": "code",
   "execution_count": 16,
   "metadata": {
    "collapsed": true,
    "deletable": true,
    "editable": true
   },
   "outputs": [],
   "source": [
    "remove_columns(X_train)\n",
    "remove_columns(X_test)"
   ]
  },
  {
   "cell_type": "code",
   "execution_count": 17,
   "metadata": {
    "collapsed": false,
    "deletable": true,
    "editable": true,
    "scrolled": true
   },
   "outputs": [
    {
     "name": "stdout",
     "output_type": "stream",
     "text": [
      "(49352, 92)\n"
     ]
    },
    {
     "data": {
      "text/html": [
       "<div>\n",
       "<table border=\"1\" class=\"dataframe\">\n",
       "  <thead>\n",
       "    <tr style=\"text-align: right;\">\n",
       "      <th></th>\n",
       "      <th>bathrooms</th>\n",
       "      <th>bedrooms</th>\n",
       "      <th>building_id</th>\n",
       "      <th>display_address</th>\n",
       "      <th>features</th>\n",
       "      <th>latitude</th>\n",
       "      <th>listing_id</th>\n",
       "      <th>longitude</th>\n",
       "      <th>manager_id</th>\n",
       "      <th>price</th>\n",
       "      <th>...</th>\n",
       "      <th>walkingDistToSubway</th>\n",
       "      <th>notWithinNYC</th>\n",
       "      <th>building_id_mean_medium</th>\n",
       "      <th>building_id_mean_high</th>\n",
       "      <th>manager_id_mean_medium</th>\n",
       "      <th>manager_id_mean_high</th>\n",
       "      <th>borough_mean_medium</th>\n",
       "      <th>borough_mean_high</th>\n",
       "      <th>countyNum_mean_medium</th>\n",
       "      <th>countyNum_mean_high</th>\n",
       "    </tr>\n",
       "  </thead>\n",
       "  <tbody>\n",
       "    <tr>\n",
       "      <th>0</th>\n",
       "      <td>1.5</td>\n",
       "      <td>3</td>\n",
       "      <td>2103</td>\n",
       "      <td>10443</td>\n",
       "      <td></td>\n",
       "      <td>40.7145</td>\n",
       "      <td>7211212</td>\n",
       "      <td>-73.9425</td>\n",
       "      <td>1203</td>\n",
       "      <td>3000</td>\n",
       "      <td>...</td>\n",
       "      <td>1</td>\n",
       "      <td>True</td>\n",
       "      <td>0.216984</td>\n",
       "      <td>7.445105e-02</td>\n",
       "      <td>0.282317</td>\n",
       "      <td>9.212803e-29</td>\n",
       "      <td>0.269700</td>\n",
       "      <td>0.062645</td>\n",
       "      <td>0.258989</td>\n",
       "      <td>0.121490</td>\n",
       "    </tr>\n",
       "    <tr>\n",
       "      <th>1</th>\n",
       "      <td>1.0</td>\n",
       "      <td>2</td>\n",
       "      <td>5077</td>\n",
       "      <td>7525</td>\n",
       "      <td>doorman elevator fitness_center cats_allowed d...</td>\n",
       "      <td>40.7947</td>\n",
       "      <td>7150865</td>\n",
       "      <td>-73.9667</td>\n",
       "      <td>1518</td>\n",
       "      <td>5465</td>\n",
       "      <td>...</td>\n",
       "      <td>1</td>\n",
       "      <td>True</td>\n",
       "      <td>0.111620</td>\n",
       "      <td>1.762774e-07</td>\n",
       "      <td>0.012490</td>\n",
       "      <td>2.093085e-34</td>\n",
       "      <td>0.190689</td>\n",
       "      <td>0.040429</td>\n",
       "      <td>0.219889</td>\n",
       "      <td>0.067283</td>\n",
       "    </tr>\n",
       "  </tbody>\n",
       "</table>\n",
       "<p>2 rows × 92 columns</p>\n",
       "</div>"
      ],
      "text/plain": [
       "   bathrooms  bedrooms  building_id  display_address  \\\n",
       "0        1.5         3         2103            10443   \n",
       "1        1.0         2         5077             7525   \n",
       "\n",
       "                                            features  latitude  listing_id  \\\n",
       "0                                                      40.7145     7211212   \n",
       "1  doorman elevator fitness_center cats_allowed d...   40.7947     7150865   \n",
       "\n",
       "   longitude  manager_id  price         ...           walkingDistToSubway  \\\n",
       "0   -73.9425        1203   3000         ...                             1   \n",
       "1   -73.9667        1518   5465         ...                             1   \n",
       "\n",
       "   notWithinNYC  building_id_mean_medium  building_id_mean_high  \\\n",
       "0          True                 0.216984           7.445105e-02   \n",
       "1          True                 0.111620           1.762774e-07   \n",
       "\n",
       "   manager_id_mean_medium  manager_id_mean_high  borough_mean_medium  \\\n",
       "0                0.282317          9.212803e-29             0.269700   \n",
       "1                0.012490          2.093085e-34             0.190689   \n",
       "\n",
       "   borough_mean_high  countyNum_mean_medium  countyNum_mean_high  \n",
       "0           0.062645               0.258989             0.121490  \n",
       "1           0.040429               0.219889             0.067283  \n",
       "\n",
       "[2 rows x 92 columns]"
      ]
     },
     "execution_count": 17,
     "metadata": {},
     "output_type": "execute_result"
    }
   ],
   "source": [
    "print(X_train.shape)\n",
    "X_train.head(2)"
   ]
  },
  {
   "cell_type": "code",
   "execution_count": 99,
   "metadata": {
    "collapsed": false,
    "deletable": true,
    "editable": true
   },
   "outputs": [
    {
     "data": {
      "text/plain": [
       "72"
      ]
     },
     "execution_count": 99,
     "metadata": {},
     "output_type": "execute_result"
    }
   ],
   "source": [
    "featuresInUse = [f for f in X_train.columns if f not in [\"photos\", \"pred0_high\", \"pred0_low\", \"pred0_medium\",\n",
    "               \"description\", \"low\", \"medium\", \"high\",\n",
    "               \"interest_level\", \"created\", \"features\"]+['manager_id', \n",
    "                'building_id', \n",
    "                   \"street_address\"]\\\n",
    "                 #+[\"num_photos\"]\n",
    "                 +[\"city_mean_medium\",\"city_mean_high\"]\n",
    "                 +['inTag_mean_medium', 'inTag_mean_high']\n",
    "                 +['price5000_mean_medium','price5000_mean_high']\n",
    "                 +[#'created_month'\n",
    "                    \"created_day\",\n",
    "                 #\"created_hour\"\n",
    "                 ]\n",
    "                 #+[\"bedrooms\"]\n",
    "                 +['bath==bed']\n",
    "                 +['price_per_bed','price_per_bath']\n",
    "                 +['dist_to_subway','notWithinNYC']\n",
    "                 +['neg','pos','neu']\n",
    "                 +[#'inTag',\n",
    "                     'price5000']\n",
    "                 +['city']\n",
    "                 +['county', \n",
    "                     'county_mean_medium','county_mean_high']\n",
    "                 +['borough',\n",
    "                  'borough_mean_medium','borough_mean_high'\n",
    "                  ]\n",
    "                 +[#'countyNum',\n",
    "                     'countyNum_mean_medium','countyNum_mean_high']\n",
    "                 #+['longitude','latitude']\n",
    "                ]\n",
    "                                                        #,'no_pets','_pets_ok_','bedrooms', 'dryer_in_unit',\n",
    "                                                        #'health_club','common', \n",
    "#                  +list(imp.sort_values(\"train\").head(10).index)]\n",
    "#featuresInUse = [f for f in X_train.columns if f not in []]\n",
    "len(featuresInUse)"
   ]
  },
  {
   "cell_type": "code",
   "execution_count": 100,
   "metadata": {
    "collapsed": false,
    "deletable": true,
    "editable": true
   },
   "outputs": [],
   "source": [
    "#cross validation\n",
    "\n",
    "X_fit, X_val, y_fit, y_val=train_test_split(X_train[featuresInUse][:], y_train[:], test_size=0.33, random_state=42)"
   ]
  },
  {
   "cell_type": "code",
   "execution_count": 101,
   "metadata": {
    "collapsed": false,
    "deletable": true,
    "editable": true
   },
   "outputs": [],
   "source": [
    "param = {}\n",
    "param['objective'] = 'multi:softprob'\n",
    "param['eta'] = 0.04\n",
    "param['max_depth'] = 6\n",
    "param['silent'] = 1\n",
    "param['num_class'] = 3\n",
    "param['eval_metric'] = \"mlogloss\"\n",
    "param['min_child_weight'] = 3\n",
    "param['subsample'] = 0.7\n",
    "param['colsample_bytree'] = 0.7\n",
    "param['seed'] = 42\n",
    "param['nthread'] = 8\n",
    "num_rounds = 500\n"
   ]
  },
  {
   "cell_type": "code",
   "execution_count": null,
   "metadata": {
    "collapsed": false,
    "deletable": true,
    "editable": true
   },
   "outputs": [],
   "source": [
    "xgfit = xgb.DMatrix(X_fit, label=y_fit)\n",
    "xgval = xgb.DMatrix(X_val, label=y_val)\n",
    "watchlist = [ (xgfit,'train'), (xgval, 'test') ]\n",
    "clfCV = xgb.train(param, xgfit, num_rounds)\n",
    "#clfCV = xgb.train(param, xgfit, num_rounds, watchlist, early_stopping_rounds=20)\n",
    "\n",
    "y_val_pred = clfCV.predict(xgval)\n",
    "log_loss(y_val, y_val_pred)\n",
    "#0.535112: 2000, f not in ['manager_id', 'building_id', \"display_address\"\\,'common_roof_deck']]\n",
    "#0.5355477 param['eta'] = 0.04param['max_depth'] = 6param['silent'] = 1param['subsample'] = 0.7param['colsample_bytree'] = 0.7\n",
    "#param['seed'] = 42param['nthread'] = 8num_rounds = 1000 max_feature=120"
   ]
  },
  {
   "cell_type": "code",
   "execution_count": null,
   "metadata": {
    "collapsed": false,
    "deletable": true,
    "editable": true
   },
   "outputs": [],
   "source": [
    "X_train[featuresInUse].to_csv(\"X_train1.csv\")\n",
    "X_test[featuresInUse].to_csv(\"X_test1.csv\")\n",
    "#pd.DataFrame(columns=['interest_level'],data=y_train).to_csv(\"y_train.csv\")"
   ]
  },
  {
   "cell_type": "code",
   "execution_count": null,
   "metadata": {
    "collapsed": false,
    "deletable": true,
    "editable": true,
    "scrolled": true
   },
   "outputs": [],
   "source": [
    "imp=pd.DataFrame()#(index=features_to_use)\n",
    "imp['train'] = pd.Series(clfCV.get_score(importance_type='gain'))#, index=features_to_use)\n",
    "imp = imp.fillna(0)\n",
    "ax=imp.sort_values('train').tail(10).plot.barh(title='Feature importances sorted by train', figsize=(7,4))"
   ]
  },
  {
   "cell_type": "code",
   "execution_count": null,
   "metadata": {
    "collapsed": false,
    "deletable": true,
    "editable": true,
    "scrolled": true
   },
   "outputs": [],
   "source": [
    "print(len(imp))\n",
    "imp.sort_values('train',ascending=False).head(40)"
   ]
  },
  {
   "cell_type": "code",
   "execution_count": null,
   "metadata": {
    "collapsed": false,
    "deletable": true,
    "editable": true,
    "scrolled": true
   },
   "outputs": [],
   "source": [
    "imp.sort_values('train',ascending=False).tail(40)"
   ]
  },
  {
   "cell_type": "code",
   "execution_count": null,
   "metadata": {
    "collapsed": false,
    "deletable": true,
    "editable": true,
    "scrolled": false
   },
   "outputs": [],
   "source": [
    "ax=imp.sort_values('train').head(10).plot.barh(title='Feature importances sorted by train', figsize=(7,4))"
   ]
  },
  {
   "cell_type": "code",
   "execution_count": 35,
   "metadata": {
    "collapsed": false,
    "deletable": true,
    "editable": true
   },
   "outputs": [
    {
     "data": {
      "text/html": [
       "<div>\n",
       "<table border=\"1\" class=\"dataframe\">\n",
       "  <thead>\n",
       "    <tr style=\"text-align: right;\">\n",
       "      <th></th>\n",
       "      <th>bathrooms</th>\n",
       "      <th>bedrooms</th>\n",
       "      <th>display_address</th>\n",
       "      <th>latitude</th>\n",
       "      <th>listing_id</th>\n",
       "      <th>longitude</th>\n",
       "      <th>price</th>\n",
       "      <th>neu</th>\n",
       "      <th>pos</th>\n",
       "      <th>balcony</th>\n",
       "      <th>...</th>\n",
       "      <th>price_per_bath</th>\n",
       "      <th>price_per_room</th>\n",
       "      <th>display_street_dist</th>\n",
       "      <th>walkingDistToSubway</th>\n",
       "      <th>notWithinNYC</th>\n",
       "      <th>inTag</th>\n",
       "      <th>building_id_mean_medium</th>\n",
       "      <th>building_id_mean_high</th>\n",
       "      <th>manager_id_mean_medium</th>\n",
       "      <th>manager_id_mean_high</th>\n",
       "    </tr>\n",
       "  </thead>\n",
       "  <tbody>\n",
       "    <tr>\n",
       "      <th>0</th>\n",
       "      <td>1.5</td>\n",
       "      <td>3</td>\n",
       "      <td>10443</td>\n",
       "      <td>40.7145</td>\n",
       "      <td>7211212</td>\n",
       "      <td>-73.9425</td>\n",
       "      <td>3000</td>\n",
       "      <td>0.912111</td>\n",
       "      <td>0.082667</td>\n",
       "      <td>0</td>\n",
       "      <td>...</td>\n",
       "      <td>2000.0</td>\n",
       "      <td>666.666667</td>\n",
       "      <td>4</td>\n",
       "      <td>1</td>\n",
       "      <td>True</td>\n",
       "      <td>0</td>\n",
       "      <td>0.21756</td>\n",
       "      <td>0.073852</td>\n",
       "      <td>0.283356</td>\n",
       "      <td>9.196701e-29</td>\n",
       "    </tr>\n",
       "  </tbody>\n",
       "</table>\n",
       "<p>1 rows × 78 columns</p>\n",
       "</div>"
      ],
      "text/plain": [
       "   bathrooms  bedrooms  display_address  latitude  listing_id  longitude  \\\n",
       "0        1.5         3            10443   40.7145     7211212   -73.9425   \n",
       "\n",
       "   price       neu       pos  balcony          ...           price_per_bath  \\\n",
       "0   3000  0.912111  0.082667        0          ...                   2000.0   \n",
       "\n",
       "   price_per_room  display_street_dist  walkingDistToSubway  notWithinNYC  \\\n",
       "0      666.666667                    4                    1          True   \n",
       "\n",
       "   inTag  building_id_mean_medium  building_id_mean_high  \\\n",
       "0      0                  0.21756               0.073852   \n",
       "\n",
       "   manager_id_mean_medium  manager_id_mean_high  \n",
       "0                0.283356          9.196701e-29  \n",
       "\n",
       "[1 rows x 78 columns]"
      ]
     },
     "execution_count": 35,
     "metadata": {},
     "output_type": "execute_result"
    }
   ],
   "source": [
    "X_train[featuresInUse][:1]"
   ]
  },
  {
   "cell_type": "code",
   "execution_count": 30,
   "metadata": {
    "collapsed": false,
    "deletable": true,
    "editable": true
   },
   "outputs": [
    {
     "data": {
      "text/plain": [
       "(0, 10)"
      ]
     },
     "execution_count": 30,
     "metadata": {},
     "output_type": "execute_result"
    },
    {
     "data": {
      "image/png": "[encoded data removed]",
      "text/plain": [
       "<matplotlib.figure.Figure at 0x150ede690>"
      ]
     },
     "metadata": {},
     "output_type": "display_data"
    }
   ],
   "source": [
    "sns.distplot(X_train[X_train['price']>5000]['interest_level'],ax=plt.subplot(121));\n",
    "plt.xlabel('price>5000');\n",
    "axes=plt.gca()\n",
    "axes.set_ylim([0,10])\n",
    "sns.distplot(X_train[X_train['price']<=5000]['interest_level'],ax=plt.subplot(122));\n",
    "plt.xlabel('price<=5000');\n",
    "axes=plt.gca()\n",
    "axes.set_ylim([0,10])"
   ]
  },
  {
   "cell_type": "code",
   "execution_count": 32,
   "metadata": {
    "collapsed": false,
    "deletable": true,
    "editable": true
   },
   "outputs": [
    {
     "data": {
      "image/png": "[encoded data removed]",
      "text/plain": [
       "<matplotlib.figure.Figure at 0x128200250>"
      ]
     },
     "metadata": {},
     "output_type": "display_data"
    }
   ],
   "source": [
    "# X_train['dist_to_subway'].hist()\n",
    "# X_train['bath==bed'].hist()\n",
    "\n",
    "sns.violinplot(x=\"interest_level\", y=\"dist_to_subway\", order=[0, 1, 2],\n",
    "            data=X_train)\n",
    "plt.xlabel('Interest Level');\n",
    "plt.ylabel('Dist to Subway');"
   ]
  },
  {
   "cell_type": "code",
   "execution_count": 33,
   "metadata": {
    "collapsed": false,
    "deletable": true,
    "editable": true
   },
   "outputs": [
    {
     "data": {
      "text/plain": [
       "(0, 100)"
      ]
     },
     "execution_count": 33,
     "metadata": {},
     "output_type": "execute_result"
    },
    {
     "data": {
      "image/png": "[encoded data removed]",
      "text/plain": [
       "<matplotlib.figure.Figure at 0x150ccec90>"
      ]
     },
     "metadata": {},
     "output_type": "display_data"
    }
   ],
   "source": [
    "sns.violinplot(x=\"interest_level\", y=\"display_street_dist\", order=[0, 1, 2],\n",
    "            data=X_train)\n",
    "plt.xlabel('Interest Level');\n",
    "plt.ylabel('display_street_dist');\n",
    "axes=plt.gca()\n",
    "axes.set_ylim([0,100])"
   ]
  },
  {
   "cell_type": "code",
   "execution_count": 34,
   "metadata": {
    "collapsed": false,
    "deletable": true,
    "editable": true
   },
   "outputs": [
    {
     "data": {
      "image/png": "[encoded data removed]",
      "text/plain": [
       "<matplotlib.figure.Figure at 0x10d352690>"
      ]
     },
     "metadata": {},
     "output_type": "display_data"
    }
   ],
   "source": [
    "sns.violinplot(x=\"interest_level\", y=\"city_mean_medium\", order=[0, 1, 2],\n",
    "            data=X_train)\n",
    "plt.xlabel('Interest Level');\n",
    "plt.ylabel('City');"
   ]
  },
  {
   "cell_type": "code",
   "execution_count": 35,
   "metadata": {
    "collapsed": false,
    "deletable": true,
    "editable": true
   },
   "outputs": [
    {
     "data": {
      "text/plain": [
       "(-73.9, -74.05)"
      ]
     },
     "execution_count": 35,
     "metadata": {},
     "output_type": "execute_result"
    },
    {
     "data": {
      "image/png": "[encoded data removed]",
      "text/plain": [
       "<matplotlib.figure.Figure at 0x128ff6dd0>"
      ]
     },
     "metadata": {},
     "output_type": "display_data"
    }
   ],
   "source": [
    "sns.violinplot(x=\"interest_level\", y=\"latitude\", order=[0, 1, 2],\n",
    "            data=X_train, ax=plt.subplot(121))\n",
    "plt.xlabel('Interest Level');\n",
    "plt.ylabel('Latitude');\n",
    "axes=plt.gca()\n",
    "axes.set_ylim([40.6,40.9])\n",
    "sns.violinplot(x=\"interest_level\", y=\"longitude\", order=[0, 1, 2],\n",
    "            data=X_train, ax=plt.subplot(122))\n",
    "plt.xlabel('Interest Level');\n",
    "plt.ylabel('Longitude');\n",
    "axes=plt.gca()\n",
    "axes.set_ylim([-73.9,-74.05])"
   ]
  },
  {
   "cell_type": "code",
   "execution_count": 36,
   "metadata": {
    "collapsed": false,
    "deletable": true,
    "editable": true
   },
   "outputs": [
    {
     "data": {
      "text/plain": [
       "(0, 10)"
      ]
     },
     "execution_count": 36,
     "metadata": {},
     "output_type": "execute_result"
    },
    {
     "data": {
      "image/png": "[encoded data removed]",
      "text/plain": [
       "<matplotlib.figure.Figure at 0x128050bd0>"
      ]
     },
     "metadata": {},
     "output_type": "display_data"
    }
   ],
   "source": [
    "# sns.countplot(x='bath==bed', hue='interest_level', hue_order=[0, 1,2],\n",
    "#               data=X_train);\n",
    "# plt.xlabel('bath==bed');\n",
    "# plt.ylabel('Number of occurrences');\n",
    "\n",
    "sns.distplot(X_train[X_train['bath==bed']==0]['interest_level'],ax=plt.subplot(121));\n",
    "plt.xlabel('bath==bed==0');\n",
    "axes=plt.gca()\n",
    "axes.set_ylim([0,10])\n",
    "sns.distplot(X_train[X_train['bath==bed']==1]['interest_level'],ax=plt.subplot(122));\n",
    "plt.xlabel('bath==bed==1');\n",
    "axes=plt.gca()\n",
    "axes.set_ylim([0,10])"
   ]
  },
  {
   "cell_type": "code",
   "execution_count": 117,
   "metadata": {
    "collapsed": false,
    "deletable": true,
    "editable": true
   },
   "outputs": [
    {
     "data": {
      "text/plain": [
       "num_photos\n",
       "0     3615\n",
       "1     1178\n",
       "2     1334\n",
       "3     4553\n",
       "4     7887\n",
       "5     8733\n",
       "6     6739\n",
       "7     4952\n",
       "8     3972\n",
       "9     1772\n",
       "10    1390\n",
       "11     784\n",
       "12     816\n",
       "13     377\n",
       "14     232\n",
       "15     197\n",
       "16     152\n",
       "17     109\n",
       "18     114\n",
       "19      53\n",
       "20      87\n",
       "21      21\n",
       "22      73\n",
       "23      16\n",
       "24      16\n",
       "25      17\n",
       "26      19\n",
       "27       7\n",
       "28      11\n",
       "29       4\n",
       "30       5\n",
       "31       1\n",
       "32      62\n",
       "34       5\n",
       "35       3\n",
       "36       3\n",
       "37      18\n",
       "38       6\n",
       "43       1\n",
       "44       1\n",
       "45      12\n",
       "46       2\n",
       "50       1\n",
       "60       1\n",
       "68       1\n",
       "Name: bedrooms, dtype: int64"
      ]
     },
     "execution_count": 117,
     "metadata": {},
     "output_type": "execute_result"
    }
   ],
   "source": [
    "X_train.groupby('num_photos').count().iloc[:,1]"
   ]
  },
  {
   "cell_type": "code",
   "execution_count": null,
   "metadata": {
    "collapsed": true,
    "deletable": true,
    "editable": true
   },
   "outputs": [],
   "source": []
  }
 ],
 "metadata": {
  "kernelspec": {
   "display_name": "Python 2",
   "language": "python",
   "name": "python2"
  },
  "language_info": {
   "codemirror_mode": {
    "name": "ipython",
    "version": 2
   },
   "file_extension": ".py",
   "mimetype": "text/x-python",
   "name": "python",
   "nbconvert_exporter": "python",
   "pygments_lexer": "ipython2",
   "version": "2.7.13"
  }
 },
 "nbformat": 4,
 "nbformat_minor": 2
}
