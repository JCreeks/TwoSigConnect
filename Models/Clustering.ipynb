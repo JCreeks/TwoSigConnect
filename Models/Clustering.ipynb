{
 "cells": [
  {
   "cell_type": "code",
   "execution_count": 1,
   "metadata": {
    "collapsed": false
   },
   "outputs": [
    {
     "name": "stdout",
     "output_type": "stream",
     "text": [
      "Populating the interactive namespace from numpy and matplotlib\n"
     ]
    }
   ],
   "source": [
    "%pylab inline"
   ]
  },
  {
   "cell_type": "code",
   "execution_count": 2,
   "metadata": {
    "collapsed": true
   },
   "outputs": [],
   "source": [
    "import pandas as pd\n",
    "import kagglegym"
   ]
  },
  {
   "cell_type": "code",
   "execution_count": 3,
   "metadata": {
    "collapsed": true
   },
   "outputs": [],
   "source": [
    "with pd.HDFStore(\"../input/train.h5\", \"r\") as train:\n",
    "    # Note that the \"train\" dataframe is the only dataframe in the file\n",
    "    df = train.get(\"train\")"
   ]
  },
  {
   "cell_type": "code",
   "execution_count": null,
   "metadata": {
    "collapsed": true
   },
   "outputs": [],
   "source": [
    "from sklearn import linear_model\n",
    "ids = df['id'].unique()\n",
    "beta_mat = zeros((len(ids), 108))\n",
    "\n",
    "for i in range(len(ids)):\n",
    "    # print(i)\n",
    "    data = df[df['id'] == ids[i]]\n",
    "    mean_vals = data.mean()\n",
    "    data = data.fillna(mean_vals)\n",
    "    data = data.fillna(0.0)\n",
    "#     data = data.dropna(axis=1,how='any')\n",
    "    \n",
    "    # Find the columns with the most correlation with y\n",
    "#     corr_mat[ids[i]] = np.array(data.corr(method='pearson', min_periods=1))[:,len(data.columns) - 1]\n",
    "    model = linear_model.LinearRegression()\n",
    "    test_x = np.array(data)[:,2:-1]\n",
    "    test_y = np.array(data)[:,-1]\n",
    "    length = len(test_x[:,0])\n",
    "    width = len(test_x[0,:])\n",
    "#     print(shape(test_y))\n",
    "    model.fit(test_x.reshape(length, width), test_y.reshape(length,1))\n",
    "    beta_mat[i,:] = array(model.coef_)"
   ]
  },
  {
   "cell_type": "code",
   "execution_count": null,
   "metadata": {
    "collapsed": true
   },
   "outputs": [],
   "source": [
    "from sklearn.cluster import KMeans\n",
    "kmean = KMeans(n_clusters=3).fit(array(beta_mat))"
   ]
  },
  {
   "cell_type": "code",
   "execution_count": null,
   "metadata": {
    "collapsed": true
   },
   "outputs": [],
   "source": [
    "kmean.cluster_centers_"
   ]
  }
 ],
 "metadata": {
  "kernelspec": {
   "display_name": "Python 3",
   "language": "python",
   "name": "python3"
  },
  "language_info": {
   "codemirror_mode": {
    "name": "ipython",
    "version": 3
   },
   "file_extension": ".py",
   "mimetype": "text/x-python",
   "name": "python",
   "nbconvert_exporter": "python",
   "pygments_lexer": "ipython3",
   "version": "3.5.2"
  }
 },
 "nbformat": 4,
 "nbformat_minor": 2
}
