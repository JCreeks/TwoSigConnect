{
 "cells": [
  {
   "cell_type": "code",
   "execution_count": 1,
   "metadata": {
    "collapsed": false
   },
   "outputs": [
    {
     "name": "stdout",
     "output_type": "stream",
     "text": [
      "Populating the interactive namespace from numpy and matplotlib\n"
     ]
    }
   ],
   "source": [
    "%pylab inline"
   ]
  },
  {
   "cell_type": "code",
   "execution_count": 2,
   "metadata": {
    "collapsed": true
   },
   "outputs": [],
   "source": [
    "import pandas as pd\n",
    "import kagglegym\n",
    "with pd.HDFStore(\"../input/train.h5\", \"r\") as train:\n",
    "    # Note that the \"train\" dataframe is the only dataframe in the file\n",
    "    df = train.get(\"train\")"
   ]
  },
  {
   "cell_type": "code",
   "execution_count": 4,
   "metadata": {
    "collapsed": false
   },
   "outputs": [
    {
     "name": "stderr",
     "output_type": "stream",
     "text": [
      "/usr/lib/python3.5/site-packages/numpy/lib/function_base.py:2487: RuntimeWarning: Degrees of freedom <= 0 for slice\n",
      "  warnings.warn(\"Degrees of freedom <= 0 for slice\", RuntimeWarning)\n",
      "/usr/lib/python3.5/site-packages/numpy/lib/function_base.py:2496: RuntimeWarning: divide by zero encountered in double_scalars\n",
      "  c *= 1. / np.float64(fact)\n"
     ]
    },
    {
     "data": {
      "text/plain": [
       "[<matplotlib.lines.Line2D at 0x7f7a6361b1d0>]"
      ]
     },
     "execution_count": 4,
     "metadata": {},
     "output_type": "execute_result"
    },
    {
     "data": {
      "image/png": "[encoded data removed]",
      "text/plain": [
       "<matplotlib.figure.Figure at 0x7f7a9324ec88>"
      ]
     },
     "metadata": {},
     "output_type": "display_data"
    }
   ],
   "source": [
    "# This computes the autocorrelation of y for all different unique ids, with lag = 1\n",
    "corrs = zeros(len(df['id'].unique()))\n",
    "ids = df['id'].unique()\n",
    "for i in range(len(corrs)):\n",
    "    corrs[i] = df[df['id'] == ids[i]]['y'].autocorr(lag=1)\n",
    "plot(corrs)"
   ]
  },
  {
   "cell_type": "code",
   "execution_count": 5,
   "metadata": {
    "collapsed": false
   },
   "outputs": [
    {
     "data": {
      "text/plain": [
       "444"
      ]
     },
     "execution_count": 5,
     "metadata": {},
     "output_type": "execute_result"
    }
   ],
   "source": [
    "# Find biggest correlation\n",
    "for i in range(len(corrs)):\n",
    "    if corrs[i] != corrs[i]:\n",
    "        corrs[i] = 0.0\n",
    "argmin(corrs)"
   ]
  },
  {
   "cell_type": "code",
   "execution_count": 6,
   "metadata": {
    "collapsed": false
   },
   "outputs": [
    {
     "name": "stdout",
     "output_type": "stream",
     "text": [
      "[1276 1314 1056  980  546  752 1726]\n"
     ]
    }
   ],
   "source": [
    "# fing all big correlations that are bigger than 0.4\n",
    "big_corrs = []\n",
    "for i in range(len(corrs)):\n",
    "    if abs(corrs[i]) > 0.4:\n",
    "        big_corrs += [i]\n",
    "len(big_corrs)\n",
    "print(ids[big_corrs])"
   ]
  },
  {
   "cell_type": "code",
   "execution_count": 8,
   "metadata": {
    "collapsed": false
   },
   "outputs": [
    {
     "name": "stdout",
     "output_type": "stream",
     "text": [
      "18\n",
      "12\n",
      "8\n",
      "12\n",
      "14\n",
      "14\n",
      "14\n"
     ]
    }
   ],
   "source": [
    "# print the lengths of the data that have large correlations\n",
    "for i in range(len(big_corrs)):\n",
    "    print(len(df[df['id'] == ids[big_corrs[i]]]))"
   ]
  },
  {
   "cell_type": "code",
   "execution_count": 9,
   "metadata": {
    "collapsed": false
   },
   "outputs": [
    {
     "name": "stdout",
     "output_type": "stream",
     "text": [
      "id at  1276\n",
      "id 1276 has column fundamental_1 all nan\n",
      "id 1276 has column fundamental_3 all nan\n",
      "id 1276 has column fundamental_5 all nan\n",
      "id 1276 has column fundamental_6 all nan\n",
      "id 1276 has column fundamental_9 all nan\n",
      "id 1276 has column fundamental_17 all nan\n",
      "id 1276 has column fundamental_22 all nan\n",
      "id 1276 has column fundamental_24 all nan\n",
      "id 1276 has column fundamental_25 all nan\n",
      "id 1276 has column fundamental_26 all nan\n",
      "id 1276 has column fundamental_27 all nan\n",
      "id 1276 has column fundamental_28 all nan\n",
      "id 1276 has column fundamental_31 all nan\n",
      "id 1276 has column fundamental_35 all nan\n",
      "id 1276 has column fundamental_38 all nan\n",
      "id 1276 has column fundamental_47 all nan\n",
      "id 1276 has column fundamental_49 all nan\n",
      "id 1276 has column fundamental_57 all nan\n",
      "id 1276 has column fundamental_61 all nan\n",
      "id 1276 has column fundamental_63 all nan\n",
      "id 1276 has column technical_0 all nan\n",
      "id 1276 has column technical_1 all nan\n",
      "id 1276 has column technical_3 all nan\n",
      "id 1276 has column technical_5 all nan\n",
      "id 1276 has column technical_9 all nan\n",
      "id 1276 has column technical_12 all nan\n",
      "id 1276 has column technical_16 all nan\n",
      "id 1276 has column technical_18 all nan\n",
      "id 1276 has column technical_24 all nan\n",
      "id 1276 has column technical_25 all nan\n",
      "id 1276 has column technical_28 all nan\n",
      "id 1276 has column technical_31 all nan\n",
      "id 1276 has column technical_32 all nan\n",
      "id 1276 has column technical_37 all nan\n",
      "id 1276 has column technical_38 all nan\n",
      "id 1276 has column technical_39 all nan\n",
      "id 1276 has column technical_41 all nan\n",
      "id 1276 has column technical_42 all nan\n",
      "id 1276 has column technical_44 all nan\n",
      "id at  1314\n",
      "id 1314 has column derived_3 all nan\n",
      "id 1314 has column fundamental_6 all nan\n",
      "id 1314 has column fundamental_9 all nan\n",
      "id 1314 has column fundamental_24 all nan\n",
      "id 1314 has column fundamental_27 all nan\n",
      "id 1314 has column fundamental_38 all nan\n",
      "id 1314 has column fundamental_41 all nan\n",
      "id 1314 has column fundamental_63 all nan\n",
      "id 1314 has column technical_0 all nan\n",
      "id 1314 has column technical_1 all nan\n",
      "id 1314 has column technical_3 all nan\n",
      "id 1314 has column technical_5 all nan\n",
      "id 1314 has column technical_9 all nan\n",
      "id 1314 has column technical_10 all nan\n",
      "id 1314 has column technical_12 all nan\n",
      "id 1314 has column technical_16 all nan\n",
      "id 1314 has column technical_18 all nan\n",
      "id 1314 has column technical_24 all nan\n",
      "id 1314 has column technical_25 all nan\n",
      "id 1314 has column technical_28 all nan\n",
      "id 1314 has column technical_31 all nan\n",
      "id 1314 has column technical_32 all nan\n",
      "id 1314 has column technical_37 all nan\n",
      "id 1314 has column technical_38 all nan\n",
      "id 1314 has column technical_39 all nan\n",
      "id 1314 has column technical_41 all nan\n",
      "id 1314 has column technical_42 all nan\n",
      "id 1314 has column technical_44 all nan\n",
      "id at  1056\n",
      "id 1056 has column fundamental_1 all nan\n",
      "id 1056 has column fundamental_6 all nan\n",
      "id 1056 has column fundamental_21 all nan\n",
      "id 1056 has column fundamental_26 all nan\n",
      "id 1056 has column fundamental_28 all nan\n",
      "id 1056 has column fundamental_38 all nan\n",
      "id 1056 has column fundamental_40 all nan\n",
      "id 1056 has column fundamental_52 all nan\n",
      "id 1056 has column fundamental_57 all nan\n",
      "id 1056 has column fundamental_58 all nan\n",
      "id 1056 has column fundamental_61 all nan\n",
      "id 1056 has column fundamental_63 all nan\n",
      "id 1056 has column technical_1 all nan\n",
      "id 1056 has column technical_3 all nan\n",
      "id 1056 has column technical_5 all nan\n",
      "id 1056 has column technical_13 all nan\n",
      "id 1056 has column technical_20 all nan\n",
      "id 1056 has column technical_24 all nan\n",
      "id 1056 has column technical_25 all nan\n",
      "id 1056 has column technical_28 all nan\n",
      "id 1056 has column technical_30 all nan\n",
      "id 1056 has column technical_31 all nan\n",
      "id 1056 has column technical_33 all nan\n",
      "id 1056 has column technical_41 all nan\n",
      "id 1056 has column technical_44 all nan\n",
      "id at  980\n",
      "id 980 has column derived_3 all nan\n",
      "id 980 has column fundamental_1 all nan\n",
      "id 980 has column fundamental_6 all nan\n",
      "id 980 has column fundamental_12 all nan\n",
      "id 980 has column fundamental_20 all nan\n",
      "id 980 has column fundamental_26 all nan\n",
      "id 980 has column fundamental_27 all nan\n",
      "id 980 has column fundamental_28 all nan\n",
      "id 980 has column fundamental_32 all nan\n",
      "id 980 has column fundamental_34 all nan\n",
      "id 980 has column fundamental_38 all nan\n",
      "id 980 has column fundamental_40 all nan\n",
      "id 980 has column fundamental_51 all nan\n",
      "id 980 has column fundamental_52 all nan\n",
      "id 980 has column fundamental_57 all nan\n",
      "id 980 has column fundamental_58 all nan\n",
      "id 980 has column fundamental_61 all nan\n",
      "id 980 has column fundamental_63 all nan\n",
      "id 980 has column technical_1 all nan\n",
      "id 980 has column technical_3 all nan\n",
      "id 980 has column technical_5 all nan\n",
      "id 980 has column technical_10 all nan\n",
      "id 980 has column technical_24 all nan\n",
      "id 980 has column technical_25 all nan\n",
      "id 980 has column technical_28 all nan\n",
      "id 980 has column technical_31 all nan\n",
      "id 980 has column technical_33 all nan\n",
      "id 980 has column technical_41 all nan\n",
      "id 980 has column technical_44 all nan\n",
      "id at  546\n",
      "id 546 has column derived_0 all nan\n",
      "id 546 has column derived_1 all nan\n",
      "id 546 has column derived_2 all nan\n",
      "id 546 has column derived_3 all nan\n",
      "id 546 has column derived_4 all nan\n",
      "id 546 has column fundamental_1 all nan\n",
      "id 546 has column fundamental_3 all nan\n",
      "id 546 has column fundamental_5 all nan\n",
      "id 546 has column fundamental_6 all nan\n",
      "id 546 has column fundamental_8 all nan\n",
      "id 546 has column fundamental_9 all nan\n",
      "id 546 has column fundamental_17 all nan\n",
      "id 546 has column fundamental_19 all nan\n",
      "id 546 has column fundamental_26 all nan\n",
      "id 546 has column fundamental_27 all nan\n",
      "id 546 has column fundamental_28 all nan\n",
      "id 546 has column fundamental_31 all nan\n",
      "id 546 has column fundamental_35 all nan\n",
      "id 546 has column fundamental_38 all nan\n",
      "id 546 has column fundamental_54 all nan\n",
      "id 546 has column fundamental_57 all nan\n",
      "id 546 has column fundamental_61 all nan\n",
      "id 546 has column fundamental_63 all nan\n",
      "id 546 has column technical_1 all nan\n",
      "id 546 has column technical_3 all nan\n",
      "id 546 has column technical_5 all nan\n",
      "id 546 has column technical_10 all nan\n",
      "id 546 has column technical_19 all nan\n",
      "id 546 has column technical_24 all nan\n",
      "id 546 has column technical_25 all nan\n",
      "id 546 has column technical_27 all nan\n",
      "id 546 has column technical_28 all nan\n",
      "id 546 has column technical_31 all nan\n",
      "id 546 has column technical_33 all nan\n",
      "id 546 has column technical_35 all nan\n",
      "id 546 has column technical_36 all nan\n",
      "id 546 has column technical_41 all nan\n",
      "id 546 has column technical_44 all nan\n",
      "id at  752\n",
      "id 752 has column fundamental_1 all nan\n",
      "id 752 has column fundamental_6 all nan\n",
      "id 752 has column fundamental_7 all nan\n",
      "id 752 has column fundamental_10 all nan\n",
      "id 752 has column fundamental_21 all nan\n",
      "id 752 has column fundamental_25 all nan\n",
      "id 752 has column fundamental_26 all nan\n",
      "id 752 has column fundamental_28 all nan\n",
      "id 752 has column fundamental_38 all nan\n",
      "id 752 has column fundamental_40 all nan\n",
      "id 752 has column fundamental_52 all nan\n",
      "id 752 has column fundamental_57 all nan\n",
      "id 752 has column fundamental_61 all nan\n",
      "id 752 has column fundamental_62 all nan\n",
      "id 752 has column fundamental_63 all nan\n",
      "id 752 has column technical_1 all nan\n",
      "id 752 has column technical_3 all nan\n",
      "id 752 has column technical_5 all nan\n",
      "id 752 has column technical_24 all nan\n",
      "id 752 has column technical_25 all nan\n",
      "id 752 has column technical_28 all nan\n",
      "id 752 has column technical_31 all nan\n",
      "id 752 has column technical_33 all nan\n",
      "id 752 has column technical_41 all nan\n",
      "id 752 has column technical_44 all nan\n",
      "id at  1726\n",
      "id 1726 has column derived_0 all nan\n",
      "id 1726 has column derived_1 all nan\n",
      "id 1726 has column derived_4 all nan\n",
      "id 1726 has column fundamental_1 all nan\n",
      "id 1726 has column fundamental_6 all nan\n",
      "id 1726 has column fundamental_26 all nan\n",
      "id 1726 has column fundamental_27 all nan\n",
      "id 1726 has column fundamental_38 all nan\n",
      "id 1726 has column fundamental_57 all nan\n",
      "id 1726 has column fundamental_61 all nan\n",
      "id 1726 has column fundamental_63 all nan\n",
      "id 1726 has column technical_1 all nan\n",
      "id 1726 has column technical_3 all nan\n",
      "id 1726 has column technical_5 all nan\n",
      "id 1726 has column technical_10 all nan\n",
      "id 1726 has column technical_24 all nan\n",
      "id 1726 has column technical_25 all nan\n",
      "id 1726 has column technical_28 all nan\n",
      "id 1726 has column technical_31 all nan\n",
      "id 1726 has column technical_33 all nan\n",
      "id 1726 has column technical_41 all nan\n",
      "id 1726 has column technical_44 all nan\n"
     ]
    }
   ],
   "source": [
    "# Find which columns are NaN for these stuff\n",
    "for i in range(len(big_corrs)):\n",
    "    print(\"id at \", ids[big_corrs[i]])\n",
    "    data = df[df['id'] == ids[big_corrs[i]]]\n",
    "    cols = data.columns[2:110]\n",
    "    for j in range(len(cols)):\n",
    "        all_nan = True\n",
    "#         print(cols[j], len(data[cols[j]]))\n",
    "        for k in range(len(data[cols[j]])):\n",
    "            if (data[cols[j]].values[k] == data[cols[j]].values[k]):\n",
    "                all_nan = False\n",
    "                break;\n",
    "        if all_nan == True:\n",
    "            print(\"id\", ids[big_corrs[i]], \"has column\", cols[j], \"all nan\")\n",
    "#     print(df[df['id'] == ids[big_corrs[i]]])"
   ]
  },
  {
   "cell_type": "code",
   "execution_count": 10,
   "metadata": {
    "collapsed": false
   },
   "outputs": [
    {
     "name": "stdout",
     "output_type": "stream",
     "text": [
      "id at  10\n",
      "id 10 has column fundamental_5 all nan\n",
      "id 10 has column technical_25 all nan\n",
      "id 10 has column technical_28 all nan\n",
      "id 10 has column technical_31 all nan\n",
      "id 10 has column technical_44 all nan\n",
      "id at  406\n",
      "id 406 has column derived_0 all nan\n",
      "id 406 has column derived_1 all nan\n",
      "id 406 has column derived_2 all nan\n",
      "id 406 has column derived_3 all nan\n",
      "id 406 has column derived_4 all nan\n",
      "id 406 has column fundamental_1 all nan\n",
      "id 406 has column fundamental_2 all nan\n",
      "id 406 has column fundamental_3 all nan\n",
      "id 406 has column fundamental_5 all nan\n",
      "id 406 has column fundamental_6 all nan\n",
      "id 406 has column fundamental_7 all nan\n",
      "id 406 has column fundamental_8 all nan\n",
      "id 406 has column fundamental_9 all nan\n",
      "id 406 has column fundamental_11 all nan\n",
      "id 406 has column fundamental_12 all nan\n",
      "id 406 has column fundamental_13 all nan\n",
      "id 406 has column fundamental_14 all nan\n",
      "id 406 has column fundamental_15 all nan\n",
      "id 406 has column fundamental_16 all nan\n",
      "id 406 has column fundamental_17 all nan\n",
      "id 406 has column fundamental_18 all nan\n",
      "id 406 has column fundamental_19 all nan\n",
      "id 406 has column fundamental_20 all nan\n",
      "id 406 has column fundamental_22 all nan\n",
      "id 406 has column fundamental_23 all nan\n",
      "id 406 has column fundamental_24 all nan\n",
      "id 406 has column fundamental_25 all nan\n",
      "id 406 has column fundamental_26 all nan\n",
      "id 406 has column fundamental_27 all nan\n",
      "id 406 has column fundamental_28 all nan\n",
      "id 406 has column fundamental_29 all nan\n",
      "id 406 has column fundamental_30 all nan\n",
      "id 406 has column fundamental_31 all nan\n",
      "id 406 has column fundamental_32 all nan\n",
      "id 406 has column fundamental_33 all nan\n",
      "id 406 has column fundamental_34 all nan\n",
      "id 406 has column fundamental_35 all nan\n",
      "id 406 has column fundamental_36 all nan\n",
      "id 406 has column fundamental_37 all nan\n",
      "id 406 has column fundamental_38 all nan\n",
      "id 406 has column fundamental_39 all nan\n",
      "id 406 has column fundamental_40 all nan\n",
      "id 406 has column fundamental_43 all nan\n",
      "id 406 has column fundamental_44 all nan\n",
      "id 406 has column fundamental_45 all nan\n",
      "id 406 has column fundamental_46 all nan\n",
      "id 406 has column fundamental_47 all nan\n",
      "id 406 has column fundamental_48 all nan\n",
      "id 406 has column fundamental_49 all nan\n",
      "id 406 has column fundamental_50 all nan\n",
      "id 406 has column fundamental_51 all nan\n",
      "id 406 has column fundamental_52 all nan\n",
      "id 406 has column fundamental_54 all nan\n",
      "id 406 has column fundamental_55 all nan\n",
      "id 406 has column fundamental_56 all nan\n",
      "id 406 has column fundamental_57 all nan\n",
      "id 406 has column fundamental_58 all nan\n",
      "id 406 has column fundamental_59 all nan\n",
      "id 406 has column fundamental_60 all nan\n",
      "id 406 has column fundamental_61 all nan\n",
      "id 406 has column fundamental_63 all nan\n",
      "id at  789\n",
      "id 789 has column fundamental_5 all nan\n",
      "id at  1225\n",
      "id 1225 has column fundamental_5 all nan\n",
      "id at  1618\n",
      "id at  2027\n",
      "id 2027 has column fundamental_1 all nan\n",
      "id 2027 has column fundamental_6 all nan\n",
      "id 2027 has column fundamental_22 all nan\n",
      "id 2027 has column fundamental_26 all nan\n",
      "id 2027 has column fundamental_28 all nan\n",
      "id 2027 has column fundamental_38 all nan\n",
      "id 2027 has column fundamental_40 all nan\n",
      "id 2027 has column fundamental_49 all nan\n",
      "id 2027 has column fundamental_57 all nan\n",
      "id 2027 has column fundamental_61 all nan\n",
      "id at  52\n",
      "id 52 has column fundamental_5 all nan\n",
      "id at  432\n",
      "id 432 has column fundamental_1 all nan\n",
      "id 432 has column fundamental_5 all nan\n",
      "id 432 has column fundamental_6 all nan\n",
      "id 432 has column fundamental_26 all nan\n",
      "id 432 has column fundamental_38 all nan\n",
      "id 432 has column fundamental_57 all nan\n",
      "id 432 has column fundamental_61 all nan\n",
      "id at  101\n",
      "id 101 has column fundamental_38 all nan\n",
      "id at  561\n",
      "id 561 has column derived_0 all nan\n",
      "id 561 has column derived_1 all nan\n",
      "id 561 has column derived_2 all nan\n",
      "id 561 has column derived_3 all nan\n",
      "id 561 has column derived_4 all nan\n",
      "id 561 has column fundamental_1 all nan\n",
      "id 561 has column fundamental_6 all nan\n",
      "id 561 has column fundamental_26 all nan\n",
      "id 561 has column fundamental_27 all nan\n",
      "id 561 has column fundamental_38 all nan\n",
      "id 561 has column fundamental_54 all nan\n",
      "id 561 has column fundamental_57 all nan\n",
      "id 561 has column fundamental_61 all nan\n",
      "id 561 has column fundamental_63 all nan\n",
      "id 561 has column technical_10 all nan\n"
     ]
    }
   ],
   "source": [
    "# Look at some random ids to see which columns are NaN\n",
    "for i in range(0,1400,140):\n",
    "    print(\"id at \", ids[i])\n",
    "    data = df[df['id'] == ids[i]]\n",
    "    cols = data.columns[2:110]\n",
    "    for j in range(len(cols)):\n",
    "        all_nan = True\n",
    "#         print(cols[j], len(data[cols[j]]))\n",
    "        for k in range(len(data[cols[j]])):\n",
    "            if (data[cols[j]].values[k] == data[cols[j]].values[k]):\n",
    "                all_nan = False\n",
    "                break;\n",
    "        if all_nan == True:\n",
    "            print(\"id\", ids[i], \"has column\", cols[j], \"all nan\")"
   ]
  },
  {
   "cell_type": "code",
   "execution_count": null,
   "metadata": {
    "collapsed": true
   },
   "outputs": [],
   "source": []
  }
 ],
 "metadata": {
  "kernelspec": {
   "display_name": "Python [Root]",
   "language": "python",
   "name": "Python [Root]"
  },
  "language_info": {
   "codemirror_mode": {
    "name": "ipython",
    "version": 3
   },
   "file_extension": ".py",
   "mimetype": "text/x-python",
   "name": "python",
   "nbconvert_exporter": "python",
   "pygments_lexer": "ipython3",
   "version": "3.5.2"
  }
 },
 "nbformat": 4,
 "nbformat_minor": 2
}
