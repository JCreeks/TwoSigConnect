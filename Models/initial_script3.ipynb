{
 "cells": [
  {
   "cell_type": "code",
   "execution_count": 5,
   "metadata": {
    "collapsed": true
   },
   "outputs": [],
   "source": [
    "import kagglegym\n",
    "import numpy as np\n",
    "import pandas as pd\n",
    "# from sklearn import linear_model as lm\n",
    "from sklearn.linear_model import Ridge\n",
    "from sklearn.ensemble import ExtraTreesRegressor\n",
    "from sklearn.linear_model import LinearRegression\n"
   ]
  },
  {
   "cell_type": "code",
   "execution_count": 2,
   "metadata": {
    "collapsed": true
   },
   "outputs": [],
   "source": [
    "# target = 'y'\n",
    "\n",
    "# # The \"environment\" is our interface for code competitions\n",
    "# env = kagglegym.make()\n",
    "\n",
    "# # We get our initial observation by calling \"reset\"\n",
    "# observation = env.reset()\n",
    "\n",
    "env = kagglegym.make()\n",
    "o = env.reset()\n",
    "#o.train = o.train[:1000]\n",
    "excl = [env.ID_COL_NAME, env.SAMPLE_COL_NAME, env.TARGET_COL_NAME, env.TIME_COL_NAME]\n",
    "col = [c for c in o.train.columns if c not in excl]\n",
    "\n"
   ]
  },
  {
   "cell_type": "code",
   "execution_count": 3,
   "metadata": {
    "collapsed": false
   },
   "outputs": [
    {
     "name": "stderr",
     "output_type": "stream",
     "text": [
      "/Users/jingguo/anaconda/lib/python3.5/site-packages/ipykernel/__main__.py:13: SettingWithCopyWarning: \n",
      "A value is trying to be set on a copy of a slice from a DataFrame.\n",
      "Try using .loc[row_indexer,col_indexer] = value instead\n",
      "\n",
      "See the caveats in the documentation: http://pandas.pydata.org/pandas-docs/stable/indexing.html#indexing-view-versus-copy\n"
     ]
    }
   ],
   "source": [
    "# # Get the train dataframe\n",
    "# train = observation.train\n",
    "# mean_values = train.mean(axis=0)\n",
    "# train.fillna(mean_values, inplace=True)\n",
    "\n",
    "train = pd.read_hdf('../input/train.h5')\n",
    "train = train[col]\n",
    "d_mean= train.median(axis=0)\n",
    "\n",
    "train = o.train[col]\n",
    "n = train.isnull().sum(axis=1)\n",
    "for c in train.columns:\n",
    "    train[c + '_nan_'] = pd.isnull(train[c])\n",
    "    d_mean[c + '_nan_'] = 0\n",
    "train = train.fillna(d_mean)\n",
    "train['znull'] = n\n",
    "n = []\n",
    "\n"
   ]
  },
  {
   "cell_type": "code",
   "execution_count": 6,
   "metadata": {
    "collapsed": false
   },
   "outputs": [],
   "source": [
    "rfr = ExtraTreesRegressor(n_estimators=100, max_depth=4, n_jobs=-1, random_state=17, verbose=0)\n",
    "model1 = rfr.fit(train, o.train['y'])\n",
    "train = []"
   ]
  },
  {
   "cell_type": "code",
   "execution_count": 7,
   "metadata": {
    "collapsed": false
   },
   "outputs": [],
   "source": [
    "# cols_to_use = ['technical_30', 'technical_20', 'fundamental_11']\n",
    "\n",
    "# Observed with histograns:\n",
    "low_y_cut = -0.086093\n",
    "high_y_cut = 0.093497\n",
    "\n",
    "y_is_above_cut = (o.train.y > high_y_cut)\n",
    "y_is_below_cut = (o.train.y < low_y_cut)\n",
    "y_is_within_cut = (~y_is_above_cut & ~y_is_below_cut)\n",
    "\n",
    "ridge1 = Ridge() ## f11 only\n",
    "ridge2 = Ridge() ## t30 and f11\n",
    "ridge3 = Ridge() ## t20 and f11\n",
    "ridge4 = Ridge() ## t30, t20, f11\n",
    "\n",
    "train = o.train.loc[y_is_within_cut]\n",
    "\n",
    "index1 = train.query(\"technical_30 == 0.0 & technical_20 == 0.0\").index\n",
    "index2 = train.query(\"technical_30 != 0.0 & technical_20 == 0.0\").index\n",
    "index3 = train.query(\"technical_30 == 0.0 & technical_20 != 0.0\").index\n",
    "index4 = train.query(\"technical_30 != 0.0 & technical_20 != 0.0\").index\n",
    "\n",
    "\n",
    "####no fillna in orginal code!\n",
    "ridge1.fit(train.fillna(d_mean).loc[index1, [\"fundamental_11\"]].values, train.loc[index1].y)\n",
    "ridge2.fit(train.fillna(d_mean).loc[index2, ['technical_30', 'fundamental_11']].values, train.loc[index2].y)\n",
    "ridge3.fit(train.fillna(d_mean).loc[index3, ['technical_20', 'fundamental_11']].values, train.loc[index3].y)\n",
    "ridge4.fit(train.fillna(d_mean).loc[index4, ['technical_30', 'technical_20', 'fundamental_11']].values, \\\n",
    "           train.loc[index4].y)\n",
    "\n",
    "\n",
    "# model = Ridge()\n",
    "# model.fit(np.array(train.loc[y_is_within_cut, cols_to_use].values), train.loc[y_is_within_cut, target])\n",
    "\n",
    "# ymean_dict = dict(train.groupby([\"id\"])[\"y\"].mean())\n",
    "ymedian_dict = dict(o.train.groupby([\"id\"])[\"y\"].median())\n"
   ]
  },
  {
   "cell_type": "code",
   "execution_count": 8,
   "metadata": {
    "collapsed": false
   },
   "outputs": [
    {
     "name": "stderr",
     "output_type": "stream",
     "text": [
      "/Users/jingguo/anaconda/lib/python3.5/site-packages/ipykernel/__main__.py:13: SettingWithCopyWarning: \n",
      "A value is trying to be set on a copy of a slice from a DataFrame.\n",
      "Try using .loc[row_indexer,col_indexer] = value instead\n",
      "\n",
      "See the caveats in the documentation: http://pandas.pydata.org/pandas-docs/stable/indexing.html#indexing-view-versus-copy\n"
     ]
    },
    {
     "name": "stdout",
     "output_type": "stream",
     "text": [
      "Timestamp #1000\n",
      "-0.314267639621\n",
      "Timestamp #1100\n",
      "-0.18600701931\n",
      "Timestamp #1200\n",
      "-0.16783437709\n",
      "Timestamp #1300\n",
      "0.0145157109423\n",
      "Timestamp #1400\n",
      "-0.123818855662\n",
      "Timestamp #1500\n",
      "-0.158982290481\n",
      "Timestamp #1600\n",
      "-0.204868571962\n",
      "Timestamp #1700\n",
      "-0.30734319051\n",
      "Timestamp #1800\n",
      "-0.0231854772019\n",
      "{'public_score': 0.021759011711930613}\n"
     ]
    }
   ],
   "source": [
    "coeff1 = .65\n",
    "coeff2 =.95\n",
    "\n",
    "def get_weighted_y(series):\n",
    "    id, y = series[\"id\"], series[\"y\"]\n",
    "    # return 0.95 * y + 0.05 * ymean_dict[id] if id in ymean_dict else y\n",
    "    return coeff2 * y + (1-coeff2) * ymedian_dict[id] if id in ymedian_dict else y\n",
    "\n",
    "while True:\n",
    "    test = o.features[col]\n",
    "    n = test.isnull().sum(axis=1)\n",
    "    for c in test.columns:\n",
    "        test[c + '_nan_'] = pd.isnull(test[c])\n",
    "    test = test.fillna(d_mean)\n",
    "    test['znull'] = n\n",
    "    pred = o.target\n",
    "    #observation.features.fillna(mean_values, inplace=True)\n",
    "    # test_x = np.array(observation.features[cols_to_use].values)\n",
    "    # observation.target.y = model.predict(test_x).clip(low_y_cut, high_y_cut)\n",
    "    \n",
    "    index1 = test.query(\"technical_30 == 0.0 & technical_20 == 0.0\").index\n",
    "    index2 = test.query(\"technical_30 != 0.0 & technical_20 == 0.0\").index\n",
    "    index3 = test.query(\"technical_30 == 0.0 & technical_20 != 0.0\").index\n",
    "    index4 = test.query(\"technical_30 != 0.0 & technical_20 != 0.0\").index\n",
    "    \n",
    "    if len(index1) > 0:\n",
    "        pred.loc[index1, 'y'] = ridge1.predict\\\n",
    "        (test.loc[index1, [\"fundamental_11\"]].values).clip(low_y_cut, high_y_cut)\n",
    "    if len(index2) > 0:\n",
    "        pred.loc[index2, 'y'] = ridge2.predict\\\n",
    "        (test.loc[index2, ['technical_30', 'fundamental_11']].values).clip(low_y_cut, high_y_cut)\n",
    "    if len(index3) > 0:\n",
    "        pred.loc[index3, 'y'] = ridge3.predict\\\n",
    "        (test.loc[index3, ['technical_20', 'fundamental_11']].values).clip(low_y_cut, high_y_cut)\n",
    "    if len(index4) > 0:\n",
    "        pred.loc[index4, 'y'] = ridge4.predict\\\n",
    "        (test.loc[index4, ['technical_30', 'technical_20', 'fundamental_11']].values).clip(low_y_cut, high_y_cut)\n",
    "\n",
    "    ## weighted y using average value\n",
    "    pred['y'] = (model1.predict(test).clip(low_y_cut, high_y_cut) * coeff1) + \\\n",
    "                pred['y'] * (1-coeff1)\n",
    "    pred['y'] = pred.apply(get_weighted_y, axis = 1)\n",
    "    \n",
    "    #observation.target.fillna(0, inplace=True)\n",
    "    #target = observation.target\n",
    "    timestamp = o.features[\"timestamp\"][0]\n",
    "    if timestamp % 100 == 0:\n",
    "        print(\"Timestamp #{}\".format(timestamp))\n",
    "        print(reward)\n",
    "\n",
    "    o, reward, done, info = env.step(pred)\n",
    "    if done:\n",
    "        break\n",
    "    \n",
    "print(info)"
   ]
  },
  {
   "cell_type": "code",
   "execution_count": null,
   "metadata": {
    "collapsed": true
   },
   "outputs": [],
   "source": []
  }
 ],
 "metadata": {
  "anaconda-cloud": {},
  "kernelspec": {
   "display_name": "Python [Root]",
   "language": "python",
   "name": "Python [Root]"
  },
  "language_info": {
   "codemirror_mode": {
    "name": "ipython",
    "version": 3
   },
   "file_extension": ".py",
   "mimetype": "text/x-python",
   "name": "python",
   "nbconvert_exporter": "python",
   "pygments_lexer": "ipython3",
   "version": "3.5.2"
  }
 },
 "nbformat": 4,
 "nbformat_minor": 0
}
