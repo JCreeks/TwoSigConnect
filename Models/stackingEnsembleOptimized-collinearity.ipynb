{
 "cells": [
  {
   "cell_type": "code",
   "execution_count": 1,
   "metadata": {
    "collapsed": false,
    "deletable": true,
    "editable": true
   },
   "outputs": [
    {
     "name": "stderr",
     "output_type": "stream",
     "text": [
      "C:\\Users\\jiguo\\AppData\\Local\\Enthought\\Canopy\\User\\lib\\site-packages\\sklearn\\cross_validation.py:44: DeprecationWarning: This module was deprecated in version 0.18 in favor of the model_selection module into which all the refactored classes and functions are moved. Also note that the interface of the new CV iterators are different from that of this module. This module will be removed in 0.20.\n",
      "  \"This module will be removed in 0.20.\", DeprecationWarning)\n",
      "C:\\Users\\jiguo\\AppData\\Local\\Enthought\\Canopy\\User\\lib\\site-packages\\sklearn\\grid_search.py:43: DeprecationWarning: This module was deprecated in version 0.18 in favor of the model_selection module into which all the refactored classes and functions are moved. This module will be removed in 0.20.\n",
      "  DeprecationWarning)\n"
     ]
    }
   ],
   "source": [
    "from sklearn.grid_search import GridSearchCV\n",
    "#import xgboost as xgb\n",
    "import kagglegym\n",
    "import numpy as np\n",
    "import pandas as pd\n",
    "from sklearn.ensemble import ExtraTreesRegressor\n",
    "from sklearn.linear_model import LinearRegression\n",
    "from sklearn.cross_validation import KFold\n",
    "from time import time\n",
    "import itertools"
   ]
  },
  {
   "cell_type": "code",
   "execution_count": 2,
   "metadata": {
    "collapsed": false,
    "deletable": true,
    "editable": true,
    "scrolled": true
   },
   "outputs": [],
   "source": [
    "env = kagglegym.make()\n",
    "o = env.reset()\n",
    "#o.train = o.train[:1000]\n",
    "excl = [env.ID_COL_NAME, env.SAMPLE_COL_NAME, env.TARGET_COL_NAME, env.TIME_COL_NAME]\n",
    "col = [c for c in o.train.columns if c not in excl]\n",
    "\n",
    "#train = pd.read_hdf(r'C:\\Users\\jiguo\\Desktop\\KProject\\input\\train.h5')\n",
    "O = pd.read_hdf('../input/train.h5')\n",
    "d_mean= O[col].median(axis=0)\n",
    "ymean_dict = dict(o.train.groupby([\"id\"])[\"y\"].median())"
   ]
  },
  {
   "cell_type": "code",
   "execution_count": 3,
   "metadata": {
    "collapsed": true,
    "deletable": true,
    "editable": true
   },
   "outputs": [],
   "source": [
    "X_train=(O[col])[O.timestamp <= 905].fillna(d_mean)\n",
    "y_train=O.y[O.timestamp <= 905]\n",
    "X_test=(O[col])[O.timestamp > 905].fillna(d_mean)\n",
    "y_test=O.y[O.timestamp > 905]"
   ]
  },
  {
   "cell_type": "code",
   "execution_count": 4,
   "metadata": {
    "collapsed": true,
    "deletable": true,
    "editable": true
   },
   "outputs": [],
   "source": [
    "#train for trees\n",
    "# train = o.train[col]\n",
    "def NAOperation(train, d_mean):\n",
    "    n = train.isnull().sum(axis=1)\n",
    "    for c in train.columns:\n",
    "        train[c + '_nan_'] = pd.isnull(train[c])\n",
    "        d_mean[c + '_nan_'] = 0\n",
    "    #train = train.fillna(d_mean)\n",
    "    train['znull'] = n\n",
    "    n = []\n",
    "    return train\n",
    "\n",
    "def get_reward(y_true, y_fit):\n",
    "    R2 = 1 - np.sum((y_true - y_fit)**2) / np.sum((y_true - np.mean(y_true))**2)\n",
    "    R = np.sign(R2) * np.sqrt(abs(R2))\n",
    "    return(R)"
   ]
  },
  {
   "cell_type": "code",
   "execution_count": 5,
   "metadata": {
    "collapsed": false,
    "deletable": true,
    "editable": true
   },
   "outputs": [],
   "source": [
    "class RTR(object):\n",
    "    def __init__(self, d_mean, n_estimators=40, max_depth=4, n_jobs=-1,                                                         random_state=17, verbose=0):\n",
    "#         self.objective=objective\n",
    "#         self.colsample_bytree=colsample_bytree\n",
    "#         self.subsample=subsample\n",
    "#         self.min_child_weight=min_child_weight\n",
    "#         self.base_score=base_score\n",
    "        self.d_mean=d_mean\n",
    "        self.model=ExtraTreesRegressor(n_estimators=n_estimators, max_depth=max_depth,\\\n",
    "                                   n_jobs=n_jobs, random_state=random_state, \\\n",
    "                                   verbose=verbose)\n",
    "        \n",
    "    def fit(self, X_train, y_train):\n",
    "        self.model.fit(NAOperation(X_train, self.d_mean), y_train)\n",
    "        \n",
    "    def predict(self, X_test):\n",
    "        return self.model.predict(NAOperation(X_test, self.d_mean))"
   ]
  },
  {
   "cell_type": "code",
   "execution_count": 14,
   "metadata": {
    "collapsed": false,
    "deletable": true,
    "editable": true
   },
   "outputs": [],
   "source": [
    "class LR_tech():\n",
    "    def __init__(self, d_mean, colLR=['technical_20'], low_y_cut=-0.085, high_y_cut=0.075, n_jobs=-1):\n",
    "        self.low_y_cut = low_y_cut\n",
    "        self.high_y_cut = high_y_cut\n",
    "        self.model=LinearRegression(n_jobs=n_jobs)\n",
    "        self.d_mean=d_mean\n",
    "        #self.col=col\n",
    "        self.colLR=colLR\n",
    "        \n",
    "    def fit(self, X_train, y_train):\n",
    "        #d_mean= x_train.median(axis=0)\n",
    "        #x_train=x_train.fillna(d_mean)\n",
    "        #x_train = x_train[self.col]\n",
    "        y_is_above_cut = (y_train > self.high_y_cut)\n",
    "        y_is_below_cut = (y_train < self.low_y_cut)\n",
    "        y_is_within_cut = (~y_is_above_cut & ~y_is_below_cut)\n",
    "        self.model.fit(np.array(X_train.loc[y_is_within_cut, self.colLR].values).\\\n",
    "                                      reshape(-1,len(self.colLR)), y_train.loc[y_is_within_cut])\n",
    "\n",
    "    def predict(self, X_test):\n",
    "        return self.model.predict(np.array(X_test[self.colLR].fillna(self.d_mean).values).\\\n",
    "                                  reshape(-1,len(self.colLR))).clip(self.low_y_cut, self.high_y_cut)"
   ]
  },
  {
   "cell_type": "code",
   "execution_count": 7,
   "metadata": {
    "collapsed": false,
    "deletable": true,
    "editable": true
   },
   "outputs": [],
   "source": [
    "class Ensemble(object):\n",
    "    def __init__(self, n_folds, stacker, base_models):\n",
    "        self.n_folds = n_folds\n",
    "        self.stacker = stacker\n",
    "        self.base_models = base_models\n",
    "        self.S_train=[]\n",
    "        self.S_test=[]\n",
    "        self_folds=[]\n",
    "        \n",
    "    def fit(self, X, y):\n",
    "        #X = np.array(X)\n",
    "        #y = np.array(y)\n",
    "        self.folds = list(KFold(len(y), n_folds=self.n_folds, shuffle=True, random_state=17))\n",
    "        self.S_train = np.zeros((X.shape[0], len(self.base_models)))\n",
    "        for i, clf in enumerate(self.base_models):\n",
    "            for j, (train_idx, test_idx) in enumerate(self.folds):\n",
    "                X_train = X.iloc[train_idx]\n",
    "                y_train = y.iloc[train_idx]\n",
    "                X_holdout = X.iloc[test_idx]\n",
    "                # y_holdout = y[test_idx]\n",
    "                clf[j].fit(X_train, y_train)\n",
    "                y_pred = clf[j].predict(X_holdout)[:]\n",
    "                self.S_train[test_idx, i] = y_pred\n",
    "        self.stacker.fit(self.S_train, y)\n",
    "        \n",
    "    def predict(self, T):       \n",
    "        #T = np.array(T)       \n",
    "        self.S_test = np.zeros((T.shape[0], len(self.base_models)))\n",
    "        for i, clf in enumerate(self.base_models):\n",
    "            S_test_i = np.zeros((T.shape[0], len(self.folds)))\n",
    "            for j in range(len(self.folds)):\n",
    "                S_test_i[:, j] = clf[j].predict(T)[:]\n",
    "            self.S_test[:, i] = S_test_i.mean(1)\n",
    "#             self.S_test[:,i]=[sum(map(lambda x: (x.predict(T))[0],clf))/self.n_folds]\n",
    "        y_pred = self.stacker.predict(self.S_test)[:]\n",
    "        return y_pred"
   ]
  },
  {
   "cell_type": "code",
   "execution_count": 31,
   "metadata": {
    "collapsed": false
   },
   "outputs": [
    {
     "name": "stdout",
     "output_type": "stream",
     "text": [
      "reward LR=0.972964865045\n"
     ]
    }
   ],
   "source": [
    "colLR=['technical_30', 'technical_20', 'fundamental_11', 'technical_19']\n",
    "tmpModel=LR_tech(d_mean=d_mean, colLR=colLR, low_y_cut=-0.075, high_y_cut=0.075, \\\n",
    "                                                n_jobs=-1)\n",
    "tmpModel.fit(X_train, y_train) \n",
    "predLR=pd.DataFrame()\n",
    "predLR['y'] = tmpModel.predict(X_test)\n",
    "# predLR['y'] = predLR.apply(lambda r: 0.95 * r['y'] + 0.05 * ymean_dict[r['id']]\\\n",
    "#                           if r['id'] in ymean_dict else r['y'], axis = 1)\n",
    "#print(\"LR coeff={}\".format(ensembleObjLR.stacker.coef_))\n",
    "print(\"reward LR={}\".format(get_reward(y_test, predLR.y)))"
   ]
  },
  {
   "cell_type": "code",
   "execution_count": 29,
   "metadata": {
    "collapsed": false
   },
   "outputs": [
    {
     "name": "stdout",
     "output_type": "stream",
     "text": [
      "LR coeff=[ 0.82685598]\n",
      "reward LR=0.972971869725\n",
      "2.0119998455\n"
     ]
    }
   ],
   "source": [
    "start=time()\n",
    "n_folds = 2\n",
    "colLR=['technical_30', 'technical_20', 'fundamental_11', 'technical_19']\n",
    "ensembleObjLR=Ensemble(n_folds=n_folds, stacker=LinearRegression(fit_intercept=False, n_jobs=-1), \\\n",
    "                       base_models=[[LR_tech(d_mean=d_mean, colLR=colLR, low_y_cut=-0.075, high_y_cut=0.075, \\\n",
    "                                                n_jobs=-1) for i in range(n_folds)]])\n",
    "ensembleObjLR.fit(X=X_train, y=y_train) \n",
    "predLR=pd.DataFrame()\n",
    "predLR['y'] = ensembleObjLR.predict(T=X_test)\n",
    "# predLR['y'] = predLR.apply(lambda r: 0.95 * r['y'] + 0.05 * ymean_dict[r['id']]\\\n",
    "#                           if r['id'] in ymean_dict else r['y'], axis = 1)\n",
    "print(\"LR coeff={}\".format(ensembleObjLR.stacker.coef_))\n",
    "print(\"reward LR={}\".format(get_reward(y_test, predLR.y)))\n",
    "end = time()\n",
    "print(end - start)"
   ]
  },
  {
   "cell_type": "code",
   "execution_count": 24,
   "metadata": {
    "collapsed": false,
    "deletable": true,
    "editable": true
   },
   "outputs": [
    {
     "name": "stdout",
     "output_type": "stream",
     "text": [
      "RFR coeff=[ 1.08232776]\n",
      "reward RFR=0.97297960427\n",
      "71.7309999466\n"
     ]
    }
   ],
   "source": [
    "start=time()\n",
    "n_folds = 2\n",
    "ensembleObjRFR=Ensemble(n_folds=n_folds, stacker=LinearRegression(fit_intercept=False, n_jobs=-1),                      base_models=[[ExtraTreesRegressor(n_estimators=40, max_depth=4, n_jobs=-1,                                                         random_state=17, verbose=0) for i in range(n_folds)]])\n",
    "ensembleObjRFR.fit(X=NAOperation(X_train, d_mean), y=y_train) \n",
    "predRFR=pd.DataFrame()\n",
    "predRFR['y'] = ensembleObjRFR.predict(T=NAOperation(X_test, d_mean))\n",
    "#predRFR['y'] = predRFR.apply(lambda r: 0.95 * r['y'] + 0.05 * ymean_dict[r['id']]\\\n",
    "#                             if r['id'] in ymean_dict else r['y'], axis = 1)\n",
    "print(\"RFR coeff={}\".format(ensembleObjRFR.stacker.coef_))\n",
    "print(\"reward RFR={}\".format(get_reward(y_test, predRFR.y)))\n",
    "end = time()\n",
    "print(end - start)\n"
   ]
  },
  {
   "cell_type": "code",
   "execution_count": null,
   "metadata": {
    "collapsed": false,
    "deletable": true,
    "editable": true
   },
   "outputs": [],
   "source": [
    "start=time()\n",
    "n_folds = 2\n",
    "ensembleObjXGB=Ensemble(n_folds=n_folds, stacker=LinearRegression(fit_intercept=False, n_jobs=-1), \\\n",
    "                        base_models=[[xgb.XGBRegressor(objective='reg:linear', colsample_bytree=.8, \\\n",
    "                        subsample=.9, min_child_weight=1000, base_score=.5) for i in range(n_folds)]])\n",
    "ensembleObjXGB.fit(X=X_train, y=y_train) \n",
    "predXGB=pd.DataFrame()\n",
    "predXGB['y'] = ensembleObjXGB.predict(T=X_test)\n",
    "#predXGB['y'] = predXGB.apply(lambda r: 0.95 * r['y'] + 0.05 * ymean_dict[r['id']] \\\n",
    "#                             if r['id'] in ymean_dict else r['y'], axis = 1)\n",
    "print(\"XGB coeff={}\".format(ensembleObjXGB.stacker.coef_))\n",
    "print(\"reward XGB={}\".format(get_reward(y_test, predXGB.y,)\n",
    "end = time()\n",
    "print(end - start)"
   ]
  },
  {
   "cell_type": "code",
   "execution_count": null,
   "metadata": {
    "collapsed": true,
    "deletable": true,
    "editable": true
   },
   "outputs": [],
   "source": [
    "np.corrcoef([predLR.y, predRFR.y, predXGB.y])"
   ]
  },
  {
   "cell_type": "code",
   "execution_count": null,
   "metadata": {
    "collapsed": false,
    "deletable": true,
    "editable": true
   },
   "outputs": [],
   "source": [
    "# start=time()\n",
    "\n",
    "# while True:\n",
    "#     test = o.features[col]\n",
    "#     n = test.isnull().sum(axis=1)\n",
    "# #     for c in test.columns:\n",
    "# #         test[c + '_nan_'] = pd.isnull(test[c])\n",
    "#     test = test.fillna(d_mean)\n",
    "#     test['znull'] = n\n",
    "#     pred = o.target\n",
    "#     pred['y'] = ensembleObj.predict(T=test)\n",
    "#     pred['y'] = pred.apply(lambda r: 0.95 * r['y'] + \\\n",
    "#                            0.05 * ymean_dict[r['id']] \\\n",
    "#                            if r['id'] in ymean_dict else r['y'], axis = 1)\n",
    "#     pred['y'] = [float(format(x, '.6f')) for x in pred['y']]\n",
    "#     o, reward, done, info = env.step(pred)\n",
    "#     if done:\n",
    "#         print(\"el fin ...\", info[\"public_score\"])\n",
    "#         break\n",
    "#     if o.features.timestamp[0] % 100 == 0:\n",
    "#         print(reward)\n",
    "        \n",
    "# end = time()\n",
    "# print(end - start)\n",
    "\n",
    "# env = kagglegym.make()\n",
    "# o = env.reset()\n",
    "# train = o.train[col]\n",
    "# n = train.isnull().sum(axis=1)\n",
    "# # for c in train.columns:\n",
    "# #     train[c + '_nan_'] = pd.isnull(train[c])\n",
    "# #     d_mean[c + '_nan_'] = 0\n",
    "# train = train.fillna(d_mean)\n",
    "# train['znull'] = n\n",
    "# n = []"
   ]
  },
  {
   "cell_type": "code",
   "execution_count": null,
   "metadata": {
    "collapsed": true,
    "deletable": true,
    "editable": true
   },
   "outputs": [],
   "source": []
  }
 ],
 "metadata": {
  "anaconda-cloud": {},
  "kernelspec": {
   "display_name": "Python 2",
   "language": "python",
   "name": "python2"
  },
  "language_info": {
   "codemirror_mode": {
    "name": "ipython",
    "version": 2
   },
   "file_extension": ".py",
   "mimetype": "text/x-python",
   "name": "python",
   "nbconvert_exporter": "python",
   "pygments_lexer": "ipython2",
   "version": "2.7.11"
  }
 },
 "nbformat": 4,
 "nbformat_minor": 0
}
