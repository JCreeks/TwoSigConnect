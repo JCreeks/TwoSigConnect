{
 "cells": [
  {
   "cell_type": "code",
   "execution_count": 1,
   "metadata": {
    "collapsed": true
   },
   "outputs": [],
   "source": [
    "#LB .0114299\n",
    "\n",
    "import kagglegym\n",
    "import numpy as np\n",
    "import pandas as pd\n",
    "# from sklearn import linear_model as lm\n",
    "from sklearn.linear_model import Ridge\n",
    "from sklearn.ensemble import ExtraTreesRegressor\n",
    "from sklearn.linear_model import LinearRegression\n"
   ]
  },
  {
   "cell_type": "code",
   "execution_count": 2,
   "metadata": {
    "collapsed": true
   },
   "outputs": [],
   "source": [
    "# target = 'y'\n",
    "\n",
    "# # The \"environment\" is our interface for code competitions\n",
    "# env = kagglegym.make()\n",
    "\n",
    "# # We get our initial observation by calling \"reset\"\n",
    "# observation = env.reset()\n",
    "\n",
    "env = kagglegym.make()\n",
    "o = env.reset()\n",
    "#o.train = o.train[:1000]\n",
    "excl = [env.ID_COL_NAME, env.SAMPLE_COL_NAME, env.TARGET_COL_NAME, env.TIME_COL_NAME]\n",
    "col = [c for c in o.train.columns if c not in excl]\n",
    "\n"
   ]
  },
  {
   "cell_type": "code",
   "execution_count": 3,
   "metadata": {
    "collapsed": false
   },
   "outputs": [
    {
     "ename": "KeyboardInterrupt",
     "evalue": "",
     "output_type": "error",
     "traceback": [
      "\u001b[0;31m---------------------------------------------------------------------------\u001b[0m",
      "\u001b[0;31mKeyboardInterrupt\u001b[0m                         Traceback (most recent call last)",
      "\u001b[0;32m<ipython-input-3-29678eef843d>\u001b[0m in \u001b[0;36m<module>\u001b[0;34m()\u001b[0m\n\u001b[1;32m      6\u001b[0m \u001b[0mtrain\u001b[0m \u001b[0;34m=\u001b[0m \u001b[0mpd\u001b[0m\u001b[0;34m.\u001b[0m\u001b[0mread_hdf\u001b[0m\u001b[0;34m(\u001b[0m\u001b[0;34m'../input/train.h5'\u001b[0m\u001b[0;34m)\u001b[0m\u001b[0;34m\u001b[0m\u001b[0m\n\u001b[1;32m      7\u001b[0m \u001b[0mtrain\u001b[0m \u001b[0;34m=\u001b[0m \u001b[0mtrain\u001b[0m\u001b[0;34m[\u001b[0m\u001b[0mcol\u001b[0m\u001b[0;34m]\u001b[0m\u001b[0;34m\u001b[0m\u001b[0m\n\u001b[0;32m----> 8\u001b[0;31m \u001b[0md_mean\u001b[0m\u001b[0;34m=\u001b[0m \u001b[0mtrain\u001b[0m\u001b[0;34m.\u001b[0m\u001b[0mmedian\u001b[0m\u001b[0;34m(\u001b[0m\u001b[0maxis\u001b[0m\u001b[0;34m=\u001b[0m\u001b[0;36m0\u001b[0m\u001b[0;34m)\u001b[0m\u001b[0;34m\u001b[0m\u001b[0m\n\u001b[0m\u001b[1;32m      9\u001b[0m \u001b[0;34m\u001b[0m\u001b[0m\n\u001b[1;32m     10\u001b[0m \u001b[0mtrain\u001b[0m \u001b[0;34m=\u001b[0m \u001b[0mo\u001b[0m\u001b[0;34m.\u001b[0m\u001b[0mtrain\u001b[0m\u001b[0;34m[\u001b[0m\u001b[0mcol\u001b[0m\u001b[0;34m]\u001b[0m\u001b[0;34m\u001b[0m\u001b[0m\n",
      "\u001b[0;32m/Users/jingguo/anaconda/lib/python3.5/site-packages/pandas/core/generic.py\u001b[0m in \u001b[0;36mstat_func\u001b[0;34m(self, axis, skipna, level, numeric_only, **kwargs)\u001b[0m\n\u001b[1;32m   5308\u001b[0m                                       skipna=skipna)\n\u001b[1;32m   5309\u001b[0m         return self._reduce(f, name, axis=axis, skipna=skipna,\n\u001b[0;32m-> 5310\u001b[0;31m                             numeric_only=numeric_only)\n\u001b[0m\u001b[1;32m   5311\u001b[0m \u001b[0;34m\u001b[0m\u001b[0m\n\u001b[1;32m   5312\u001b[0m     \u001b[0;32mreturn\u001b[0m \u001b[0mset_function_name\u001b[0m\u001b[0;34m(\u001b[0m\u001b[0mstat_func\u001b[0m\u001b[0;34m,\u001b[0m \u001b[0mname\u001b[0m\u001b[0;34m,\u001b[0m \u001b[0mcls\u001b[0m\u001b[0;34m)\u001b[0m\u001b[0;34m\u001b[0m\u001b[0m\n",
      "\u001b[0;32m/Users/jingguo/anaconda/lib/python3.5/site-packages/pandas/core/frame.py\u001b[0m in \u001b[0;36m_reduce\u001b[0;34m(self, op, name, axis, skipna, numeric_only, filter_type, **kwds)\u001b[0m\n\u001b[1;32m   4772\u001b[0m             \u001b[0;32mtry\u001b[0m\u001b[0;34m:\u001b[0m\u001b[0;34m\u001b[0m\u001b[0m\n\u001b[1;32m   4773\u001b[0m                 \u001b[0mvalues\u001b[0m \u001b[0;34m=\u001b[0m \u001b[0mself\u001b[0m\u001b[0;34m.\u001b[0m\u001b[0mvalues\u001b[0m\u001b[0;34m\u001b[0m\u001b[0m\n\u001b[0;32m-> 4774\u001b[0;31m                 \u001b[0mresult\u001b[0m \u001b[0;34m=\u001b[0m \u001b[0mf\u001b[0m\u001b[0;34m(\u001b[0m\u001b[0mvalues\u001b[0m\u001b[0;34m)\u001b[0m\u001b[0;34m\u001b[0m\u001b[0m\n\u001b[0m\u001b[1;32m   4775\u001b[0m             \u001b[0;32mexcept\u001b[0m \u001b[0mException\u001b[0m \u001b[0;32mas\u001b[0m \u001b[0me\u001b[0m\u001b[0;34m:\u001b[0m\u001b[0;34m\u001b[0m\u001b[0m\n\u001b[1;32m   4776\u001b[0m \u001b[0;34m\u001b[0m\u001b[0m\n",
      "\u001b[0;32m/Users/jingguo/anaconda/lib/python3.5/site-packages/pandas/core/frame.py\u001b[0m in \u001b[0;36mf\u001b[0;34m(x)\u001b[0m\n\u001b[1;32m   4761\u001b[0m \u001b[0;34m\u001b[0m\u001b[0m\n\u001b[1;32m   4762\u001b[0m         \u001b[0;32mdef\u001b[0m \u001b[0mf\u001b[0m\u001b[0;34m(\u001b[0m\u001b[0mx\u001b[0m\u001b[0;34m)\u001b[0m\u001b[0;34m:\u001b[0m\u001b[0;34m\u001b[0m\u001b[0m\n\u001b[0;32m-> 4763\u001b[0;31m             \u001b[0;32mreturn\u001b[0m \u001b[0mop\u001b[0m\u001b[0;34m(\u001b[0m\u001b[0mx\u001b[0m\u001b[0;34m,\u001b[0m \u001b[0maxis\u001b[0m\u001b[0;34m=\u001b[0m\u001b[0maxis\u001b[0m\u001b[0;34m,\u001b[0m \u001b[0mskipna\u001b[0m\u001b[0;34m=\u001b[0m\u001b[0mskipna\u001b[0m\u001b[0;34m,\u001b[0m \u001b[0;34m**\u001b[0m\u001b[0mkwds\u001b[0m\u001b[0;34m)\u001b[0m\u001b[0;34m\u001b[0m\u001b[0m\n\u001b[0m\u001b[1;32m   4764\u001b[0m \u001b[0;34m\u001b[0m\u001b[0m\n\u001b[1;32m   4765\u001b[0m         \u001b[0mlabels\u001b[0m \u001b[0;34m=\u001b[0m \u001b[0mself\u001b[0m\u001b[0;34m.\u001b[0m\u001b[0m_get_agg_axis\u001b[0m\u001b[0;34m(\u001b[0m\u001b[0maxis\u001b[0m\u001b[0;34m)\u001b[0m\u001b[0;34m\u001b[0m\u001b[0m\n",
      "\u001b[0;32m/Users/jingguo/anaconda/lib/python3.5/site-packages/pandas/core/nanops.py\u001b[0m in \u001b[0;36m_f\u001b[0;34m(*args, **kwargs)\u001b[0m\n\u001b[1;32m     42\u001b[0m                                     f.__name__.replace('nan', '')))\n\u001b[1;32m     43\u001b[0m             \u001b[0;32mtry\u001b[0m\u001b[0;34m:\u001b[0m\u001b[0;34m\u001b[0m\u001b[0m\n\u001b[0;32m---> 44\u001b[0;31m                 \u001b[0;32mreturn\u001b[0m \u001b[0mf\u001b[0m\u001b[0;34m(\u001b[0m\u001b[0;34m*\u001b[0m\u001b[0margs\u001b[0m\u001b[0;34m,\u001b[0m \u001b[0;34m**\u001b[0m\u001b[0mkwargs\u001b[0m\u001b[0;34m)\u001b[0m\u001b[0;34m\u001b[0m\u001b[0m\n\u001b[0m\u001b[1;32m     45\u001b[0m             \u001b[0;32mexcept\u001b[0m \u001b[0mValueError\u001b[0m \u001b[0;32mas\u001b[0m \u001b[0me\u001b[0m\u001b[0;34m:\u001b[0m\u001b[0;34m\u001b[0m\u001b[0m\n\u001b[1;32m     46\u001b[0m                 \u001b[0;31m# we want to transform an object array\u001b[0m\u001b[0;34m\u001b[0m\u001b[0;34m\u001b[0m\u001b[0m\n",
      "\u001b[0;32m/Users/jingguo/anaconda/lib/python3.5/site-packages/pandas/core/nanops.py\u001b[0m in \u001b[0;36mf\u001b[0;34m(values, axis, skipna, **kwds)\u001b[0m\n\u001b[1;32m     91\u001b[0m                 if (_USE_BOTTLENECK and skipna and\n\u001b[1;32m     92\u001b[0m                         _bn_ok_dtype(values.dtype, bn_name)):\n\u001b[0;32m---> 93\u001b[0;31m                     \u001b[0mresult\u001b[0m \u001b[0;34m=\u001b[0m \u001b[0mbn_func\u001b[0m\u001b[0;34m(\u001b[0m\u001b[0mvalues\u001b[0m\u001b[0;34m,\u001b[0m \u001b[0maxis\u001b[0m\u001b[0;34m=\u001b[0m\u001b[0maxis\u001b[0m\u001b[0;34m,\u001b[0m \u001b[0;34m**\u001b[0m\u001b[0mkwds\u001b[0m\u001b[0;34m)\u001b[0m\u001b[0;34m\u001b[0m\u001b[0m\n\u001b[0m\u001b[1;32m     94\u001b[0m \u001b[0;34m\u001b[0m\u001b[0m\n\u001b[1;32m     95\u001b[0m                     \u001b[0;31m# prefer to treat inf/-inf as NA, but must compute the func\u001b[0m\u001b[0;34m\u001b[0m\u001b[0;34m\u001b[0m\u001b[0m\n",
      "\u001b[0;31mKeyboardInterrupt\u001b[0m: "
     ]
    }
   ],
   "source": [
    "# # Get the train dataframe\n",
    "# train = observation.train\n",
    "# mean_values = train.mean(axis=0)\n",
    "# train.fillna(mean_values, inplace=True)\n",
    "\n",
    "train = pd.read_hdf('../input/train.h5')\n",
    "train = train[col]\n",
    "d_mean= train.median(axis=0)\n",
    "\n",
    "train = o.train[col]\n",
    "n = train.isnull().sum(axis=1)\n",
    "for c in train.columns:\n",
    "    train[c + '_nan_'] = pd.isnull(train[c])\n",
    "    d_mean[c + '_nan_'] = 0\n",
    "train = train.fillna(d_mean)\n",
    "train['znull'] = n\n",
    "n = []\n",
    "\n"
   ]
  },
  {
   "cell_type": "code",
   "execution_count": null,
   "metadata": {
    "collapsed": false
   },
   "outputs": [],
   "source": [
    "rfr = ExtraTreesRegressor(n_estimators=100, max_depth=4, n_jobs=-1, random_state=17, verbose=0)\n",
    "model1 = rfr.fit(train, o.train['y'])\n",
    "train = []"
   ]
  },
  {
   "cell_type": "code",
   "execution_count": null,
   "metadata": {
    "collapsed": false
   },
   "outputs": [],
   "source": [
    "# cols_to_use = ['technical_30', 'technical_20', 'fundamental_11']\n",
    "\n",
    "# Observed with histograns:\n",
    "low_y_cut = -0.086093\n",
    "high_y_cut = 0.093497\n",
    "\n",
    "y_is_above_cut = (o.train.y > high_y_cut)\n",
    "y_is_below_cut = (o.train.y < low_y_cut)\n",
    "y_is_within_cut = (~y_is_above_cut & ~y_is_below_cut)\n",
    "\n",
    "ridge1 = Ridge() ## f11 only\n",
    "ridge2 = Ridge() ## t30 and f11\n",
    "ridge3 = Ridge() ## t20 and f11\n",
    "ridge4 = Ridge() ## t30, t20, f11\n",
    "\n",
    "train = o.train.loc[y_is_within_cut]\n",
    "\n",
    "index1 = train.query(\"technical_30 == 0.0 & technical_20 == 0.0\").index\n",
    "index2 = train.query(\"technical_30 != 0.0 & technical_20 == 0.0\").index\n",
    "index3 = train.query(\"technical_30 == 0.0 & technical_20 != 0.0\").index\n",
    "index4 = train.query(\"technical_30 != 0.0 & technical_20 != 0.0\").index\n",
    "\n",
    "\n",
    "####no fillna in orginal code!\n",
    "ridge1.fit(train.fillna(d_mean).loc[index1, [\"fundamental_11\"]].values, train.loc[index1].y)\n",
    "ridge2.fit(train.fillna(d_mean).loc[index2, ['technical_30', 'fundamental_11']].values, train.loc[index2].y)\n",
    "ridge3.fit(train.fillna(d_mean).loc[index3, ['technical_20', 'fundamental_11']].values, train.loc[index3].y)\n",
    "ridge4.fit(train.fillna(d_mean).loc[index4, ['technical_30', 'technical_20', 'fundamental_11']].values, \\\n",
    "           train.loc[index4].y)\n",
    "\n",
    "\n",
    "# model = Ridge()\n",
    "# model.fit(np.array(train.loc[y_is_within_cut, cols_to_use].values), train.loc[y_is_within_cut, target])\n",
    "\n",
    "# ymean_dict = dict(train.groupby([\"id\"])[\"y\"].mean())\n",
    "ymedian_dict = dict(o.train.groupby([\"id\"])[\"y\"].median())\n"
   ]
  },
  {
   "cell_type": "code",
   "execution_count": null,
   "metadata": {
    "collapsed": false
   },
   "outputs": [],
   "source": [
    "coeff1 = .65\n",
    "coeff2 =.95\n",
    "\n",
    "def get_weighted_y(series):\n",
    "    id, y = series[\"id\"], series[\"y\"]\n",
    "    # return 0.95 * y + 0.05 * ymean_dict[id] if id in ymean_dict else y\n",
    "    return coeff2 * y + (1-coeff2) * ymedian_dict[id] if id in ymedian_dict else y\n",
    "\n",
    "while True:\n",
    "    test = o.features[col]\n",
    "    n = test.isnull().sum(axis=1)\n",
    "    for c in test.columns:\n",
    "        test[c + '_nan_'] = pd.isnull(test[c])\n",
    "    test = test.fillna(d_mean)\n",
    "    test['znull'] = n\n",
    "    pred = o.target\n",
    "    #observation.features.fillna(mean_values, inplace=True)\n",
    "    # test_x = np.array(observation.features[cols_to_use].values)\n",
    "    # observation.target.y = model.predict(test_x).clip(low_y_cut, high_y_cut)\n",
    "    \n",
    "    index1 = test.query(\"technical_30 == 0.0 & technical_20 == 0.0\").index\n",
    "    index2 = test.query(\"technical_30 != 0.0 & technical_20 == 0.0\").index\n",
    "    index3 = test.query(\"technical_30 == 0.0 & technical_20 != 0.0\").index\n",
    "    index4 = test.query(\"technical_30 != 0.0 & technical_20 != 0.0\").index\n",
    "    \n",
    "    if len(index1) > 0:\n",
    "        pred.loc[index1, 'y'] = ridge1.predict\\\n",
    "        (test.loc[index1, [\"fundamental_11\"]].values).clip(low_y_cut, high_y_cut)\n",
    "    if len(index2) > 0:\n",
    "        pred.loc[index2, 'y'] = ridge2.predict\\\n",
    "        (test.loc[index2, ['technical_30', 'fundamental_11']].values).clip(low_y_cut, high_y_cut)\n",
    "    if len(index3) > 0:\n",
    "        pred.loc[index3, 'y'] = ridge3.predict\\\n",
    "        (test.loc[index3, ['technical_20', 'fundamental_11']].values).clip(low_y_cut, high_y_cut)\n",
    "    if len(index4) > 0:\n",
    "        pred.loc[index4, 'y'] = ridge4.predict\\\n",
    "        (test.loc[index4, ['technical_30', 'technical_20', 'fundamental_11']].values).clip(low_y_cut, high_y_cut)\n",
    "\n",
    "    ## weighted y using average value\n",
    "    pred['y'] = (model1.predict(test).clip(low_y_cut, high_y_cut) * coeff1) + \\\n",
    "                pred['y'] * (1-coeff1)\n",
    "    pred['y'] = pred.apply(get_weighted_y, axis = 1)\n",
    "    \n",
    "    #observation.target.fillna(0, inplace=True)\n",
    "    #target = observation.target\n",
    "    timestamp = o.features[\"timestamp\"][0]\n",
    "    if timestamp % 100 == 0:\n",
    "        print(\"Timestamp #{}\".format(timestamp))\n",
    "        print(reward)\n",
    "\n",
    "    o, reward, done, info = env.step(pred)\n",
    "    if done:\n",
    "        break\n",
    "    \n",
    "print(info)"
   ]
  },
  {
   "cell_type": "code",
   "execution_count": null,
   "metadata": {
    "collapsed": true
   },
   "outputs": [],
   "source": [
    "def fitInitialScript3(coeff1=.65, coeff2=.95):\n",
    "    env = kagglegym.make()\n",
    "    o = env.reset()\n",
    "    \n",
    "    def get_weighted_y(series):\n",
    "        id, y = series[\"id\"], series[\"y\"]\n",
    "    # return 0.95 * y + 0.05 * ymean_dict[id] if id in ymean_dict else y\n",
    "        return coeff2 * y + (1-coeff2) * ymedian_dict[id] if id in ymedian_dict else y\n",
    "\n",
    "    while True:\n",
    "        test = o.features[col]\n",
    "        n = test.isnull().sum(axis=1)\n",
    "        for c in test.columns:\n",
    "            test[c + '_nan_'] = pd.isnull(test[c])\n",
    "        test = test.fillna(d_mean)\n",
    "        test['znull'] = n\n",
    "        pred = o.target\n",
    "    #observation.features.fillna(mean_values, inplace=True)\n",
    "    # test_x = np.array(observation.features[cols_to_use].values)\n",
    "    # observation.target.y = model.predict(test_x).clip(low_y_cut, high_y_cut)\n",
    "    \n",
    "        index1 = test.query(\"technical_30 == 0.0 & technical_20 == 0.0\").index\n",
    "        index2 = test.query(\"technical_30 != 0.0 & technical_20 == 0.0\").index\n",
    "        index3 = test.query(\"technical_30 == 0.0 & technical_20 != 0.0\").index\n",
    "        index4 = test.query(\"technical_30 != 0.0 & technical_20 != 0.0\").index\n",
    "    \n",
    "        if len(index1) > 0:\n",
    "            pred.loc[index1, 'y'] = ridge1.predict\\\n",
    "            (test.loc[index1, [\"fundamental_11\"]].values).clip(low_y_cut, high_y_cut)\n",
    "        if len(index2) > 0:\n",
    "            pred.loc[index2, 'y'] = ridge2.predict\\\n",
    "            (test.loc[index2, ['technical_30', 'fundamental_11']].values).clip(low_y_cut, high_y_cut)\n",
    "        if len(index3) > 0:\n",
    "            pred.loc[index3, 'y'] = ridge3.predict\\\n",
    "            (test.loc[index3, ['technical_20', 'fundamental_11']].values).clip(low_y_cut, high_y_cut)\n",
    "        if len(index4) > 0:\n",
    "            pred.loc[index4, 'y'] = ridge4.predict\\\n",
    "            (test.loc[index4, ['technical_30', 'technical_20', 'fundamental_11']].values).clip(low_y_cut, high_y_cut)\n",
    "\n",
    "    ## weighted y using average value\n",
    "        pred['y'] = (model1.predict(test).clip(low_y_cut, high_y_cut) * coeff1) + \\\n",
    "                    pred['y'] * (1-coeff1)\n",
    "        pred['y'] = pred.apply(get_weighted_y, axis = 1)\n",
    "    \n",
    "    #observation.target.fillna(0, inplace=True)\n",
    "    #target = observation.target\n",
    "#         timestamp = o.features[\"timestamp\"][0]\n",
    "#         if timestamp % 100 == 0:\n",
    "#             print(\"Timestamp #{}\".format(timestamp))\n",
    "#             print(reward)\n",
    "\n",
    "        o, reward, done, info = env.step(pred)\n",
    "        if done:\n",
    "            break\n",
    "    \n",
    "    print(info)"
   ]
  },
  {
   "cell_type": "code",
   "execution_count": null,
   "metadata": {
    "collapsed": true
   },
   "outputs": [],
   "source": [
    "n=5\n",
    "x=-.075+np.arange(-n,n+1)/(n)*.01\n",
    "y=.075+np.arange(-n,n+1)/(n)*.01\n",
    "w=.65+np.arange(-n,n+1)/(n)*.05\n",
    "z=.95+np.arange(-n,n+1)/(n)*.05\n",
    "for i in w:\n",
    "    fitInitialScript3(i,.95)"
   ]
  },
  {
   "cell_type": "code",
   "execution_count": null,
   "metadata": {
    "collapsed": true
   },
   "outputs": [],
   "source": []
  }
 ],
 "metadata": {
  "anaconda-cloud": {},
  "kernelspec": {
   "display_name": "Python [Root]",
   "language": "python",
   "name": "Python [Root]"
  },
  "language_info": {
   "codemirror_mode": {
    "name": "ipython",
    "version": 3
   },
   "file_extension": ".py",
   "mimetype": "text/x-python",
   "name": "python",
   "nbconvert_exporter": "python",
   "pygments_lexer": "ipython3",
   "version": "3.5.2"
  }
 },
 "nbformat": 4,
 "nbformat_minor": 0
}
