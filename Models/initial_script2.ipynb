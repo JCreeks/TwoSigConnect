{
 "cells": [
  {
   "cell_type": "code",
   "execution_count": 2,
   "metadata": {
    "collapsed": false
   },
   "outputs": [
    {
     "name": "stderr",
     "output_type": "stream",
     "text": [
      "/Users/jingguo/anaconda/lib/python3.5/site-packages/ipykernel/__main__.py:19: SettingWithCopyWarning: \n",
      "A value is trying to be set on a copy of a slice from a DataFrame.\n",
      "Try using .loc[row_indexer,col_indexer] = value instead\n",
      "\n",
      "See the caveats in the documentation: http://pandas.pydata.org/pandas-docs/stable/indexing.html#indexing-view-versus-copy\n",
      "/Users/jingguo/anaconda/lib/python3.5/site-packages/ipykernel/__main__.py:45: SettingWithCopyWarning: \n",
      "A value is trying to be set on a copy of a slice from a DataFrame.\n",
      "Try using .loc[row_indexer,col_indexer] = value instead\n",
      "\n",
      "See the caveats in the documentation: http://pandas.pydata.org/pandas-docs/stable/indexing.html#indexing-view-versus-copy\n"
     ]
    },
    {
     "name": "stdout",
     "output_type": "stream",
     "text": [
      "-0.315026374091\n",
      "-0.184189102335\n",
      "-0.166336805516\n",
      "0.0141254340707\n",
      "-0.123003776512\n",
      "-0.165627134372\n",
      "-0.205463280399\n",
      "-0.306451883432\n",
      "-0.0253947667173\n",
      "el fin ... 0.0212274000456\n"
     ]
    }
   ],
   "source": [
    "import kagglegym\n",
    "import numpy as np\n",
    "import pandas as pd\n",
    "from sklearn.ensemble import ExtraTreesRegressor\n",
    "from sklearn.linear_model import LinearRegression\n",
    "\n",
    "env = kagglegym.make()\n",
    "o = env.reset()\n",
    "excl = [env.ID_COL_NAME, env.SAMPLE_COL_NAME, env.TARGET_COL_NAME, env.TIME_COL_NAME]\n",
    "col = [c for c in o.train.columns if c not in excl]\n",
    "\n",
    "train = pd.read_hdf('../input/train.h5')\n",
    "train = train[col]\n",
    "d_mean= train.median(axis=0)\n",
    "\n",
    "train = o.train[col]\n",
    "n = train.isnull().sum(axis=1)\n",
    "for c in train.columns:\n",
    "    train[c + '_nan_'] = pd.isnull(train[c])\n",
    "    d_mean[c + '_nan_'] = 0\n",
    "train = train.fillna(d_mean)\n",
    "train['znull'] = n\n",
    "n = []\n",
    "\n",
    "rfr = ExtraTreesRegressor(n_estimators=100, max_depth=4, n_jobs=-1, random_state=17, verbose=0)\n",
    "model1 = rfr.fit(train, o.train['y'])\n",
    "\n",
    "#https://www.kaggle.com/bguberfain/two-sigma-financial-modeling/univariate-model-with-clip/run/482189\n",
    "low_y_cut = -0.086093\n",
    "high_y_cut = 0.093497\n",
    "y_is_above_cut = (o.train.y > high_y_cut)\n",
    "y_is_below_cut = (o.train.y < low_y_cut)\n",
    "y_is_within_cut = (~y_is_above_cut & ~y_is_below_cut)\n",
    "model2 = LinearRegression(n_jobs=-1)\n",
    "model2.fit(np.array(o.train[col].fillna(d_mean).loc[y_is_within_cut, 'technical_20'].values).reshape(-1,1), o.train.loc[y_is_within_cut, 'y'])\n",
    "train = []\n",
    "\n",
    "#https://www.kaggle.com/ymcdull/two-sigma-financial-modeling/ridge-lb-0-0100659\n",
    "ymean_dict = dict(o.train.groupby([\"id\"])[\"y\"].median())\n",
    "\n",
    "while True:\n",
    "    test = o.features[col]\n",
    "    n = test.isnull().sum(axis=1)\n",
    "    for c in test.columns:\n",
    "        test[c + '_nan_'] = pd.isnull(test[c])\n",
    "    test = test.fillna(d_mean)\n",
    "    test['znull'] = n\n",
    "    pred = o.target\n",
    "    test2 = np.array(o.features[col].fillna(d_mean)['technical_20'].values).reshape(-1,1)\n",
    "    pred['y'] = (model1.predict(test).clip(low_y_cut, high_y_cut) * 0.65) + (model2.predict(test2).clip(low_y_cut, high_y_cut) * 0.35)\n",
    "    pred['y'] = pred.apply(lambda r: 0.95 * r['y'] + 0.05 * ymean_dict[r['id']] if r['id'] in ymean_dict else r['y'], axis = 1)\n",
    "    pred['y'] = [float(format(x, '.6f')) for x in pred['y']]\n",
    "    o, reward, done, info = env.step(pred)\n",
    "    if done:\n",
    "        print(\"el fin ...\", info[\"public_score\"])\n",
    "        break\n",
    "    if o.features.timestamp[0] % 100 == 0:\n",
    "        print(reward)"
   ]
  },
  {
   "cell_type": "code",
   "execution_count": 19,
   "metadata": {
    "collapsed": false
   },
   "outputs": [
    {
     "name": "stdout",
     "output_type": "stream",
     "text": [
      "-0.08 0.07 1\n",
      "-0.08 0.0725 1\n",
      "-0.08 0.075 1\n",
      "-0.08 0.0775 1\n",
      "-0.08 0.08 1\n",
      "-0.0775 0.07 1\n",
      "-0.0775 0.0725 1\n",
      "-0.0775 0.075 1\n",
      "-0.0775 0.0775 1\n",
      "-0.0775 0.08 1\n",
      "-0.075 0.07 1\n",
      "-0.075 0.0725 1\n",
      "-0.075 0.075 1\n",
      "-0.075 0.0775 1\n",
      "-0.075 0.08 1\n",
      "-0.0725 0.07 1\n",
      "-0.0725 0.0725 1\n",
      "-0.0725 0.075 1\n",
      "-0.0725 0.0775 1\n",
      "-0.0725 0.08 1\n",
      "-0.07 0.07 1\n",
      "-0.07 0.0725 1\n",
      "-0.07 0.075 1\n",
      "-0.07 0.0775 1\n",
      "-0.07 0.08 1\n"
     ]
    }
   ],
   "source": [
    "n=2\n",
    "x=-.075+np.arange(-n,n+1)/(n)*.005\n",
    "y=.075+np.arange(-n,n+1)/(n)*.005\n",
    "def P (x,y,z):\n",
    "    print(x,y,z)\n",
    "for i in zip(np.repeat(x,2*n+1),np.tile(y,2*n+1)):\n",
    "    P(*i,1)"
   ]
  },
  {
   "cell_type": "code",
   "execution_count": 17,
   "metadata": {
    "collapsed": false
   },
   "outputs": [
    {
     "data": {
      "text/plain": [
       "<zip at 0x114ecaf08>"
      ]
     },
     "execution_count": 17,
     "metadata": {},
     "output_type": "execute_result"
    }
   ],
   "source": [
    "zip(np.repeat(x, 10), np.tile(x,10))"
   ]
  },
  {
   "cell_type": "code",
   "execution_count": null,
   "metadata": {
    "collapsed": true
   },
   "outputs": [],
   "source": []
  }
 ],
 "metadata": {
  "kernelspec": {
   "display_name": "Python [Root]",
   "language": "python",
   "name": "Python [Root]"
  },
  "language_info": {
   "codemirror_mode": {
    "name": "ipython",
    "version": 3
   },
   "file_extension": ".py",
   "mimetype": "text/x-python",
   "name": "python",
   "nbconvert_exporter": "python",
   "pygments_lexer": "ipython3",
   "version": "3.5.2"
  }
 },
 "nbformat": 4,
 "nbformat_minor": 0
}
