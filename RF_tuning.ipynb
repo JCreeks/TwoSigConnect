{
 "cells": [
  {
   "cell_type": "markdown",
   "metadata": {
    "deletable": true,
    "editable": true
   },
   "source": [
    "It seems the current [high scoring script][1] is written in R using H2O. So let us do one in python using XGBoost. \n",
    "\n",
    "Thanks to [this script][2] for feature engineering ideas. \n",
    "\n",
    "We shall start with importing the necessary modules\n",
    "\n",
    "\n",
    "  [1]: https://www.kaggle.com/gospursgo/two-sigma-connect-rental-listing-inquiries/h2o-starter-pack/run/835757\n",
    "  [2]: https://www.kaggle.com/aikinogard/two-sigma-connect-rental-listing-inquiries/random-forest-starter-with-numerical-features"
   ]
  },
  {
   "cell_type": "code",
   "execution_count": 1,
   "metadata": {
    "collapsed": false,
    "deletable": true,
    "editable": true
   },
   "outputs": [],
   "source": [
    "import os\n",
    "import sys\n",
    "import operator\n",
    "import numpy as np\n",
    "import pandas as pd\n",
    "from scipy import sparse\n",
    "#import xgboost as xgb\n",
    "#from sklearn import model_selection, preprocessing, ensemble\n",
    "from sklearn.ensemble import RandomForestClassifier, ExtraTreesClassifier, GradientBoostingClassifier\n",
    "from sklearn.metrics import log_loss\n",
    "from sklearn.metrics.scorer import make_scorer\n",
    "#from sklearn.model_selection import GridSearchCV\n",
    "from sklearn.feature_extraction.text import TfidfVectorizer, CountVectorizer\n",
    "#from XGBoostPackage import xgbClass\n",
    "from CrossValidation2 import CVScore\n",
    "\n",
    "%matplotlib inline\n",
    "\n",
    "# from sklearn.cross_validation import KFold"
   ]
  },
  {
   "cell_type": "code",
   "execution_count": 2,
   "metadata": {
    "collapsed": true,
    "deletable": true,
    "editable": true
   },
   "outputs": [],
   "source": [
    "# X_train=pd.read_csv('X_train1.csv')\n",
    "# #X_test=pd.read_csv('X_test1.csv')\n",
    "# y_train=pd.read_csv('y_train.csv')['interest_level'].ravel()"
   ]
  },
  {
   "cell_type": "code",
   "execution_count": 3,
   "metadata": {
    "collapsed": false,
    "deletable": true,
    "editable": true
   },
   "outputs": [],
   "source": [
    "X_train=pd.read_csv('X_train2.csv').iloc[:,1:]\n",
    "X_test=pd.read_csv('X_test2.csv')\n",
    "y_train=pd.read_csv('y_train.csv')['interest_level'].ravel()\n",
    "for i in [0,1,2]:\n",
    "    X_train=X_train[~pd.isnull(X_train.iloc[:,i])]"
   ]
  },
  {
   "cell_type": "code",
   "execution_count": null,
   "metadata": {
    "collapsed": false,
    "deletable": true,
    "editable": true
   },
   "outputs": [
    {
     "data": {
      "text/plain": [
       "((49352, 227), (49352L,))"
      ]
     },
     "execution_count": 4,
     "metadata": {},
     "output_type": "execute_result"
    }
   ],
   "source": [
    "X_train.shape, y_train.shape"
   ]
  },
  {
   "cell_type": "code",
   "execution_count": null,
   "metadata": {
    "collapsed": false,
    "deletable": true,
    "editable": true
   },
   "outputs": [
    {
     "name": "stdout",
     "output_type": "stream",
     "text": [
      "n_est=500, max_feat=auto, max_d=15, score=0.575939149928\n",
      "n_est=500, max_feat=auto, max_d=20, score=0.563798419049\n",
      "n_est=500, max_feat=auto, max_d=25, score=0.561509093035\n",
      "n_est=500, max_feat=auto, max_d=None, score=0.563241220069\n",
      "n_est=500, max_feat=sqrt, max_d=15, score=0.575862871816\n",
      "n_est=500, max_feat=sqrt, max_d=20, score=0.563595295425\n",
      "n_est=500, max_feat=sqrt, max_d=25, score=0.562280322019\n",
      "n_est=500, max_feat=sqrt, max_d=None, score=0.563433619878\n",
      "n_est=600, max_feat=auto, max_d=15, score=0.575573790034\n",
      "n_est=600, max_feat=auto, max_d=20, score=0.563443359022\n",
      "n_est=600, max_feat=auto, max_d=25, score=0.561556830448\n",
      "n_est=600, max_feat=auto, max_d=None, score=0.563591044232\n",
      "n_est=600, max_feat=sqrt, max_d=15, score=0.575717801329\n",
      "n_est=600, max_feat=sqrt, max_d=20, score=0.563520168194\n",
      "n_est=600, max_feat=sqrt, max_d=25, score=0.56204881201\n",
      "n_est=600, max_feat=sqrt, max_d=None, score=0.56543067616\n",
      "n_est=700, max_feat=auto, max_d=15, score=0.575586487251\n",
      "n_est=700, max_feat=auto, max_d=20, score=0.563546245143\n",
      "n_est=700, max_feat=auto, max_d=25, score=0.561889765745\n",
      "n_est=700, max_feat=auto, max_d=None, score=0.563903123627\n",
      "n_est=700, max_feat=sqrt, max_d=15, score=0.575370194228\n",
      "n_est=700, max_feat=sqrt, max_d=20, score=0.563736833862\n",
      "n_est=700, max_feat=sqrt, max_d=25, score=0.56175920716\n",
      "n_est=700, max_feat=sqrt, max_d=None, score=0.563073498425\n",
      "n_est=800, max_feat=auto, max_d=15, score=0.575772433451\n",
      "n_est=800, max_feat=auto, max_d=20, score=0.563556843016\n",
      "n_est=800, max_feat=auto, max_d=25, score=0.561599397632\n",
      "n_est=800, max_feat=auto, max_d=None, score=0.563974393918\n",
      "n_est=800, max_feat=sqrt, max_d=15, score=0.575668622013\n",
      "n_est=800, max_feat=sqrt, max_d=20, score=0.563647535474\n",
      "n_est=800, max_feat=sqrt, max_d=25, score=0.561489778852\n",
      "n_est=800, max_feat=sqrt, max_d=None, score=0.564048455428\n",
      "n_est=900, max_feat=auto, max_d=15, score=0.575475771179\n",
      "n_est=900, max_feat=auto, max_d=20, score=0.563284344992\n",
      "n_est=900, max_feat=auto, max_d=25, score=0.56128649679\n",
      "n_est=900, max_feat=auto, max_d=None, score=0.562560595979\n",
      "n_est=900, max_feat=sqrt, max_d=15, score=0.575613341951\n",
      "n_est=900, max_feat=sqrt, max_d=20, score=0.563752925214\n",
      "n_est=900, max_feat=sqrt, max_d=25, score=0.561493204779\n",
      "n_est=900, max_feat=sqrt, max_d=None, score=0.562440547955\n",
      "n_est=1000, max_feat=auto, max_d=15, score=0.575613623093\n"
     ]
    }
   ],
   "source": [
    "param_grid = {'n_estimators':[500, 600, 700, 800, 900, 1000], 'max_features':['auto','sqrt'], 'max_depth':[15,20,25,None]}\n",
    "for n_est in param_grid['n_estimators']:\n",
    "    for max_feat in param_grid['max_features']:\n",
    "        for max_d in param_grid['max_depth']:\n",
    "            model=RandomForestClassifier(n_estimators=n_est, max_features=max_feat, max_depth=max_d)\n",
    "            score=CVScore(model=model, my_score=log_loss, X_train=X_train.iloc[:,:], \\\n",
    "                          y_train=y_train[:])\n",
    "            print('n_est={}, max_feat={}, max_d={}, score={}'.format(n_est, max_feat, max_d, score))"
   ]
  },
  {
   "cell_type": "code",
   "execution_count": 17,
   "metadata": {
    "collapsed": false,
    "deletable": true,
    "editable": true
   },
   "outputs": [],
   "source": [
    "model=RandomForestClassifier(n_estimators=n_est, max_features=max_feat, max_depth=max_d)\n",
    "model.fit(X_train, y_train)\n",
    "preds= model.predict(X_test)\n",
    "out_df = pd.DataFrame(preds)\n",
    "out_df.columns = [\"high_RF\", \"medium_RF\", \"low_RF\"]\n",
    "out_df[\"listing_id\"] = X_test.listing_id.values\n",
    "out_df.to_csv(\"apr16_1_RF.csv\", index=False)"
   ]
  },
  {
   "cell_type": "code",
   "execution_count": 10,
   "metadata": {
    "collapsed": false,
    "deletable": true,
    "editable": true,
    "scrolled": true
   },
   "outputs": [
    {
     "name": "stdout",
     "output_type": "stream",
     "text": [
      "n_est=500, max_feat=auto, max_d=4, score=0.734177433683\n",
      "n_est=500, max_feat=auto, max_d=5, score=0.722442742144\n",
      "n_est=500, max_feat=auto, max_d=6, score=0.71138682\n",
      "n_est=500, max_feat=auto, max_d=7, score=0.700894118829\n",
      "n_est=500, max_feat=auto, max_d=8, score=0.691463085093\n",
      "n_est=500, max_feat=auto, max_d=9, score=0.683010332452\n",
      "n_est=500, max_feat=sqrt, max_d=4, score=0.733710487873\n",
      "n_est=500, max_feat=sqrt, max_d=5, score=0.721481780477\n",
      "n_est=500, max_feat=sqrt, max_d=6, score=0.711668884569\n",
      "n_est=500, max_feat=sqrt, max_d=7, score=0.70140229101\n",
      "n_est=500, max_feat=sqrt, max_d=8, score=0.691907428753\n",
      "n_est=500, max_feat=sqrt, max_d=9, score=0.682682357258\n",
      "n_est=600, max_feat=auto, max_d=4, score=0.733142832136\n",
      "n_est=600, max_feat=auto, max_d=5, score=0.723107494445\n",
      "n_est=600, max_feat=auto, max_d=6, score=0.711028627808\n",
      "n_est=600, max_feat=auto, max_d=7, score=0.70173313679\n",
      "n_est=600, max_feat=auto, max_d=8, score=0.692280003381\n",
      "n_est=600, max_feat=auto, max_d=9, score=0.68339723629\n",
      "n_est=600, max_feat=sqrt, max_d=4, score=0.733441351719\n",
      "n_est=600, max_feat=sqrt, max_d=5, score=0.722693882009\n",
      "n_est=600, max_feat=sqrt, max_d=6, score=0.711337337907\n",
      "n_est=600, max_feat=sqrt, max_d=7, score=0.701202938011\n",
      "n_est=600, max_feat=sqrt, max_d=8, score=0.692120469334\n",
      "n_est=600, max_feat=sqrt, max_d=9, score=0.682829239897\n",
      "n_est=700, max_feat=auto, max_d=4, score=0.733748315047\n",
      "n_est=700, max_feat=auto, max_d=5, score=0.722676771724\n",
      "n_est=700, max_feat=auto, max_d=6, score=0.711337886102\n",
      "n_est=700, max_feat=auto, max_d=7, score=0.701030679264\n",
      "n_est=700, max_feat=auto, max_d=8, score=0.691519751804\n",
      "n_est=700, max_feat=auto, max_d=9, score=0.682660361413\n",
      "n_est=700, max_feat=sqrt, max_d=4, score=0.733226735972\n",
      "n_est=700, max_feat=sqrt, max_d=5, score=0.721707092879\n",
      "n_est=700, max_feat=sqrt, max_d=6, score=0.711480404639\n",
      "n_est=700, max_feat=sqrt, max_d=7, score=0.70102798763\n",
      "n_est=700, max_feat=sqrt, max_d=8, score=0.691498833992\n",
      "n_est=700, max_feat=sqrt, max_d=9, score=0.68276144637\n",
      "n_est=800, max_feat=auto, max_d=4, score=0.733303737448\n",
      "n_est=800, max_feat=auto, max_d=5, score=0.721958106759\n",
      "n_est=800, max_feat=auto, max_d=6, score=0.711493697159\n",
      "n_est=800, max_feat=auto, max_d=7, score=0.701488659799\n",
      "n_est=800, max_feat=auto, max_d=8, score=0.691389634701\n",
      "n_est=800, max_feat=auto, max_d=9, score=0.682814305932\n",
      "n_est=800, max_feat=sqrt, max_d=4, score=0.733253159212\n",
      "n_est=800, max_feat=sqrt, max_d=5, score=0.721820679876\n",
      "n_est=800, max_feat=sqrt, max_d=6, score=0.710976937249\n",
      "n_est=800, max_feat=sqrt, max_d=7, score=0.701444571223\n",
      "n_est=800, max_feat=sqrt, max_d=8, score=0.691887362274\n",
      "n_est=800, max_feat=sqrt, max_d=9, score=0.683184377773\n",
      "n_est=900, max_feat=auto, max_d=4, score=0.733651971714\n",
      "n_est=900, max_feat=auto, max_d=5, score=0.721684728504\n",
      "n_est=900, max_feat=auto, max_d=6, score=0.71134186742\n",
      "n_est=900, max_feat=auto, max_d=7, score=0.70099872331\n",
      "n_est=900, max_feat=auto, max_d=8, score=0.691769428234\n",
      "n_est=900, max_feat=auto, max_d=9, score=0.682827003252\n",
      "n_est=900, max_feat=sqrt, max_d=4, score=0.7337312053\n",
      "n_est=900, max_feat=sqrt, max_d=5, score=0.722139613747\n",
      "n_est=900, max_feat=sqrt, max_d=6, score=0.71125009587\n",
      "n_est=900, max_feat=sqrt, max_d=7, score=0.701223331173\n",
      "n_est=900, max_feat=sqrt, max_d=8, score=0.69154876187\n",
      "n_est=900, max_feat=sqrt, max_d=9, score=0.68280750173\n",
      "n_est=1000, max_feat=auto, max_d=4, score=0.733576962641\n",
      "n_est=1000, max_feat=auto, max_d=5, score=0.722670318994\n",
      "n_est=1000, max_feat=auto, max_d=6, score=0.71134104657\n",
      "n_est=1000, max_feat=auto, max_d=7, score=0.701463356212\n",
      "n_est=1000, max_feat=auto, max_d=8, score=0.691826700331\n",
      "n_est=1000, max_feat=auto, max_d=9, score=0.683083055019\n",
      "n_est=1000, max_feat=sqrt, max_d=4, score=0.733370133375\n",
      "n_est=1000, max_feat=sqrt, max_d=5, score=0.722111961347\n",
      "n_est=1000, max_feat=sqrt, max_d=6, score=0.711222195236\n",
      "n_est=1000, max_feat=sqrt, max_d=7, score=0.701237150376\n",
      "n_est=1000, max_feat=sqrt, max_d=8, score=0.69196730843\n",
      "n_est=1000, max_feat=sqrt, max_d=9, score=0.683482727538\n"
     ]
    }
   ],
   "source": [
    "param_grid = {'n_estimators':[500, 600, 700, 800, 900, 1000], 'max_features':['auto','sqrt'], 'max_depth':[4,5,6,7,8,9]}\n",
    "for n_est in param_grid['n_estimators']:\n",
    "    for max_feat in param_grid['max_features']:\n",
    "        for max_d in param_grid['max_depth']:\n",
    "            model=RandomForestClassifier(n_estimators=n_est, max_features=max_feat, max_depth=max_d)\n",
    "            score=CVScore(model=model, my_score=log_loss, X_train=train_X, y_train=train_y)\n",
    "            print('n_est={}, max_feat={}, max_d={}, score={}'.format(n_est, max_feat, max_d, score))"
   ]
  },
  {
   "cell_type": "code",
   "execution_count": 11,
   "metadata": {
    "collapsed": false,
    "deletable": true,
    "editable": true
   },
   "outputs": [
    {
     "name": "stdout",
     "output_type": "stream",
     "text": [
      "n_est=500, max_feat=auto, max_d=10, score=0.674754759203\n",
      "n_est=500, max_feat=auto, max_d=11, score=0.666802482387\n",
      "n_est=500, max_feat=auto, max_d=12, score=0.659501504894\n",
      "n_est=500, max_feat=auto, max_d=None, score=0.606367321785\n",
      "n_est=500, max_feat=sqrt, max_d=10, score=0.674369374442\n",
      "n_est=500, max_feat=sqrt, max_d=11, score=0.666308881551\n",
      "n_est=500, max_feat=sqrt, max_d=12, score=0.658666893395\n",
      "n_est=500, max_feat=sqrt, max_d=None, score=0.606519042036\n",
      "n_est=600, max_feat=auto, max_d=10, score=0.674476250364\n",
      "n_est=600, max_feat=auto, max_d=11, score=0.666582328749\n",
      "n_est=600, max_feat=auto, max_d=12, score=0.659435355714\n",
      "n_est=600, max_feat=auto, max_d=None, score=0.605120265803\n",
      "n_est=600, max_feat=sqrt, max_d=10, score=0.674738351622\n",
      "n_est=600, max_feat=sqrt, max_d=11, score=0.666760395592\n",
      "n_est=600, max_feat=sqrt, max_d=12, score=0.658920510842\n",
      "n_est=600, max_feat=sqrt, max_d=None, score=0.605246053838\n",
      "n_est=700, max_feat=auto, max_d=10, score=0.675137281412\n",
      "n_est=700, max_feat=auto, max_d=11, score=0.667104271306\n",
      "n_est=700, max_feat=auto, max_d=12, score=0.659453326097\n",
      "n_est=700, max_feat=auto, max_d=None, score=0.604978114092\n",
      "n_est=700, max_feat=sqrt, max_d=10, score=0.674413650804\n",
      "n_est=700, max_feat=sqrt, max_d=11, score=0.666639874612\n",
      "n_est=700, max_feat=sqrt, max_d=12, score=0.659133486561\n",
      "n_est=700, max_feat=sqrt, max_d=None, score=0.60502569706\n",
      "n_est=800, max_feat=auto, max_d=10, score=0.674494511797\n",
      "n_est=800, max_feat=auto, max_d=11, score=0.666813578251\n",
      "n_est=800, max_feat=auto, max_d=12, score=0.659362036984\n",
      "n_est=800, max_feat=auto, max_d=None, score=0.60495291817\n",
      "n_est=800, max_feat=sqrt, max_d=10, score=0.674333296602\n",
      "n_est=800, max_feat=sqrt, max_d=11, score=0.666354090761\n",
      "n_est=800, max_feat=sqrt, max_d=12, score=0.659279024683\n",
      "n_est=800, max_feat=sqrt, max_d=None, score=0.604587982872\n",
      "n_est=900, max_feat=auto, max_d=10, score=0.674476627939\n",
      "n_est=900, max_feat=auto, max_d=11, score=0.66686492398\n",
      "n_est=900, max_feat=auto, max_d=12, score=0.659448504589\n",
      "n_est=900, max_feat=auto, max_d=None, score=0.605360226823\n",
      "n_est=900, max_feat=sqrt, max_d=10, score=0.674560828345\n",
      "n_est=900, max_feat=sqrt, max_d=11, score=0.666801850587\n",
      "n_est=900, max_feat=sqrt, max_d=12, score=0.65921867361\n",
      "n_est=900, max_feat=sqrt, max_d=None, score=0.604586531323\n",
      "n_est=1000, max_feat=auto, max_d=10, score=0.674522358177\n",
      "n_est=1000, max_feat=auto, max_d=11, score=0.666600647589\n",
      "n_est=1000, max_feat=auto, max_d=12, score=0.658972897079\n",
      "n_est=1000, max_feat=auto, max_d=None, score=0.604958883341\n",
      "n_est=1000, max_feat=sqrt, max_d=10, score=0.674750506246\n",
      "n_est=1000, max_feat=sqrt, max_d=11, score=0.666963395607\n",
      "n_est=1000, max_feat=sqrt, max_d=12, score=0.659307223586\n",
      "n_est=1000, max_feat=sqrt, max_d=None, score=0.604136472588\n"
     ]
    }
   ],
   "source": [
    "param_grid = {'n_estimators':[500, 600, 700, 800, 900, 1000], 'max_features':['auto','sqrt'], 'max_depth':[10,11,12,None]}\n",
    "for n_est in param_grid['n_estimators']:\n",
    "    for max_feat in param_grid['max_features']:\n",
    "        for max_d in param_grid['max_depth']:\n",
    "            model=RandomForestClassifier(n_estimators=n_est, max_features=max_feat, max_depth=max_d)\n",
    "            score=CVScore(model=model, my_score=log_loss, X_train=train_X, y_train=train_y)\n",
    "            print('n_est={}, max_feat={}, max_d={}, score={}'.format(n_est, max_feat, max_d, score))"
   ]
  },
  {
   "cell_type": "markdown",
   "metadata": {
    "deletable": true,
    "editable": true
   },
   "source": [
    "Now let us build the final model and get the predictions on the test set."
   ]
  },
  {
   "cell_type": "code",
   "execution_count": 11,
   "metadata": {
    "collapsed": true,
    "deletable": true,
    "editable": true
   },
   "outputs": [],
   "source": [
    "preds, model = runXGB(train_X, train_y, test_X, num_rounds=400)\n",
    "out_df = pd.DataFrame(preds)\n",
    "out_df.columns = [\"high\", \"medium\", \"low\"]\n",
    "out_df[\"listing_id\"] = test_df.listing_id.values\n",
    "out_df.to_csv(\"xgb_starter2.csv\", index=False)"
   ]
  },
  {
   "cell_type": "markdown",
   "metadata": {
    "deletable": true,
    "editable": true
   },
   "source": [
    "\n",
    "Hope this helps the python users as a good starting point."
   ]
  },
  {
   "cell_type": "code",
   "execution_count": 28,
   "metadata": {
    "collapsed": false,
    "deletable": true,
    "editable": true
   },
   "outputs": [],
   "source": [
    "imp=pd.DataFrame()#(index=features_to_use)\n",
    "imp['train'] = pd.Series(model.get_score(importance_type='gain'))#, index=features_to_use)\n",
    "imp = imp.fillna(0)"
   ]
  },
  {
   "cell_type": "code",
   "execution_count": 30,
   "metadata": {
    "collapsed": false,
    "deletable": true,
    "editable": true
   },
   "outputs": [
    {
     "data": {
      "image/png": "[encoded data removed]",
      "text/plain": [
       "<matplotlib.figure.Figure at 0x11cd8f850>"
      ]
     },
     "metadata": {},
     "output_type": "display_data"
    }
   ],
   "source": [
    "ax=imp.sort_values('train').tail(10).plot.barh(title='Feature importances sorted by train', figsize=(7,4))\n"
   ]
  },
  {
   "cell_type": "code",
   "execution_count": null,
   "metadata": {
    "collapsed": true,
    "deletable": true,
    "editable": true
   },
   "outputs": [],
   "source": []
  }
 ],
 "metadata": {
  "anaconda-cloud": {},
  "kernelspec": {
   "display_name": "Python [Root]",
   "language": "python",
   "name": "Python [Root]"
  },
  "language_info": {
   "codemirror_mode": {
    "name": "ipython",
    "version": 2
   },
   "file_extension": ".py",
   "mimetype": "text/x-python",
   "name": "python",
   "nbconvert_exporter": "python",
   "pygments_lexer": "ipython2",
   "version": "2.7.12"
  }
 },
 "nbformat": 4,
 "nbformat_minor": 0
}
