{
 "cells": [
  {
   "cell_type": "markdown",
   "metadata": {
    "deletable": true,
    "editable": true
   },
   "source": [
    "It seems the current [high scoring script][1] is written in R using H2O. So let us do one in python using XGBoost. \n",
    "\n",
    "Thanks to [this script][2] for feature engineering ideas. \n",
    "\n",
    "We shall start with importing the necessary modules\n",
    "\n",
    "\n",
    "  [1]: https://www.kaggle.com/gospursgo/two-sigma-connect-rental-listing-inquiries/h2o-starter-pack/run/835757\n",
    "  [2]: https://www.kaggle.com/aikinogard/two-sigma-connect-rental-listing-inquiries/random-forest-starter-with-numerical-features"
   ]
  },
  {
   "cell_type": "code",
   "execution_count": 1,
   "metadata": {
    "collapsed": false,
    "deletable": true,
    "editable": true
   },
   "outputs": [
    {
     "name": "stderr",
     "output_type": "stream",
     "text": [
      "C:\\Users\\Student.RM-301-3-PC\\AppData\\Roaming\\Python\\Python27\\site-packages\\sklearn\\cross_validation.py:44: DeprecationWarning: This module was deprecated in version 0.18 in favor of the model_selection module into which all the refactored classes and functions are moved. Also note that the interface of the new CV iterators are different from that of this module. This module will be removed in 0.20.\n",
      "  \"This module will be removed in 0.20.\", DeprecationWarning)\n",
      "C:\\Users\\Student.RM-301-3-PC\\AppData\\Roaming\\Python\\Python27\\site-packages\\sklearn\\grid_search.py:43: DeprecationWarning: This module was deprecated in version 0.18 in favor of the model_selection module into which all the refactored classes and functions are moved. This module will be removed in 0.20.\n",
      "  DeprecationWarning)\n"
     ]
    }
   ],
   "source": [
    "import os\n",
    "import sys\n",
    "import operator\n",
    "import numpy as np\n",
    "import pandas as pd\n",
    "from scipy import sparse\n",
    "#import xgboost as xgb\n",
    "from sklearn import model_selection, preprocessing, ensemble\n",
    "from sklearn.ensemble import RandomForestClassifier, ExtraTreesClassifier, GradientBoostingClassifier\n",
    "from sklearn.metrics import log_loss\n",
    "from sklearn.metrics.scorer import make_scorer\n",
    "from sklearn.model_selection import GridSearchCV\n",
    "from sklearn.feature_extraction.text import TfidfVectorizer, CountVectorizer\n",
    "#from XGBoostPackage import xgbClass\n",
    "from CrossValidation import CVScore\n",
    "\n",
    "%matplotlib inline"
   ]
  },
  {
   "cell_type": "markdown",
   "metadata": {
    "deletable": true,
    "editable": true
   },
   "source": [
    "Now let us write a custom function to run the xgboost model."
   ]
  },
  {
   "cell_type": "markdown",
   "metadata": {
    "deletable": true,
    "editable": true
   },
   "source": [
    "Let us read the train and test files and store it."
   ]
  },
  {
   "cell_type": "code",
   "execution_count": 2,
   "metadata": {
    "collapsed": false,
    "deletable": true,
    "editable": true
   },
   "outputs": [
    {
     "name": "stdout",
     "output_type": "stream",
     "text": [
      "(49352, 15)\n",
      "(74659, 14)\n"
     ]
    }
   ],
   "source": [
    "data_path = \"../input/\"\n",
    "train_file = data_path + \"train.json\"\n",
    "test_file = data_path + \"test.json\"\n",
    "train_df = pd.read_json(train_file)\n",
    "test_df = pd.read_json(test_file)\n",
    "print(train_df.shape)\n",
    "print(test_df.shape)"
   ]
  },
  {
   "cell_type": "markdown",
   "metadata": {
    "deletable": true,
    "editable": true
   },
   "source": [
    "We do not need any pre-processing for numerical features and so create a list with those features."
   ]
  },
  {
   "cell_type": "code",
   "execution_count": 4,
   "metadata": {
    "collapsed": true,
    "deletable": true,
    "editable": true
   },
   "outputs": [],
   "source": [
    "features_to_use  = [\"bathrooms\", \"bedrooms\", \"latitude\", \"longitude\", \"price\"]"
   ]
  },
  {
   "cell_type": "markdown",
   "metadata": {
    "deletable": true,
    "editable": true
   },
   "source": [
    "Now let us create some new features from the given features."
   ]
  },
  {
   "cell_type": "code",
   "execution_count": 5,
   "metadata": {
    "collapsed": true,
    "deletable": true,
    "editable": true
   },
   "outputs": [],
   "source": [
    "# count of photos #\n",
    "train_df[\"num_photos\"] = train_df[\"photos\"].apply(len)\n",
    "test_df[\"num_photos\"] = test_df[\"photos\"].apply(len)\n",
    "\n",
    "# count of \"features\" #\n",
    "train_df[\"num_features\"] = train_df[\"features\"].apply(len)\n",
    "test_df[\"num_features\"] = test_df[\"features\"].apply(len)\n",
    "\n",
    "# count of words present in description column #\n",
    "train_df[\"num_description_words\"] = train_df[\"description\"].apply(lambda x: len(x.split(\" \")))\n",
    "test_df[\"num_description_words\"] = test_df[\"description\"].apply(lambda x: len(x.split(\" \")))\n",
    "\n",
    "# convert the created column to datetime object so as to extract more features \n",
    "train_df[\"created\"] = pd.to_datetime(train_df[\"created\"])\n",
    "test_df[\"created\"] = pd.to_datetime(test_df[\"created\"])\n",
    "\n",
    "# Let us extract some features like year, month, day, hour from date columns #\n",
    "train_df[\"created_year\"] = train_df[\"created\"].dt.year\n",
    "test_df[\"created_year\"] = test_df[\"created\"].dt.year\n",
    "train_df[\"created_month\"] = train_df[\"created\"].dt.month\n",
    "test_df[\"created_month\"] = test_df[\"created\"].dt.month\n",
    "train_df[\"created_day\"] = train_df[\"created\"].dt.day\n",
    "test_df[\"created_day\"] = test_df[\"created\"].dt.day\n",
    "train_df[\"created_hour\"] = train_df[\"created\"].dt.hour\n",
    "test_df[\"created_hour\"] = test_df[\"created\"].dt.hour\n",
    "\n",
    "# adding all these new features to use list #\n",
    "features_to_use.extend([\"num_photos\", \"num_features\", \"num_description_words\",\"created_year\", \"created_month\", \"created_day\", \"listing_id\", \"created_hour\"])"
   ]
  },
  {
   "cell_type": "markdown",
   "metadata": {
    "deletable": true,
    "editable": true
   },
   "source": [
    "We have 4 categorical features in our data\n",
    "\n",
    " - display_address\n",
    " - manager_id\n",
    " - building_id\n",
    " - listing_id\n",
    "\n",
    "So let us label encode these features."
   ]
  },
  {
   "cell_type": "code",
   "execution_count": 6,
   "metadata": {
    "collapsed": true,
    "deletable": true,
    "editable": true
   },
   "outputs": [],
   "source": [
    "categorical = [\"display_address\", \"manager_id\", \"building_id\", \"street_address\"]\n",
    "for f in categorical:\n",
    "        if train_df[f].dtype=='object':\n",
    "            #print(f)\n",
    "            lbl = preprocessing.LabelEncoder()\n",
    "            lbl.fit(list(train_df[f].values) + list(test_df[f].values))\n",
    "            train_df[f] = lbl.transform(list(train_df[f].values))\n",
    "            test_df[f] = lbl.transform(list(test_df[f].values))\n",
    "            features_to_use.append(f)"
   ]
  },
  {
   "cell_type": "markdown",
   "metadata": {
    "deletable": true,
    "editable": true
   },
   "source": [
    "We have features column which is a list of string values. So we can first combine all the strings together to get a single string and then apply count vectorizer on top of it."
   ]
  },
  {
   "cell_type": "code",
   "execution_count": 7,
   "metadata": {
    "collapsed": false,
    "deletable": true,
    "editable": true
   },
   "outputs": [
    {
     "name": "stdout",
     "output_type": "stream",
     "text": [
      "10                                                         \n",
      "10000     Doorman Elevator Fitness_Center Cats_Allowed D...\n",
      "100004    Laundry_In_Building Dishwasher Hardwood_Floors...\n",
      "100007                               Hardwood_Floors No_Fee\n",
      "100013                                              Pre-War\n",
      "Name: features, dtype: object\n"
     ]
    }
   ],
   "source": [
    "train_df['features'] = train_df[\"features\"].apply(lambda x: \" \".join([\"_\".join(i.split(\" \")) for i in x]))\n",
    "test_df['features'] = test_df[\"features\"].apply(lambda x: \" \".join([\"_\".join(i.split(\" \")) for i in x]))\n",
    "print(train_df[\"features\"].head())\n",
    "tfidf = CountVectorizer(stop_words='english', max_features=200)\n",
    "tr_sparse = tfidf.fit_transform(train_df[\"features\"])\n",
    "te_sparse = tfidf.transform(test_df[\"features\"])"
   ]
  },
  {
   "cell_type": "markdown",
   "metadata": {
    "deletable": true,
    "editable": true
   },
   "source": [
    "Now let us stack both the dense and sparse features into a single dataset and also get the target variable."
   ]
  },
  {
   "cell_type": "code",
   "execution_count": 8,
   "metadata": {
    "collapsed": false,
    "deletable": true,
    "editable": true
   },
   "outputs": [
    {
     "name": "stdout",
     "output_type": "stream",
     "text": [
      "((49352, 217), (74659, 217))\n"
     ]
    }
   ],
   "source": [
    "train_X = sparse.hstack([train_df[features_to_use], tr_sparse]).tocsr()\n",
    "test_X = sparse.hstack([test_df[features_to_use], te_sparse]).tocsr()\n",
    "\n",
    "target_num_map = {'high':0, 'medium':1, 'low':2}\n",
    "train_y = np.array(train_df['interest_level'].apply(lambda x: target_num_map[x]))\n",
    "print(train_X.shape, test_X.shape)"
   ]
  },
  {
   "cell_type": "markdown",
   "metadata": {
    "deletable": true,
    "editable": true
   },
   "source": [
    "Now let us do some cross validation to check the scores. \n",
    "\n",
    "Please run it in local to get the cv scores. I am commenting it out here for time."
   ]
  },
  {
   "cell_type": "code",
   "execution_count": 17,
   "metadata": {
    "collapsed": false,
    "deletable": true,
    "editable": true
   },
   "outputs": [],
   "source": [
    "# estimator=RandomForestClassifier()\n",
    "# param_grid = {'n_estimators':[500, 1000], 'max_features':['auto','sqrt'], 'max_depth':[4]}\n",
    "# my_scorer=make_scorer(log_loss, greater_is_better=False)\n",
    "# model = GridSearchCV(\n",
    "#     estimator=estimator, param_grid=param_grid, n_jobs=-1, cv=5, verbose=20, scoring=my_scorer)\n",
    "# model.fit(train_X, train_y)\n"
   ]
  },
  {
   "cell_type": "code",
   "execution_count": 10,
   "metadata": {
    "collapsed": false,
    "deletable": true,
    "editable": true
   },
   "outputs": [
    {
     "name": "stdout",
     "output_type": "stream",
     "text": [
      "n_est=500, max_feat=auto, max_d=4, score=0.734177433683\n",
      "n_est=500, max_feat=auto, max_d=5, score=0.722442742144\n",
      "n_est=500, max_feat=auto, max_d=6, score=0.71138682\n",
      "n_est=500, max_feat=auto, max_d=7, score=0.700894118829\n",
      "n_est=500, max_feat=auto, max_d=8, score=0.691463085093\n",
      "n_est=500, max_feat=auto, max_d=9, score=0.683010332452\n",
      "n_est=500, max_feat=sqrt, max_d=4, score=0.733710487873\n",
      "n_est=500, max_feat=sqrt, max_d=5, score=0.721481780477\n",
      "n_est=500, max_feat=sqrt, max_d=6, score=0.711668884569\n",
      "n_est=500, max_feat=sqrt, max_d=7, score=0.70140229101\n",
      "n_est=500, max_feat=sqrt, max_d=8, score=0.691907428753\n",
      "n_est=500, max_feat=sqrt, max_d=9, score=0.682682357258\n",
      "n_est=600, max_feat=auto, max_d=4, score=0.733142832136\n",
      "n_est=600, max_feat=auto, max_d=5, score=0.723107494445\n",
      "n_est=600, max_feat=auto, max_d=6, score=0.711028627808\n",
      "n_est=600, max_feat=auto, max_d=7, score=0.70173313679\n",
      "n_est=600, max_feat=auto, max_d=8, score=0.692280003381\n",
      "n_est=600, max_feat=auto, max_d=9, score=0.68339723629\n",
      "n_est=600, max_feat=sqrt, max_d=4, score=0.733441351719\n",
      "n_est=600, max_feat=sqrt, max_d=5, score=0.722693882009\n",
      "n_est=600, max_feat=sqrt, max_d=6, score=0.711337337907\n",
      "n_est=600, max_feat=sqrt, max_d=7, score=0.701202938011\n",
      "n_est=600, max_feat=sqrt, max_d=8, score=0.692120469334\n",
      "n_est=600, max_feat=sqrt, max_d=9, score=0.682829239897\n",
      "n_est=700, max_feat=auto, max_d=4, score=0.733748315047\n",
      "n_est=700, max_feat=auto, max_d=5, score=0.722676771724\n",
      "n_est=700, max_feat=auto, max_d=6, score=0.711337886102\n",
      "n_est=700, max_feat=auto, max_d=7, score=0.701030679264\n",
      "n_est=700, max_feat=auto, max_d=8, score=0.691519751804\n",
      "n_est=700, max_feat=auto, max_d=9, score=0.682660361413\n",
      "n_est=700, max_feat=sqrt, max_d=4, score=0.733226735972\n",
      "n_est=700, max_feat=sqrt, max_d=5, score=0.721707092879\n",
      "n_est=700, max_feat=sqrt, max_d=6, score=0.711480404639\n",
      "n_est=700, max_feat=sqrt, max_d=7, score=0.70102798763\n",
      "n_est=700, max_feat=sqrt, max_d=8, score=0.691498833992\n",
      "n_est=700, max_feat=sqrt, max_d=9, score=0.68276144637\n",
      "n_est=800, max_feat=auto, max_d=4, score=0.733303737448\n",
      "n_est=800, max_feat=auto, max_d=5, score=0.721958106759\n",
      "n_est=800, max_feat=auto, max_d=6, score=0.711493697159\n",
      "n_est=800, max_feat=auto, max_d=7, score=0.701488659799\n",
      "n_est=800, max_feat=auto, max_d=8, score=0.691389634701\n",
      "n_est=800, max_feat=auto, max_d=9, score=0.682814305932\n",
      "n_est=800, max_feat=sqrt, max_d=4, score=0.733253159212\n",
      "n_est=800, max_feat=sqrt, max_d=5, score=0.721820679876\n",
      "n_est=800, max_feat=sqrt, max_d=6, score=0.710976937249\n",
      "n_est=800, max_feat=sqrt, max_d=7, score=0.701444571223\n",
      "n_est=800, max_feat=sqrt, max_d=8, score=0.691887362274\n",
      "n_est=800, max_feat=sqrt, max_d=9, score=0.683184377773\n",
      "n_est=900, max_feat=auto, max_d=4, score=0.733651971714\n",
      "n_est=900, max_feat=auto, max_d=5, score=0.721684728504\n",
      "n_est=900, max_feat=auto, max_d=6, score=0.71134186742\n",
      "n_est=900, max_feat=auto, max_d=7, score=0.70099872331\n",
      "n_est=900, max_feat=auto, max_d=8, score=0.691769428234\n",
      "n_est=900, max_feat=auto, max_d=9, score=0.682827003252\n",
      "n_est=900, max_feat=sqrt, max_d=4, score=0.7337312053\n",
      "n_est=900, max_feat=sqrt, max_d=5, score=0.722139613747\n",
      "n_est=900, max_feat=sqrt, max_d=6, score=0.71125009587\n",
      "n_est=900, max_feat=sqrt, max_d=7, score=0.701223331173\n",
      "n_est=900, max_feat=sqrt, max_d=8, score=0.69154876187\n",
      "n_est=900, max_feat=sqrt, max_d=9, score=0.68280750173\n",
      "n_est=1000, max_feat=auto, max_d=4, score=0.733576962641\n",
      "n_est=1000, max_feat=auto, max_d=5, score=0.722670318994\n",
      "n_est=1000, max_feat=auto, max_d=6, score=0.71134104657\n",
      "n_est=1000, max_feat=auto, max_d=7, score=0.701463356212\n",
      "n_est=1000, max_feat=auto, max_d=8, score=0.691826700331\n",
      "n_est=1000, max_feat=auto, max_d=9, score=0.683083055019\n",
      "n_est=1000, max_feat=sqrt, max_d=4, score=0.733370133375\n",
      "n_est=1000, max_feat=sqrt, max_d=5, score=0.722111961347\n",
      "n_est=1000, max_feat=sqrt, max_d=6, score=0.711222195236\n",
      "n_est=1000, max_feat=sqrt, max_d=7, score=0.701237150376\n",
      "n_est=1000, max_feat=sqrt, max_d=8, score=0.69196730843\n",
      "n_est=1000, max_feat=sqrt, max_d=9, score=0.683482727538\n"
     ]
    }
   ],
   "source": [
    "param_grid = {'n_estimators':[500, 600, 700, 800, 900, 1000], 'max_features':['auto','sqrt'], 'max_depth':[4,5,6,7,8,9]}\n",
    "for n_est in param_grid['n_estimators']:\n",
    "    for max_feat in param_grid['max_features']:\n",
    "        for max_d in param_grid['max_depth']:\n",
    "            model=RandomForestClassifier(n_estimators=n_est, max_features=max_feat, max_depth=max_d)\n",
    "            score=CVScore(model=model, my_score=log_loss, X_train=train_X, y_train=train_y)\n",
    "            print('n_est={}, max_feat={}, max_d={}, score={}'.format(n_est, max_feat, max_d, score))"
   ]
  },
  {
   "cell_type": "markdown",
   "metadata": {
    "deletable": true,
    "editable": true
   },
   "source": [
    "Now let us build the final model and get the predictions on the test set."
   ]
  },
  {
   "cell_type": "code",
   "execution_count": 11,
   "metadata": {
    "collapsed": true,
    "deletable": true,
    "editable": true
   },
   "outputs": [],
   "source": [
    "preds, model = runXGB(train_X, train_y, test_X, num_rounds=400)\n",
    "out_df = pd.DataFrame(preds)\n",
    "out_df.columns = [\"high\", \"medium\", \"low\"]\n",
    "out_df[\"listing_id\"] = test_df.listing_id.values\n",
    "out_df.to_csv(\"xgb_starter2.csv\", index=False)"
   ]
  },
  {
   "cell_type": "markdown",
   "metadata": {
    "deletable": true,
    "editable": true
   },
   "source": [
    "\n",
    "Hope this helps the python users as a good starting point."
   ]
  },
  {
   "cell_type": "code",
   "execution_count": 28,
   "metadata": {
    "collapsed": false,
    "deletable": true,
    "editable": true
   },
   "outputs": [],
   "source": [
    "imp=pd.DataFrame()#(index=features_to_use)\n",
    "imp['train'] = pd.Series(model.get_score(importance_type='gain'))#, index=features_to_use)\n",
    "imp = imp.fillna(0)"
   ]
  },
  {
   "cell_type": "code",
   "execution_count": 30,
   "metadata": {
    "collapsed": false,
    "deletable": true,
    "editable": true
   },
   "outputs": [
    {
     "data": {
      "image/png": "[encoded data removed]",
      "text/plain": [
       "<matplotlib.figure.Figure at 0x11cd8f850>"
      ]
     },
     "metadata": {},
     "output_type": "display_data"
    }
   ],
   "source": [
    "ax=imp.sort_values('train').tail(10).plot.barh(title='Feature importances sorted by train', figsize=(7,4))\n"
   ]
  },
  {
   "cell_type": "code",
   "execution_count": null,
   "metadata": {
    "collapsed": true,
    "deletable": true,
    "editable": true
   },
   "outputs": [],
   "source": []
  }
 ],
 "metadata": {
  "kernelspec": {
   "display_name": "Python 2",
   "language": "python",
   "name": "python2"
  },
  "language_info": {
   "codemirror_mode": {
    "name": "ipython",
    "version": 2
   },
   "file_extension": ".py",
   "mimetype": "text/x-python",
   "name": "python",
   "nbconvert_exporter": "python",
   "pygments_lexer": "ipython2",
   "version": "2.7.13"
  }
 },
 "nbformat": 4,
 "nbformat_minor": 0
}
