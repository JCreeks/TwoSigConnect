{
 "cells": [
  {
   "cell_type": "markdown",
   "metadata": {
    "deletable": true,
    "editable": true
   },
   "source": [
    "# Processing and deduplicating Features"
   ]
  },
  {
   "cell_type": "code",
   "execution_count": 1,
   "metadata": {
    "collapsed": true,
    "deletable": true,
    "editable": true
   },
   "outputs": [],
   "source": [
    "# This Python 3 environment comes with many helpful analytics libraries installed\n",
    "# It is defined by the kaggle/python docker image: https://github.com/kaggle/docker-python\n",
    "# For example, here's several helpful packages to load in \n",
    "\n",
    "import numpy as np # linear algebra\n",
    "import pandas as pd # data processing, CSV file I/O (e.g. pd.read_csv)\n",
    "from collections import defaultdict, Counter"
   ]
  },
  {
   "cell_type": "code",
   "execution_count": 57,
   "metadata": {
    "collapsed": false,
    "deletable": true,
    "editable": true
   },
   "outputs": [],
   "source": [
    "train_df = pd.read_json(\"../input/train.json\")\n",
    "test_df = pd.read_json(\"../input/test.json\")\n",
    "train_df['features'] = train_df[\"features\"].apply(lambda x: [\"_\".join(i.strip().lower().split(\" \")) for i in x])\n",
    "test_df['features'] = test_df[\"features\"].apply(lambda x: [\"_\".join(i.strip().lower().split(\" \")) for i in x])\n",
    "train_test = pd.concat([train_df, test_df], 0)"
   ]
  },
  {
   "cell_type": "code",
   "execution_count": 58,
   "metadata": {
    "collapsed": false
   },
   "outputs": [
    {
     "data": {
      "text/html": [
       "<div>\n",
       "<table border=\"1\" class=\"dataframe\">\n",
       "  <thead>\n",
       "    <tr style=\"text-align: right;\">\n",
       "      <th></th>\n",
       "      <th>bathrooms</th>\n",
       "      <th>bedrooms</th>\n",
       "      <th>building_id</th>\n",
       "      <th>created</th>\n",
       "      <th>description</th>\n",
       "      <th>display_address</th>\n",
       "      <th>features</th>\n",
       "      <th>interest_level</th>\n",
       "      <th>latitude</th>\n",
       "      <th>listing_id</th>\n",
       "      <th>longitude</th>\n",
       "      <th>manager_id</th>\n",
       "      <th>photos</th>\n",
       "      <th>price</th>\n",
       "      <th>street_address</th>\n",
       "    </tr>\n",
       "  </thead>\n",
       "  <tbody>\n",
       "    <tr>\n",
       "      <th>10</th>\n",
       "      <td>1.5</td>\n",
       "      <td>3</td>\n",
       "      <td>53a5b119ba8f7b61d4e010512e0dfc85</td>\n",
       "      <td>2016-06-24 07:54:24</td>\n",
       "      <td>A Brand New 3 Bedroom 1.5 bath ApartmentEnjoy ...</td>\n",
       "      <td>Metropolitan Avenue</td>\n",
       "      <td>[]</td>\n",
       "      <td>medium</td>\n",
       "      <td>40.7145</td>\n",
       "      <td>7211212</td>\n",
       "      <td>-73.9425</td>\n",
       "      <td>5ba989232d0489da1b5f2c45f6688adc</td>\n",
       "      <td>[https://photos.renthop.com/2/7211212_1ed4542e...</td>\n",
       "      <td>3000</td>\n",
       "      <td>792 Metropolitan Avenue</td>\n",
       "    </tr>\n",
       "    <tr>\n",
       "      <th>10000</th>\n",
       "      <td>1.0</td>\n",
       "      <td>2</td>\n",
       "      <td>c5c8a357cba207596b04d1afd1e4f130</td>\n",
       "      <td>2016-06-12 12:19:27</td>\n",
       "      <td></td>\n",
       "      <td>Columbus Avenue</td>\n",
       "      <td>[doorman, elevator, fitness_center, cats_allow...</td>\n",
       "      <td>low</td>\n",
       "      <td>40.7947</td>\n",
       "      <td>7150865</td>\n",
       "      <td>-73.9667</td>\n",
       "      <td>7533621a882f71e25173b27e3139d83d</td>\n",
       "      <td>[https://photos.renthop.com/2/7150865_be3306c5...</td>\n",
       "      <td>5465</td>\n",
       "      <td>808 Columbus Avenue</td>\n",
       "    </tr>\n",
       "  </tbody>\n",
       "</table>\n",
       "</div>"
      ],
      "text/plain": [
       "       bathrooms  bedrooms                       building_id  \\\n",
       "10           1.5         3  53a5b119ba8f7b61d4e010512e0dfc85   \n",
       "10000        1.0         2  c5c8a357cba207596b04d1afd1e4f130   \n",
       "\n",
       "                   created                                        description  \\\n",
       "10     2016-06-24 07:54:24  A Brand New 3 Bedroom 1.5 bath ApartmentEnjoy ...   \n",
       "10000  2016-06-12 12:19:27                                                      \n",
       "\n",
       "           display_address                                           features  \\\n",
       "10     Metropolitan Avenue                                                 []   \n",
       "10000      Columbus Avenue  [doorman, elevator, fitness_center, cats_allow...   \n",
       "\n",
       "      interest_level  latitude  listing_id  longitude  \\\n",
       "10            medium   40.7145     7211212   -73.9425   \n",
       "10000            low   40.7947     7150865   -73.9667   \n",
       "\n",
       "                             manager_id  \\\n",
       "10     5ba989232d0489da1b5f2c45f6688adc   \n",
       "10000  7533621a882f71e25173b27e3139d83d   \n",
       "\n",
       "                                                  photos  price  \\\n",
       "10     [https://photos.renthop.com/2/7211212_1ed4542e...   3000   \n",
       "10000  [https://photos.renthop.com/2/7150865_be3306c5...   5465   \n",
       "\n",
       "                street_address  \n",
       "10     792 Metropolitan Avenue  \n",
       "10000      808 Columbus Avenue  "
      ]
     },
     "execution_count": 58,
     "metadata": {},
     "output_type": "execute_result"
    }
   ],
   "source": [
    "train_test.head(2)"
   ]
  },
  {
   "cell_type": "markdown",
   "metadata": {
    "deletable": true,
    "editable": true
   },
   "source": [
    "I'm going do assume you've taken a look at the data and noticed that some features are duplicates and that some are also rare (occurs very few times).\n",
    "\n",
    "That being said lets try to drop rare features and also try to deduplicate similar features using first-k-chars. as a hash.\n",
    "\n",
    "First we'll read in data, lowercase everything and remove any whitespace"
   ]
  },
  {
   "cell_type": "code",
   "execution_count": 25,
   "metadata": {
    "collapsed": false,
    "deletable": true,
    "editable": true
   },
   "outputs": [],
   "source": [
    "# features = train_test[[\"features\"]].apply(\n",
    "#     lambda _: [list(map(str.strip, map(str.lower, x))) for x in _])"
   ]
  },
  {
   "cell_type": "code",
   "execution_count": 59,
   "metadata": {
    "collapsed": false
   },
   "outputs": [],
   "source": [
    "# features = train_test[[\"features\"]].apply(\n",
    "#     lambda x: [\"_\".join(str(i).strip().lower().split(\" \")) for i in x])"
   ]
  },
  {
   "cell_type": "code",
   "execution_count": 61,
   "metadata": {
    "collapsed": false,
    "deletable": true,
    "editable": true
   },
   "outputs": [
    {
     "data": {
      "text/html": [
       "<div>\n",
       "<table border=\"1\" class=\"dataframe\">\n",
       "  <thead>\n",
       "    <tr style=\"text-align: right;\">\n",
       "      <th></th>\n",
       "      <th>features</th>\n",
       "    </tr>\n",
       "  </thead>\n",
       "  <tbody>\n",
       "    <tr>\n",
       "      <th>10</th>\n",
       "      <td>[]</td>\n",
       "    </tr>\n",
       "    <tr>\n",
       "      <th>10000</th>\n",
       "      <td>[doorman, elevator, fitness_center, cats_allow...</td>\n",
       "    </tr>\n",
       "    <tr>\n",
       "      <th>100004</th>\n",
       "      <td>[laundry_in_building, dishwasher, hardwood_flo...</td>\n",
       "    </tr>\n",
       "    <tr>\n",
       "      <th>100007</th>\n",
       "      <td>[hardwood_floors, no_fee]</td>\n",
       "    </tr>\n",
       "    <tr>\n",
       "      <th>100013</th>\n",
       "      <td>[pre-war]</td>\n",
       "    </tr>\n",
       "  </tbody>\n",
       "</table>\n",
       "</div>"
      ],
      "text/plain": [
       "                                                 features\n",
       "10                                                     []\n",
       "10000   [doorman, elevator, fitness_center, cats_allow...\n",
       "100004  [laundry_in_building, dishwasher, hardwood_flo...\n",
       "100007                          [hardwood_floors, no_fee]\n",
       "100013                                          [pre-war]"
      ]
     },
     "execution_count": 61,
     "metadata": {},
     "output_type": "execute_result"
    }
   ],
   "source": [
    "features = train_test[[\"features\"]]\n",
    "features.head()"
   ]
  },
  {
   "cell_type": "code",
   "execution_count": 72,
   "metadata": {
    "collapsed": false,
    "deletable": true,
    "editable": true
   },
   "outputs": [
    {
     "data": {
      "text/plain": [
       "['$250_security_deposit',\n",
       " '1_month_free',\n",
       " '24-hour_doorman',\n",
       " '24/7_concierge',\n",
       " '24/7_doorman',\n",
       " '24/7_doorman_concierge',\n",
       " '24_hour_concierge/doorman',\n",
       " '24_hour_doorman',\n",
       " '24hr_doorman',\n",
       " '2_full_baths']"
      ]
     },
     "execution_count": 72,
     "metadata": {},
     "output_type": "execute_result"
    }
   ],
   "source": [
    "# count features and drop features with less than n counts\n",
    "\n",
    "n = 5\n",
    "\n",
    "feature_counts = Counter()\n",
    "for feature in features.features:\n",
    "    feature_counts.update(feature)\n",
    "feature = map(lambda x: x.encode('utf-8'), sorted([k for (k,v) in feature_counts.items() if v > n]))\n",
    "feature[:10]"
   ]
  },
  {
   "cell_type": "markdown",
   "metadata": {
    "deletable": true,
    "editable": true
   },
   "source": [
    "\n",
    "Notice that we see like variations of `24-hour` and we will see later that thats not the only duplicate features "
   ]
  },
  {
   "cell_type": "markdown",
   "metadata": {
    "deletable": true,
    "editable": true
   },
   "source": [
    "## Hashing cleaned up data using first4 characters.\n",
    "\n",
    "We will first do some manual work to simplify the strings and use the first four characters as a key for each feature. then we will use that key to deduce data."
   ]
  },
  {
   "cell_type": "code",
   "execution_count": null,
   "metadata": {
    "collapsed": true
   },
   "outputs": [],
   "source": []
  },
  {
   "cell_type": "code",
   "execution_count": 73,
   "metadata": {
    "collapsed": true,
    "deletable": true,
    "editable": true
   },
   "outputs": [],
   "source": [
    "def clean(x):\n",
    "    x = s.replace(\"-\", \"\")\n",
    "    x = x.replace(\" \", \"\")\n",
    "    x = x.replace(\"twenty four hour\", \"24\")\n",
    "    x = x.replace(\"24/7\", \"24\")\n",
    "    x = x.replace(\"24hr\", \"24\")\n",
    "    x = x.replace(\"24-hour\", \"24\")\n",
    "    x = x.replace(\"24hour\", \"24\")\n",
    "    x = x.replace(\"24 hour\", \"24\")\n",
    "    x = x.replace(\"common\", \"cm\")\n",
    "    x = x.replace(\"concierge\", \"doorman\")\n",
    "    x = x.replace(\"bicycle\", \"bike\")\n",
    "    x = x.replace(\"private\", \"pv\")\n",
    "    x = x.replace(\"deco\", \"dc\")\n",
    "    x = x.replace(\"decorative\", \"dc\")\n",
    "    x = x.replace(\"onsite\", \"os\")\n",
    "    x = x.replace(\"outdoor\", \"od\")\n",
    "    x = x.replace(\"ss appliances\", \"stainless\")\n",
    "    return x\n",
    "\n",
    "def feature_hash(x):\n",
    "    cleaned = clean(x, uniq)\n",
    "    key = cleaned[:4].strip()\n",
    "    return key"
   ]
  },
  {
   "cell_type": "code",
   "execution_count": 74,
   "metadata": {
    "collapsed": true,
    "deletable": true,
    "editable": true
   },
   "outputs": [],
   "source": [
    "key2original = defaultdict(list)\n",
    "k = 4\n",
    "for f in feature:\n",
    "    cleaned = clean(f)\n",
    "    key = cleaned[:k].strip()\n",
    "    key2original[key].append(f)"
   ]
  },
  {
   "cell_type": "markdown",
   "metadata": {
    "deletable": true,
    "editable": true
   },
   "source": [
    "Lets take a look at the dedups! Don't worry about the key, but just take a look at what values are in the same key"
   ]
  },
  {
   "cell_type": "code",
   "execution_count": 75,
   "metadata": {
    "collapsed": false,
    "deletable": true,
    "editable": true
   },
   "outputs": [
    {
     "data": {
      "text/plain": [
       "defaultdict(list,\n",
       "            {'$250': ['$250_security_deposit'],\n",
       "             '1_mo': ['1_month_free'],\n",
       "             '24_d': ['24-hour_doorman',\n",
       "              '24/7_concierge',\n",
       "              '24/7_doorman',\n",
       "              '24/7_doorman_concierge',\n",
       "              '24hr_doorman'],\n",
       "             '24_h': ['24_hour_concierge/doorman', '24_hour_doorman'],\n",
       "             '2_fu': ['2_full_baths'],\n",
       "             'a_fu': ['a_full_service_luxury_highrise'],\n",
       "             'actu': ['actual_apt._photos', 'actual_photos!'],\n",
       "             'air_': ['air_conditioning'],\n",
       "             'all_': ['all_pets_ok', 'all_utilities_included'],\n",
       "             'assi': ['assigned-parking-space'],\n",
       "             'atte': ['attended_lobby'],\n",
       "             'back': ['backyard'],\n",
       "             'balc': ['balcony'],\n",
       "             'base': ['basement_storage'],\n",
       "             'bask': ['basketball_court'],\n",
       "             'bike': ['bicycle_room', 'bike_room', 'bike_storage'],\n",
       "             'bill': ['billiards',\n",
       "              'billiards_room',\n",
       "              'billiards_table_and_wet_bar'],\n",
       "             'bran': ['brand_new'],\n",
       "             'brea': ['breakfast_bar'],\n",
       "             'brig': ['bright'],\n",
       "             'brow': ['brownstone'],\n",
       "             'buil': ['building-common-outdoor-space'],\n",
       "             'busi': ['business_center'],\n",
       "             'cabl': ['cable/satellite_tv', 'cable_ready'],\n",
       "             'call': ['call/text_abraham_caro_@_917-373-0862'],\n",
       "             'cats': ['cats_allowed'],\n",
       "             'cent': ['central_a/c',\n",
       "              'central_ac',\n",
       "              'central_air',\n",
       "              'central_heat'],\n",
       "             'chef': ['chefs_kitchen'],\n",
       "             'chil': [\"children's_playroom\",\n",
       "              'childrens_playroom',\n",
       "              'children\\xe2\\x80\\x99s_playroom'],\n",
       "             'cine': ['cinema_room'],\n",
       "             'city': ['city_view'],\n",
       "             'clos': ['close_to_subway',\n",
       "              'close_to_transit',\n",
       "              'closet_space',\n",
       "              'closets_galore!'],\n",
       "             'club': ['club_sun_deck_has_spectacular_city_and_river_views'],\n",
       "             'cm_b': ['common_backyard'],\n",
       "             'cm_g': ['common_garden'],\n",
       "             'cm_o': ['common_outdoor_space'],\n",
       "             'cm_p': ['common_parking/garage'],\n",
       "             'cm_r': ['common_roof_deck'],\n",
       "             'cm_s': ['common_storage'],\n",
       "             'cm_t': ['common_terrace'],\n",
       "             'cold': ['cold_storage'],\n",
       "             'comm': ['community_recreation_facilities'],\n",
       "             'comp': ['complimentary_continental_breakfast',\n",
       "              'complimentary_sunday_brunch'],\n",
       "             'cond': ['condo_finishes'],\n",
       "             'corn': ['corner_unit'],\n",
       "             'cour': ['courtyard'],\n",
       "             'crow': ['crown_moldings'],\n",
       "             'dc_b': ['deco_brick_wall', 'deco_brick_walls'],\n",
       "             'dc_f': ['deco_fireplace'],\n",
       "             'dcra': ['decorative_fireplace'],\n",
       "             'deck': ['deck'],\n",
       "             'dini': ['dining_room'],\n",
       "             'dipl': ['diplomats_ok'],\n",
       "             'dish': ['dish_washer', 'dishwasher'],\n",
       "             'dogs': ['dogs_allowed'],\n",
       "             'door': ['concierge', 'concierge_service', 'doorman'],\n",
       "             'dry_': ['dry_cleaning_service'],\n",
       "             'drye': ['dryer_in_unit'],\n",
       "             'dupl': ['duplex', 'duplex_lounge'],\n",
       "             'dw': ['dw'],\n",
       "             'eat_': ['eat_in_kitchen'],\n",
       "             'eati': ['eat-in_kitchen'],\n",
       "             'elec': ['electronic_rent_payment'],\n",
       "             'eleg': ['elegant_glass-enclosed_private_lounge_with_magnificent_river_views'],\n",
       "             'elev': ['elevator'],\n",
       "             'excl': ['exclusive'],\n",
       "             'exer': ['exercise/yoga_studio'],\n",
       "             'expo': ['exposed_brick'],\n",
       "             'extr': ['extra_room'],\n",
       "             'fire': ['fireplace', 'fireplaces'],\n",
       "             'fitn': ['fitness_center', 'fitness_facility', 'fitness_room'],\n",
       "             'flex': ['flex-2', 'flex-3'],\n",
       "             'free': ['free_wifi', 'free_wifi_in_club_lounge'],\n",
       "             'fren': ['french_doors'],\n",
       "             'ft_d': ['ft_doorman'],\n",
       "             'full': ['full-time_doorman',\n",
       "              'full_service_garage',\n",
       "              'fully-equipped_club_fitness_center',\n",
       "              'fully__equipped'],\n",
       "             'furn': ['furnished'],\n",
       "             'game': ['game_room'],\n",
       "             'gara': ['garage'],\n",
       "             'garb': ['garbage_disposal'],\n",
       "             'gard': ['garden', 'garden/patio'],\n",
       "             'gran': ['granite_counter_tops',\n",
       "              'granite_counters',\n",
       "              'granite_countertops',\n",
       "              'granite_kitchen'],\n",
       "             'gree': ['green_building'],\n",
       "             'guar': ['guarantors_accepted'],\n",
       "             'gut_': ['gut_renovated'],\n",
       "             'gym': ['gym'],\n",
       "             'gym/': ['gym/fitness'],\n",
       "             'gym_': ['gym_in_building'],\n",
       "             'hard': ['hardwood', 'hardwood_floor', 'hardwood_floors'],\n",
       "             'heal': ['health_club'],\n",
       "             'heat': ['heat/hot_water_included'],\n",
       "             'hi_r': ['hi_rise'],\n",
       "             'high': ['high-speed_internet',\n",
       "              'high_ceiling',\n",
       "              'high_ceilings',\n",
       "              'high_floor',\n",
       "              'high_speed_internet',\n",
       "              'high_speed_internet_available',\n",
       "              'highrise'],\n",
       "             'home': ['home_office'],\n",
       "             'hous': ['housekeeping_+_dry_cleaning_service',\n",
       "              'housekeeping_service'],\n",
       "             'indo': ['indoor_pool', 'indoor_swimming_pool'],\n",
       "             'inte': ['intercom'],\n",
       "             'inun': ['in-unit_washer/dryer'],\n",
       "             'jacu': ['jacuzzi'],\n",
       "             'king': ['king_sized_bedroom'],\n",
       "             'larg': ['large_living-room', 'large_living_room'],\n",
       "             'laun': ['laundry',\n",
       "              'laundry_&_housekeeping',\n",
       "              'laundry_in_building',\n",
       "              'laundry_in_unit',\n",
       "              'laundry_on_every_floor',\n",
       "              'laundry_on_floor',\n",
       "              'laundry_room'],\n",
       "             'ligh': ['light'],\n",
       "             'live': ['live-in_super',\n",
       "              'live-in_superintendent',\n",
       "              'live/work',\n",
       "              'live_in_super'],\n",
       "             'loft': ['loft'],\n",
       "             'loun': ['lounge', 'lounge_room'],\n",
       "             'low_': ['low_fee'],\n",
       "             'lowr': ['low-rise', 'lowrise'],\n",
       "             'luxu': ['luxury_building'],\n",
       "             'magn': ['magnificent_venetian-style'],\n",
       "             'mail': ['mail_room'],\n",
       "             'marb': ['marble_bath', 'marble_bathroom'],\n",
       "             'medi': ['media_room', 'media_screening_room'],\n",
       "             'micr': ['microwave'],\n",
       "             'midr': ['mid-rise', 'midrise'],\n",
       "             'mint': ['mint'],\n",
       "             'movi': ['movie_theater'],\n",
       "             'mult': ['multi-level', 'multi_level'],\n",
       "             'natu': ['natural_light'],\n",
       "             'new_': ['new_construction', 'new_kitchen'],\n",
       "             'newl': ['newly_renovated'],\n",
       "             'no_f': ['no_fee'],\n",
       "             'no_p': ['no_pets'],\n",
       "             'od_a': ['outdoor_areas'],\n",
       "             'od_b': ['outdoor_basketball_court'],\n",
       "             'od_e': ['outdoor_entertainment_space'],\n",
       "             'od_p': ['outdoor_pool'],\n",
       "             'od_r': ['outdoor_roof_deck_overlooking_new_york_harbor_and_battery_park'],\n",
       "             'od_s': ['outdoor_space'],\n",
       "             'od_t': ['outdoor_terrace'],\n",
       "             'one_': ['one_month_fee',\n",
       "              'one_month_free',\n",
       "              'one_month_free_rent'],\n",
       "             'os_a': ['on-site_atm',\n",
       "              'on-site_atm_machine',\n",
       "              'on-site_attended_garage'],\n",
       "             'os_g': ['on-site_garage'],\n",
       "             'os_l': ['on-site_laundry',\n",
       "              'on-site_lifestyle_concierge_by_luxury_attach\\xc3\\xa9'],\n",
       "             'os_p': ['on-site_parking',\n",
       "              'on-site_parking_available',\n",
       "              'on-site_parking_lot'],\n",
       "             'os_s': ['on-site_super'],\n",
       "             'pack': ['package_room', 'package_service'],\n",
       "             'park': ['park_view',\n",
       "              'parking',\n",
       "              'parking_available',\n",
       "              'parking_space'],\n",
       "             'part': ['part-time_doorman', 'party_room'],\n",
       "             'pati': ['patio'],\n",
       "             'pent': ['penthouse'],\n",
       "             'pet_': ['pet_friendly'],\n",
       "             'pets': ['pets',\n",
       "              'pets:_cats/small_dogs',\n",
       "              'pets_allowed',\n",
       "              'pets_on_approval'],\n",
       "             'play': ['playroom', 'playroom/nursery'],\n",
       "             'pool': ['pool'],\n",
       "             'post': ['post-war', 'post_war', 'postwar'],\n",
       "             'pre_': ['pre_war'],\n",
       "             'prew': ['pre-war', 'prewar'],\n",
       "             'publ': ['publicoutdoor'],\n",
       "             'pv_b': ['private_backyard', 'private_balcony'],\n",
       "             'pv_d': ['private_deck'],\n",
       "             'pv_g': ['private_garden'],\n",
       "             'pv_l': ['private_laundry_room_on_every_floor'],\n",
       "             'pv_o': ['private_outdoor_space'],\n",
       "             'pv_p': ['private_parking'],\n",
       "             'pv_r': ['private_roof_deck', 'private_roofdeck'],\n",
       "             'pv_s': ['private_storage'],\n",
       "             'pv_t': ['private_terrace'],\n",
       "             'pvba': ['private-balcony'],\n",
       "             'pvod': ['private-outdoor-space'],\n",
       "             'quee': ['queen_size_bedrooms',\n",
       "              'queen_sized_bedrooms',\n",
       "              'queen_sized_rooms'],\n",
       "             'rece': ['recessed_lighting'],\n",
       "             'redu': ['reduced_fee'],\n",
       "             'reno': ['renovated', 'renovated_kitchen'],\n",
       "             'resi': ['residents_garden', 'residents_lounge'],\n",
       "             'roof': ['roof',\n",
       "              'roof-deck',\n",
       "              'roof_access',\n",
       "              'roof_deck',\n",
       "              'roof_deck_with_grills',\n",
       "              'roof_decks',\n",
       "              'roofdeck',\n",
       "              'rooftop',\n",
       "              'rooftop_deck',\n",
       "              'rooftop_terrace'],\n",
       "             's/s_': ['s/s_appliances'],\n",
       "             'saun': ['sauna'],\n",
       "             'scre': ['screening_room'],\n",
       "             'sepa': ['separate_kitchen'],\n",
       "             'shar': ['share_ok',\n",
       "              'shared_backyard',\n",
       "              'shared_garden',\n",
       "              'shares_ok'],\n",
       "             'shor': ['short_term_allowed'],\n",
       "             'simp': ['simplex'],\n",
       "             'skyl': ['skylight',\n",
       "              'skylight_atrium',\n",
       "              'skylights',\n",
       "              'skyline_view'],\n",
       "             'sout': ['southern_exposure'],\n",
       "             'spa_': ['spa_services'],\n",
       "             'spac': ['spacious'],\n",
       "             'ss_a': ['ss_appliances'],\n",
       "             'stai': ['stainless_steel',\n",
       "              'stainless_steel_appliances',\n",
       "              'stainless_steel_kitchen'],\n",
       "             'stat': ['state-of-the-art_fitness_center'],\n",
       "             'stea': ['steam_room'],\n",
       "             'ston': ['stone_countertops'],\n",
       "             'stor': ['storage',\n",
       "              'storage_available',\n",
       "              'storage_facilities_available',\n",
       "              'storage_room',\n",
       "              'storage_space'],\n",
       "             'subl': ['sublet'],\n",
       "             'subw': ['subway'],\n",
       "             'sund': ['sundeck'],\n",
       "             'supe': ['super_on-site'],\n",
       "             'swim': ['swimming_pool'],\n",
       "             'tena': ['tenant_lounge'],\n",
       "             'terr': ['terrace', 'terraces_/_balconies'],\n",
       "             'tons': ['tons_of_natural_light'],\n",
       "             'town': ['townhouse'],\n",
       "             'trip': ['triplex'],\n",
       "             'twen': ['twenty-four_hour_concierge_and_doorman'],\n",
       "             'unas': ['unassigned_paid_parking_available_nearby'],\n",
       "             'unde': ['underground_parking'],\n",
       "             'util': ['utilities_included'],\n",
       "             'vale': ['valet',\n",
       "              'valet_laundry',\n",
       "              'valet_parking',\n",
       "              'valet_service',\n",
       "              'valet_services',\n",
       "              'valet_services_(housekeeping/dry_cleaning_available)',\n",
       "              'valet_services_including_dry_cleaning'],\n",
       "             'vene': ['venetian-style_lobby'],\n",
       "             'vide': ['video_intercom'],\n",
       "             'view': ['view'],\n",
       "             'virt': ['virtual_doorman', 'virtual_tour'],\n",
       "             'walk': ['walk-in_closet',\n",
       "              'walk-up',\n",
       "              'walk_in_closet',\n",
       "              'walk_in_closet(s)'],\n",
       "             'wash': ['washer/dryer',\n",
       "              'washer/dryer_hookup',\n",
       "              'washer/dryer_in-unit',\n",
       "              'washer/dryer_in_bldg',\n",
       "              'washer/dryer_in_building',\n",
       "              'washer/dryer_in_unit',\n",
       "              'washer_&_dryer',\n",
       "              'washer_in_unit'],\n",
       "             'wate': ['water_view'],\n",
       "             'whee': ['wheelchair_access', 'wheelchair_ramp'],\n",
       "             'wifi': ['wi-fi_access',\n",
       "              'wifi',\n",
       "              'wifi_access',\n",
       "              'wifi_in_resident_lounge'],\n",
       "             'wine': ['wine_cooler'],\n",
       "             'wood': ['wood-burning_fireplace'],\n",
       "             'work': ['working_fireplace'],\n",
       "             'yard': ['yard'],\n",
       "             'yoga': ['yoga_classes', 'yoga_room']})"
      ]
     },
     "execution_count": 75,
     "metadata": {},
     "output_type": "execute_result"
    }
   ],
   "source": [
    "key2original"
   ]
  },
  {
   "cell_type": "code",
   "execution_count": 36,
   "metadata": {
    "collapsed": true,
    "deletable": true,
    "editable": true
   },
   "outputs": [],
   "source": [
    "print(\"number of deduped features:\", len(key2original))\n",
    "print(\"number of old features:\", len(feature))"
   ]
  },
  {
   "cell_type": "markdown",
   "metadata": {
    "deletable": true,
    "editable": true
   },
   "source": [
    "In order to make this easier to use, I'll output this as a CSV of the original feature and the deduced string."
   ]
  },
  {
   "cell_type": "code",
   "execution_count": 45,
   "metadata": {
    "collapsed": true,
    "deletable": true,
    "editable": true
   },
   "outputs": [],
   "source": [
    "def to_tuples():\n",
    "    for f in feature:\n",
    "        key = clean(f)[:k].strip()\n",
    "        yield (f, key2original[key][0])\n",
    "        \n",
    "deduped = list(to_tuples())\n",
    "df = pd.DataFrame(deduped, columns=[\"original_feature\", \"unique_feature\"])"
   ]
  },
  {
   "cell_type": "code",
   "execution_count": 46,
   "metadata": {
    "collapsed": true,
    "deletable": true,
    "editable": true
   },
   "outputs": [],
   "source": [
    "df.head()"
   ]
  },
  {
   "cell_type": "code",
   "execution_count": 47,
   "metadata": {
    "collapsed": true,
    "deletable": true,
    "editable": true
   },
   "outputs": [],
   "source": [
    "df.to_csv(\"feature_deduplication.csv\", index=False)"
   ]
  },
  {
   "cell_type": "code",
   "execution_count": null,
   "metadata": {
    "collapsed": true,
    "deletable": true,
    "editable": true
   },
   "outputs": [],
   "source": []
  }
 ],
 "metadata": {
  "kernelspec": {
   "display_name": "Python 2",
   "language": "python",
   "name": "python2"
  },
  "language_info": {
   "codemirror_mode": {
    "name": "ipython",
    "version": 2
   },
   "file_extension": ".py",
   "mimetype": "text/x-python",
   "name": "python",
   "nbconvert_exporter": "python",
   "pygments_lexer": "ipython2",
   "version": "2.7.13"
  }
 },
 "nbformat": 4,
 "nbformat_minor": 0
}
