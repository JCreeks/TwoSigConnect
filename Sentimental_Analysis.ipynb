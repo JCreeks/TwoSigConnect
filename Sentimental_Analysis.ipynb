{
 "cells": [
  {
   "cell_type": "markdown",
   "metadata": {
    "deletable": true,
    "editable": true
   },
   "source": [
    "Description sentiment and image processing."
   ]
  },
  {
   "cell_type": "markdown",
   "metadata": {
    "deletable": true,
    "editable": true
   },
   "source": [
    "### Reading data"
   ]
  },
  {
   "cell_type": "code",
   "execution_count": 18,
   "metadata": {
    "collapsed": false,
    "deletable": true,
    "editable": true
   },
   "outputs": [],
   "source": [
    "import numpy as np # linear algebra\n",
    "import pandas as pd # data processing, CSV file I/O (e.g. pd.read_csv)\n",
    "import matplotlib.pyplot as plt\n",
    "from sklearn.cross_validation import train_test_split\n",
    "from sklearn import linear_model\n",
    "from sklearn.metrics import r2_score\n",
    "from sklearn.feature_selection import f_regression\n",
    "# import seaborn as sns\n",
    "from scipy.stats import pearsonr\n",
    "from PIL import Image"
   ]
  },
  {
   "cell_type": "code",
   "execution_count": 2,
   "metadata": {
    "collapsed": false,
    "deletable": true,
    "editable": true
   },
   "outputs": [],
   "source": [
    "df = pd.read_json('../input/train.json')\n",
    "# df.info()"
   ]
  },
  {
   "cell_type": "markdown",
   "metadata": {
    "deletable": true,
    "editable": true
   },
   "source": [
    "### Description sentiment\n",
    "Let's use nltk and Vader sentiment analyzer. It takes quite a while, so I will sample only a portion of the full dataset."
   ]
  },
  {
   "cell_type": "code",
   "execution_count": 3,
   "metadata": {
    "collapsed": false,
    "deletable": true,
    "editable": true
   },
   "outputs": [
    {
     "name": "stderr",
     "output_type": "stream",
     "text": [
      "/Library/Frameworks/Python.framework/Versions/2.7/lib/python2.7/site-packages/nltk/twitter/__init__.py:20: UserWarning: The twython library has not been installed. Some functionality from the twitter package will not be available.\n",
      "  warnings.warn(\"The twython library has not been installed. \"\n"
     ]
    }
   ],
   "source": [
    "from nltk.sentiment.vader import SentimentIntensityAnalyzer\n",
    "from nltk.tokenize import sent_tokenize\n"
   ]
  },
  {
   "cell_type": "code",
   "execution_count": 4,
   "metadata": {
    "collapsed": false,
    "deletable": true,
    "editable": true
   },
   "outputs": [],
   "source": [
    "import nltk\n",
    "#nltk.download('all')"
   ]
  },
  {
   "cell_type": "code",
   "execution_count": 20,
   "metadata": {
    "collapsed": false,
    "deletable": true,
    "editable": true,
    "scrolled": true
   },
   "outputs": [],
   "source": [
    "def description_sentiment(sentences):\n",
    "    analyzer = SentimentIntensityAnalyzer()\n",
    "    result = []\n",
    "    for sentence in sentences:\n",
    "        vs = analyzer.polarity_scores(sentence)\n",
    "        result.append(vs)\n",
    "    return pd.DataFrame(result).mean()\n",
    "sdf = df.sample(5000,random_state=11)\n",
    "sdf['description_tokens'] = sdf['description'].apply(sent_tokenize)\n",
    "sdf = pd.concat([sdf,sdf['description_tokens'].apply(description_sentiment)],axis=1)"
   ]
  },
  {
   "cell_type": "code",
   "execution_count": 12,
   "metadata": {
    "collapsed": true
   },
   "outputs": [
    {
     "data": {
      "text/html": [
       "<div>\n",
       "<table border=\"1\" class=\"dataframe\">\n",
       "  <thead>\n",
       "    <tr style=\"text-align: right;\">\n",
       "      <th></th>\n",
       "      <th>bathrooms</th>\n",
       "      <th>bedrooms</th>\n",
       "      <th>building_id</th>\n",
       "      <th>created</th>\n",
       "      <th>description</th>\n",
       "      <th>display_address</th>\n",
       "      <th>features</th>\n",
       "      <th>interest_level</th>\n",
       "      <th>latitude</th>\n",
       "      <th>listing_id</th>\n",
       "      <th>longitude</th>\n",
       "      <th>manager_id</th>\n",
       "      <th>photos</th>\n",
       "      <th>price</th>\n",
       "      <th>street_address</th>\n",
       "      <th>description_tokens</th>\n",
       "      <th>compound</th>\n",
       "      <th>neg</th>\n",
       "      <th>neu</th>\n",
       "      <th>pos</th>\n",
       "    </tr>\n",
       "  </thead>\n",
       "  <tbody>\n",
       "    <tr>\n",
       "      <th>2191</th>\n",
       "      <td>1.0</td>\n",
       "      <td>1</td>\n",
       "      <td>1932a605b95481fb3b0f82c5f1978c1b</td>\n",
       "      <td>2016-06-26 04:07:37</td>\n",
       "      <td>This is the place to be if you want some excit...</td>\n",
       "      <td>Clinton Street</td>\n",
       "      <td>[Dining Room, Hardwood Floors, Dogs Allowed, C...</td>\n",
       "      <td>medium</td>\n",
       "      <td>40.7197</td>\n",
       "      <td>7219225</td>\n",
       "      <td>-73.9849</td>\n",
       "      <td>d23f9a9e6b9f6003f26017bda6dd1cb2</td>\n",
       "      <td>[https://photos.renthop.com/2/7219225_77a07385...</td>\n",
       "      <td>2090</td>\n",
       "      <td>55 Clinton Street</td>\n",
       "      <td>[This is the place to be if you want some exci...</td>\n",
       "      <td>0.251357</td>\n",
       "      <td>0.000000</td>\n",
       "      <td>0.892429</td>\n",
       "      <td>0.107571</td>\n",
       "    </tr>\n",
       "    <tr>\n",
       "      <th>78497</th>\n",
       "      <td>1.0</td>\n",
       "      <td>1</td>\n",
       "      <td>2787598123c55dbf45b514958909c79c</td>\n",
       "      <td>2016-05-21 05:28:11</td>\n",
       "      <td>*****AVAILABLE NOW***MUST SEE***PRIME LOCATION...</td>\n",
       "      <td>W 42nd St</td>\n",
       "      <td>[Swimming Pool, Dining Room, Doorman, Elevator...</td>\n",
       "      <td>low</td>\n",
       "      <td>40.7610</td>\n",
       "      <td>7049630</td>\n",
       "      <td>-73.9990</td>\n",
       "      <td>54bf50a3e709c0bd499f9fdca5826147</td>\n",
       "      <td>[https://photos.renthop.com/2/7049630_39409c9f...</td>\n",
       "      <td>3590</td>\n",
       "      <td>620 W 42nd St</td>\n",
       "      <td>[*****AVAILABLE NOW***MUST SEE***PRIME LOCATIO...</td>\n",
       "      <td>0.871850</td>\n",
       "      <td>0.000000</td>\n",
       "      <td>0.911500</td>\n",
       "      <td>0.088500</td>\n",
       "    </tr>\n",
       "    <tr>\n",
       "      <th>17732</th>\n",
       "      <td>1.0</td>\n",
       "      <td>1</td>\n",
       "      <td>0de97434d3c89fde23d42429f5867ae0</td>\n",
       "      <td>2016-06-02 06:59:59</td>\n",
       "      <td>This spacious true 1 bedroom unit features bea...</td>\n",
       "      <td>West Street</td>\n",
       "      <td>[Doorman, Elevator, Fitness Center, Laundry in...</td>\n",
       "      <td>high</td>\n",
       "      <td>40.7069</td>\n",
       "      <td>7099695</td>\n",
       "      <td>-74.0157</td>\n",
       "      <td>56d5b16222f138a23725efa0baee9889</td>\n",
       "      <td>[https://photos.renthop.com/2/7099695_11aeaf97...</td>\n",
       "      <td>2500</td>\n",
       "      <td>20 West Street</td>\n",
       "      <td>[This spacious true 1 bedroom unit features be...</td>\n",
       "      <td>0.461225</td>\n",
       "      <td>0.006000</td>\n",
       "      <td>0.853000</td>\n",
       "      <td>0.141000</td>\n",
       "    </tr>\n",
       "    <tr>\n",
       "      <th>68497</th>\n",
       "      <td>1.0</td>\n",
       "      <td>1</td>\n",
       "      <td>f9fcf771a66999dab0500eaec81f9dd6</td>\n",
       "      <td>2016-05-06 06:01:06</td>\n",
       "      <td>88TH STREET! GORGEOUS 1 BEDROOM WITH GREAT FIN...</td>\n",
       "      <td>East 88th Street</td>\n",
       "      <td>[Dishwasher, Hardwood Floors, No Fee]</td>\n",
       "      <td>medium</td>\n",
       "      <td>40.7773</td>\n",
       "      <td>6976051</td>\n",
       "      <td>-73.9469</td>\n",
       "      <td>cb87dadbca78fad02b388dc9e8f25a5b</td>\n",
       "      <td>[https://photos.renthop.com/2/6976051_55b8c0c1...</td>\n",
       "      <td>2600</td>\n",
       "      <td>444 East 88th Street</td>\n",
       "      <td>[88TH STREET!, GORGEOUS 1 BEDROOM WITH GREAT F...</td>\n",
       "      <td>0.205279</td>\n",
       "      <td>0.007643</td>\n",
       "      <td>0.837714</td>\n",
       "      <td>0.154643</td>\n",
       "    </tr>\n",
       "    <tr>\n",
       "      <th>107259</th>\n",
       "      <td>1.0</td>\n",
       "      <td>1</td>\n",
       "      <td>0</td>\n",
       "      <td>2016-04-22 01:18:44</td>\n",
       "      <td></td>\n",
       "      <td>North 10th Street</td>\n",
       "      <td>[Swimming Pool, Doorman, Fitness Center, Dogs ...</td>\n",
       "      <td>low</td>\n",
       "      <td>40.7176</td>\n",
       "      <td>6909240</td>\n",
       "      <td>-73.9531</td>\n",
       "      <td>f45a2445c177379cd795189950ebba4f</td>\n",
       "      <td>[]</td>\n",
       "      <td>3343</td>\n",
       "      <td>250 North 10th Street</td>\n",
       "      <td>[]</td>\n",
       "      <td>NaN</td>\n",
       "      <td>NaN</td>\n",
       "      <td>NaN</td>\n",
       "      <td>NaN</td>\n",
       "    </tr>\n",
       "  </tbody>\n",
       "</table>\n",
       "</div>"
      ],
      "text/plain": [
       "        bathrooms  bedrooms                       building_id  \\\n",
       "2191          1.0         1  1932a605b95481fb3b0f82c5f1978c1b   \n",
       "78497         1.0         1  2787598123c55dbf45b514958909c79c   \n",
       "17732         1.0         1  0de97434d3c89fde23d42429f5867ae0   \n",
       "68497         1.0         1  f9fcf771a66999dab0500eaec81f9dd6   \n",
       "107259        1.0         1                                 0   \n",
       "\n",
       "                    created  \\\n",
       "2191    2016-06-26 04:07:37   \n",
       "78497   2016-05-21 05:28:11   \n",
       "17732   2016-06-02 06:59:59   \n",
       "68497   2016-05-06 06:01:06   \n",
       "107259  2016-04-22 01:18:44   \n",
       "\n",
       "                                              description    display_address  \\\n",
       "2191    This is the place to be if you want some excit...     Clinton Street   \n",
       "78497   *****AVAILABLE NOW***MUST SEE***PRIME LOCATION...          W 42nd St   \n",
       "17732   This spacious true 1 bedroom unit features bea...        West Street   \n",
       "68497   88TH STREET! GORGEOUS 1 BEDROOM WITH GREAT FIN...   East 88th Street   \n",
       "107259                                                     North 10th Street   \n",
       "\n",
       "                                                 features interest_level  \\\n",
       "2191    [Dining Room, Hardwood Floors, Dogs Allowed, C...         medium   \n",
       "78497   [Swimming Pool, Dining Room, Doorman, Elevator...            low   \n",
       "17732   [Doorman, Elevator, Fitness Center, Laundry in...           high   \n",
       "68497               [Dishwasher, Hardwood Floors, No Fee]         medium   \n",
       "107259  [Swimming Pool, Doorman, Fitness Center, Dogs ...            low   \n",
       "\n",
       "        latitude  listing_id  longitude                        manager_id  \\\n",
       "2191     40.7197     7219225   -73.9849  d23f9a9e6b9f6003f26017bda6dd1cb2   \n",
       "78497    40.7610     7049630   -73.9990  54bf50a3e709c0bd499f9fdca5826147   \n",
       "17732    40.7069     7099695   -74.0157  56d5b16222f138a23725efa0baee9889   \n",
       "68497    40.7773     6976051   -73.9469  cb87dadbca78fad02b388dc9e8f25a5b   \n",
       "107259   40.7176     6909240   -73.9531  f45a2445c177379cd795189950ebba4f   \n",
       "\n",
       "                                                   photos  price  \\\n",
       "2191    [https://photos.renthop.com/2/7219225_77a07385...   2090   \n",
       "78497   [https://photos.renthop.com/2/7049630_39409c9f...   3590   \n",
       "17732   [https://photos.renthop.com/2/7099695_11aeaf97...   2500   \n",
       "68497   [https://photos.renthop.com/2/6976051_55b8c0c1...   2600   \n",
       "107259                                                 []   3343   \n",
       "\n",
       "               street_address  \\\n",
       "2191        55 Clinton Street   \n",
       "78497           620 W 42nd St   \n",
       "17732          20 West Street   \n",
       "68497    444 East 88th Street   \n",
       "107259  250 North 10th Street   \n",
       "\n",
       "                                       description_tokens  compound       neg  \\\n",
       "2191    [This is the place to be if you want some exci...  0.251357  0.000000   \n",
       "78497   [*****AVAILABLE NOW***MUST SEE***PRIME LOCATIO...  0.871850  0.000000   \n",
       "17732   [This spacious true 1 bedroom unit features be...  0.461225  0.006000   \n",
       "68497   [88TH STREET!, GORGEOUS 1 BEDROOM WITH GREAT F...  0.205279  0.007643   \n",
       "107259                                                 []       NaN       NaN   \n",
       "\n",
       "             neu       pos  \n",
       "2191    0.892429  0.107571  \n",
       "78497   0.911500  0.088500  \n",
       "17732   0.853000  0.141000  \n",
       "68497   0.837714  0.154643  \n",
       "107259       NaN       NaN  "
      ]
     },
     "execution_count": 12,
     "metadata": {},
     "output_type": "execute_result"
    }
   ],
   "source": [
    "sdf.head(5)"
   ]
  },
  {
   "cell_type": "code",
   "execution_count": 21,
   "metadata": {
    "collapsed": false,
    "deletable": true,
    "editable": true
   },
   "outputs": [],
   "source": [
    "tmp=sdf['neg']\n",
    "sdf=sdf[~pd.isnull(tmp)]\n",
    "interest_level_map = {'low': 0, 'medium': 1, 'high': 2}\n",
    "sdf['interest_level'] = sdf['interest_level'].apply(lambda x: interest_level_map[x])"
   ]
  },
  {
   "cell_type": "code",
   "execution_count": 22,
   "metadata": {
    "collapsed": false,
    "deletable": true,
    "editable": true
   },
   "outputs": [
    {
     "data": {
      "text/plain": [
       "0.00012812028196351744"
      ]
     },
     "execution_count": 22,
     "metadata": {},
     "output_type": "execute_result"
    }
   ],
   "source": [
    "X = sdf[['neg','neu']]\n",
    "y = sdf[\"interest_level\"]\n",
    "X_train, X_val, y_train, y_val = train_test_split(X, y, test_size=0.33)\n",
    "\n",
    "model=linear_model.LinearRegression()\n",
    "model.fit(X_train,y_train)\n",
    "y_pred=model.predict(X_val)\n",
    "r2_score(y_val,y_pred)"
   ]
  },
  {
   "cell_type": "code",
   "execution_count": 23,
   "metadata": {
    "collapsed": false
   },
   "outputs": [
    {
     "data": {
      "text/plain": [
       "(array([ 4.40256428,  4.64491071]), array([ 0.03596508,  0.03122196]))"
      ]
     },
     "execution_count": 23,
     "metadata": {},
     "output_type": "execute_result"
    }
   ],
   "source": [
    "f_regression(X_train, y_train)"
   ]
  },
  {
   "cell_type": "code",
   "execution_count": 24,
   "metadata": {
    "collapsed": true,
    "deletable": true,
    "editable": true
   },
   "outputs": [],
   "source": [
    "df['description_tokens'] = df['description'].apply(sent_tokenize)\n",
    "df = pd.concat([df,df['description_tokens'].apply(description_sentiment)],axis=1)\n",
    "df[['neg','neu','pos']].to_csv(\"sentimentFeatureAdded.csv\", index = False, header = True)"
   ]
  },
  {
   "cell_type": "code",
   "execution_count": null,
   "metadata": {
    "collapsed": true,
    "deletable": true,
    "editable": true
   },
   "outputs": [],
   "source": [
    "fig, (ax1, ax2, ax3, ax4) = plt.subplots(nrows=4, sharex=True,figsize=(8,16))\n",
    "sns.violinplot(x=\"interest_level\",y=\"compound\",data=sdf,ax=ax1,order =['low','medium','high'])\n",
    "sns.violinplot(x=\"interest_level\",y=\"neg\",data=sdf,ax=ax2)\n",
    "sns.violinplot(x=\"interest_level\",y=\"pos\",data=sdf,ax=ax3)\n",
    "sns.violinplot(x=\"interest_level\",y=\"neu\",data=sdf,ax=ax4)"
   ]
  },
  {
   "cell_type": "markdown",
   "metadata": {
    "deletable": true,
    "editable": true
   },
   "source": [
    "### Photo properties"
   ]
  },
  {
   "cell_type": "markdown",
   "metadata": {
    "deletable": true,
    "editable": true
   },
   "source": [
    "Let's also explore the possible correlations between features and simple high-level properties of images without going into NN. Let's look at the number of images, image size, brightness, hue and saturation."
   ]
  },
  {
   "cell_type": "code",
   "execution_count": null,
   "metadata": {
    "collapsed": true,
    "deletable": true,
    "editable": true
   },
   "outputs": [],
   "source": [
    "# Get available images\n",
    "from subprocess import check_output\n",
    "images = [int(x) for x in check_output([\"ls\", \"../input/images_sample\"]).decode(\"utf8\").strip().split('\\n')]\n",
    "\n",
    "# Read the train set and choose those which have images only\n",
    "df = df[df.listing_id.isin(images)]\n",
    "print(df.shape)\n",
    "\n",
    "# Add number of images\n",
    "df['n_images'] = df.apply(lambda x: len(x['photos']), axis=1)"
   ]
  },
  {
   "cell_type": "code",
   "execution_count": null,
   "metadata": {
    "collapsed": true,
    "deletable": true,
    "editable": true
   },
   "outputs": [],
   "source": [
    "# this is what we are after\n",
    "check_output([\"ls\", \"../input/images_sample/6812223\"]).decode(\"utf8\").strip().split('\\n')"
   ]
  },
  {
   "cell_type": "code",
   "execution_count": null,
   "metadata": {
    "collapsed": true,
    "deletable": true,
    "editable": true
   },
   "outputs": [],
   "source": [
    "#function to process one image\n",
    "def process_image(path):\n",
    "    path = '../input/images_sample/'+path[0:7]+'/'+path\n",
    "    im = np.array(Image.open(path))\n",
    "\n",
    "    #get dims\n",
    "    width = im.shape[1]\n",
    "    height = im.shape[0]\n",
    "    \n",
    "    #flatten image\n",
    "    im = im.transpose(2,0,1).reshape(3,-1)\n",
    "   \n",
    "    \n",
    "    #brightness is simple, assign 1 if zero to avoid divide\n",
    "    brg = np.amax(im,axis=0)\n",
    "    brg[brg==0] = 1\n",
    "    \n",
    "    #hue, same, assign 1 if zero, not working atm due to arccos\n",
    "    denom = np.sqrt((im[0]-im[1])**2-(im[0]-im[2])*(im[1]-im[2]))\n",
    "    denom[denom==0] = 1\n",
    "    #hue = np.arccos(0.5*(2*im[0]-im[1]-im[2])/denom)\n",
    "    \n",
    "    #saturation\n",
    "    sat = (brg - np.amin(im,axis=0))/brg\n",
    "    \n",
    "    #return mean values\n",
    "    return width,height,np.mean(brg),np.mean(sat)"
   ]
  },
  {
   "cell_type": "code",
   "execution_count": null,
   "metadata": {
    "collapsed": true,
    "deletable": true,
    "editable": true
   },
   "outputs": [],
   "source": [
    "#second helper function - process a row of a dataset\n",
    "#return mean of each property for all images\n",
    "def process_row(row):\n",
    "    images = check_output([\"ls\", \"../input/images_sample/\"+str(row.listing_id)]).decode(\"utf8\").strip().split('\\n')\n",
    "    res = np.array([process_image(x) for x in images])\n",
    "    res = np.mean(res,axis=0)\n",
    "    row['img_width'] = res[0]\n",
    "    row['img_height'] = res[1]\n",
    "    row['img_brightness'] = res[2]\n",
    "    row['img_saturation'] = res[3]\n",
    "    return row"
   ]
  },
  {
   "cell_type": "code",
   "execution_count": null,
   "metadata": {
    "collapsed": true,
    "deletable": true,
    "editable": true
   },
   "outputs": [],
   "source": [
    "#Now we can process the dataset\n",
    "df = df.apply(lambda row: process_row(row),axis=1)"
   ]
  },
  {
   "cell_type": "code",
   "execution_count": null,
   "metadata": {
    "collapsed": true,
    "deletable": true,
    "editable": true
   },
   "outputs": [],
   "source": [
    "#Some plots\n",
    "d = df[['img_width','n_images','img_height','img_brightness','img_saturation','interest_level']]\n",
    "sns.pairplot(d, hue=\"interest_level\",size=1.5)"
   ]
  },
  {
   "cell_type": "markdown",
   "metadata": {
    "deletable": true,
    "editable": true
   },
   "source": [
    "Looks like it is all over the place, so it is unlikely to be a good feature. It is easy to calculate so perhaps still worth a try on a full image dataset."
   ]
  }
 ],
 "metadata": {
  "kernelspec": {
   "display_name": "Python 2",
   "language": "python",
   "name": "python2"
  },
  "language_info": {
   "codemirror_mode": {
    "name": "ipython",
    "version": 2
   },
   "file_extension": ".py",
   "mimetype": "text/x-python",
   "name": "python",
   "nbconvert_exporter": "python",
   "pygments_lexer": "ipython2",
   "version": "2.7.13"
  }
 },
 "nbformat": 4,
 "nbformat_minor": 0
}
